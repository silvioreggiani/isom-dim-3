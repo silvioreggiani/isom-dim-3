{
 "cells": [
  {
   "cell_type": "code",
   "execution_count": 1,
   "id": "iraqi-account",
   "metadata": {},
   "outputs": [],
   "source": [
    "%display latex\n",
    "import sympy\n",
    "Parallelism().set(nproc=8)"
   ]
  },
  {
   "cell_type": "markdown",
   "id": "33e9617c",
   "metadata": {},
   "source": [
    "We are using SageMath version 9.2 or later"
   ]
  },
  {
   "cell_type": "code",
   "execution_count": 2,
   "id": "015b9093",
   "metadata": {},
   "outputs": [
    {
     "data": {
      "text/html": [
       "<html>\\[\\newcommand{\\Bold}[1]{\\mathbf{#1}}\\verb|SageMath|\\phantom{\\verb!x!}\\verb|version|\\phantom{\\verb!x!}\\verb|9.4,|\\phantom{\\verb!x!}\\verb|Release|\\phantom{\\verb!x!}\\verb|Date:|\\phantom{\\verb!x!}\\verb|2021-08-22|\\]</html>"
      ],
      "text/latex": [
       "$$\\newcommand{\\Bold}[1]{\\mathbf{#1}}\\verb|SageMath|\\phantom{\\verb!x!}\\verb|version|\\phantom{\\verb!x!}\\verb|9.4,|\\phantom{\\verb!x!}\\verb|Release|\\phantom{\\verb!x!}\\verb|Date:|\\phantom{\\verb!x!}\\verb|2021-08-22|$$"
      ],
      "text/plain": [
       "'SageMath version 9.4, Release Date: 2021-08-22'"
      ]
     },
     "execution_count": 2,
     "metadata": {},
     "output_type": "execute_result"
    }
   ],
   "source": [
    "version()"
   ]
  },
  {
   "cell_type": "markdown",
   "id": "424feeed",
   "metadata": {},
   "source": [
    "In this notebook we give examples on how to use the class `non_unimod_dim_3` and its methods. In particular, we verify the good definition of the Lie group product in the corresponding 3-dimensional Lie groups. Recall that we use different algorithms for symbolic simplification, according to differents values of the parameter $c$."
   ]
  },
  {
   "cell_type": "code",
   "execution_count": 3,
   "id": "christian-breakdown",
   "metadata": {},
   "outputs": [],
   "source": [
    "load(\"non_unimod_dim_3.sage\")"
   ]
  },
  {
   "cell_type": "markdown",
   "id": "logical-dining",
   "metadata": {},
   "source": [
    "Explicar que hay en `non_unimod_dim_r.sage` y por qué ponemos los siguientes ejemplos"
   ]
  },
  {
   "cell_type": "markdown",
   "id": "expired-alliance",
   "metadata": {},
   "source": [
    "# 1. Structure coefficients\n",
    "\n",
    "We check that the left invariant vector fields $L_0, L_1, L_2$ defined by `.frame_left_int()` satisfy the bracket relations\n",
    "\\begin{align*}\n",
    "[L_0, L_1] &= 0 \\\\\n",
    "[L_2, L_0] &= L_1 \\\\\n",
    "[L_2, L_1] &= -c L_0 + 2 \\, L_1\n",
    "\\end{align*}"
   ]
  },
  {
   "cell_type": "markdown",
   "id": "rapid-valley",
   "metadata": {},
   "source": [
    "## 1.1. Case $c = 1$"
   ]
  },
  {
   "cell_type": "code",
   "execution_count": 4,
   "id": "removed-glory",
   "metadata": {},
   "outputs": [
    {
     "name": "stderr",
     "output_type": "stream",
     "text": [
      "<string>:98: DeprecationWarning: \n",
      "Importing RealLine from here is deprecated. If you need to use it, please import it directly from sage.manifolds.differentiable.examples.real_line\n",
      "See https://trac.sagemath.org/31881 for details.\n"
     ]
    },
    {
     "data": {
      "text/html": [
       "<html>\\[\\newcommand{\\Bold}[1]{\\mathbf{#1}}\\left[L_{0},L_{1}\\right] = 0\\]</html>"
      ],
      "text/latex": [
       "$$\\newcommand{\\Bold}[1]{\\mathbf{#1}}\\left[L_{0},L_{1}\\right] = 0$$"
      ],
      "text/plain": [
       "[L_0,L_1] = 0"
      ]
     },
     "metadata": {},
     "output_type": "display_data"
    },
    {
     "data": {
      "text/html": [
       "<html>\\[\\newcommand{\\Bold}[1]{\\mathbf{#1}}\\left[L_{2},L_{0}\\right] = L_{1}\\]</html>"
      ],
      "text/latex": [
       "$$\\newcommand{\\Bold}[1]{\\mathbf{#1}}\\left[L_{2},L_{0}\\right] = L_{1}$$"
      ],
      "text/plain": [
       "[L_2,L_0] = L_1"
      ]
     },
     "metadata": {},
     "output_type": "display_data"
    },
    {
     "data": {
      "text/html": [
       "<html>\\[\\newcommand{\\Bold}[1]{\\mathbf{#1}}\\left[L_{2},L_{1}\\right] = -L_{0} + 2 L_{1}\\]</html>"
      ],
      "text/latex": [
       "$$\\newcommand{\\Bold}[1]{\\mathbf{#1}}\\left[L_{2},L_{1}\\right] = -L_{0} + 2 L_{1}$$"
      ],
      "text/plain": [
       "[L_2,L_1] = -L_0 + 2 L_1"
      ]
     },
     "metadata": {},
     "output_type": "display_data"
    }
   ],
   "source": [
    "G = non_unimod_dim_3('G_1', 1)\n",
    "L = G.frame_left_inv()\n",
    "L0, L1, L2 = L\n",
    "R = G.frame_right_inv()\n",
    "R0, R1, R2 = R\n",
    "display(L0.bracket(L1).display(L))\n",
    "display(L2.bracket(L0).display(L))\n",
    "display(L2.bracket(L1).display(L))"
   ]
  },
  {
   "cell_type": "markdown",
   "id": "flush-south",
   "metadata": {},
   "source": [
    "## 1.2. Case $c < 1$"
   ]
  },
  {
   "cell_type": "code",
   "execution_count": 5,
   "id": "blond-industry",
   "metadata": {},
   "outputs": [],
   "source": [
    "c = var(\"c\")\n",
    "assume(c<1)"
   ]
  },
  {
   "cell_type": "code",
   "execution_count": 6,
   "id": "hungarian-mexico",
   "metadata": {},
   "outputs": [
    {
     "data": {
      "text/html": [
       "<html>\\[\\newcommand{\\Bold}[1]{\\mathbf{#1}}\\left[L_{0},L_{1}\\right] = 0\\]</html>"
      ],
      "text/latex": [
       "$$\\newcommand{\\Bold}[1]{\\mathbf{#1}}\\left[L_{0},L_{1}\\right] = 0$$"
      ],
      "text/plain": [
       "[L_0,L_1] = 0"
      ]
     },
     "metadata": {},
     "output_type": "display_data"
    },
    {
     "data": {
      "text/html": [
       "<html>\\[\\newcommand{\\Bold}[1]{\\mathbf{#1}}\\left[L_{2},L_{0}\\right] = L_{1}\\]</html>"
      ],
      "text/latex": [
       "$$\\newcommand{\\Bold}[1]{\\mathbf{#1}}\\left[L_{2},L_{0}\\right] = L_{1}$$"
      ],
      "text/plain": [
       "[L_2,L_0] = L_1"
      ]
     },
     "metadata": {},
     "output_type": "display_data"
    },
    {
     "data": {
      "text/html": [
       "<html>\\[\\newcommand{\\Bold}[1]{\\mathbf{#1}}\\left[L_{2},L_{1}\\right] = -c L_{0} + 2 L_{1}\\]</html>"
      ],
      "text/latex": [
       "$$\\newcommand{\\Bold}[1]{\\mathbf{#1}}\\left[L_{2},L_{1}\\right] = -c L_{0} + 2 L_{1}$$"
      ],
      "text/plain": [
       "[L_2,L_1] = -c L_0 + 2 L_1"
      ]
     },
     "metadata": {},
     "output_type": "display_data"
    }
   ],
   "source": [
    "G = non_unimod_dim_3('G_c', c)\n",
    "L = G.frame_left_inv()\n",
    "L0, L1, L2 = L\n",
    "R = G.frame_right_inv()\n",
    "R0, R1, R2 = R\n",
    "display(L0.bracket(L1).display(L))\n",
    "display(L2.bracket(L0).display(L))\n",
    "display(L2.bracket(L1).display(L))"
   ]
  },
  {
   "cell_type": "markdown",
   "id": "equal-planner",
   "metadata": {},
   "source": [
    "## 1.2. Case $c > 1$"
   ]
  },
  {
   "cell_type": "code",
   "execution_count": 7,
   "id": "postal-russian",
   "metadata": {},
   "outputs": [],
   "source": [
    "forget()\n",
    "c = var(\"c\")\n",
    "assume(c>1)"
   ]
  },
  {
   "cell_type": "code",
   "execution_count": 8,
   "id": "communist-capture",
   "metadata": {},
   "outputs": [
    {
     "data": {
      "text/html": [
       "<html>\\[\\newcommand{\\Bold}[1]{\\mathbf{#1}}\\left[L_{0},L_{1}\\right] = 0\\]</html>"
      ],
      "text/latex": [
       "$$\\newcommand{\\Bold}[1]{\\mathbf{#1}}\\left[L_{0},L_{1}\\right] = 0$$"
      ],
      "text/plain": [
       "[L_0,L_1] = 0"
      ]
     },
     "metadata": {},
     "output_type": "display_data"
    },
    {
     "data": {
      "text/html": [
       "<html>\\[\\newcommand{\\Bold}[1]{\\mathbf{#1}}\\left[L_{2},L_{0}\\right] = L_{1}\\]</html>"
      ],
      "text/latex": [
       "$$\\newcommand{\\Bold}[1]{\\mathbf{#1}}\\left[L_{2},L_{0}\\right] = L_{1}$$"
      ],
      "text/plain": [
       "[L_2,L_0] = L_1"
      ]
     },
     "metadata": {},
     "output_type": "display_data"
    },
    {
     "data": {
      "text/html": [
       "<html>\\[\\newcommand{\\Bold}[1]{\\mathbf{#1}}\\left[L_{2},L_{1}\\right] = -c L_{0} + 2 L_{1}\\]</html>"
      ],
      "text/latex": [
       "$$\\newcommand{\\Bold}[1]{\\mathbf{#1}}\\left[L_{2},L_{1}\\right] = -c L_{0} + 2 L_{1}$$"
      ],
      "text/plain": [
       "[L_2,L_1] = -c L_0 + 2 L_1"
      ]
     },
     "metadata": {},
     "output_type": "display_data"
    }
   ],
   "source": [
    "G = non_unimod_dim_3('G_c', c)\n",
    "L = G.frame_left_inv()\n",
    "L0, L1, L2 = L\n",
    "R = G.frame_right_inv()\n",
    "R0, R1, R2 = R\n",
    "display(L0.bracket(L1).display(L))\n",
    "display(L2.bracket(L0).display(L))\n",
    "display(L2.bracket(L1).display(L))"
   ]
  },
  {
   "cell_type": "markdown",
   "id": "soviet-twenty",
   "metadata": {},
   "source": [
    "# 2. Lie group structure\n",
    "\n",
    "For $a, b \\in G_1$ we denote by $L_a$ and $L_b$ the left translations by $a$ and $b$, respectively. The Lie product is then computed by\n",
    "$$\n",
    "ab = L_a(b)\n",
    "$$\n",
    "and the associativity property is equivalent to \n",
    "$$\n",
    "L_a \\circ L_b = L_{ab}.\n",
    "$$"
   ]
  },
  {
   "cell_type": "markdown",
   "id": "fleet-massage",
   "metadata": {},
   "source": [
    "## 2.1. Case $c = 1$"
   ]
  },
  {
   "cell_type": "code",
   "execution_count": 9,
   "id": "satisfied-crown",
   "metadata": {},
   "outputs": [],
   "source": [
    "forget()\n",
    "G = non_unimod_dim_3('G_1', 1)\n",
    "a0,a1,a2,b0,b1,b2 = var('a0,a1,a2,b0,b1,b2')\n",
    "a = G.manifold.point((a0,a1,a2))\n",
    "b = G.manifold.point((b0,b1,b2))\n",
    "La = G.left_translation(a)\n",
    "Lb = G.left_translation(b)\n",
    "Lab = G.left_translation(La(b))\n",
    "LaoLb = La.pre_compose(Lb)"
   ]
  },
  {
   "cell_type": "code",
   "execution_count": 10,
   "id": "based-discharge",
   "metadata": {},
   "outputs": [
    {
     "data": {
      "text/html": [
       "<html>\\[\\newcommand{\\Bold}[1]{\\mathbf{#1}}\\mathrm{True}\\]</html>"
      ],
      "text/latex": [
       "$$\\newcommand{\\Bold}[1]{\\mathbf{#1}}\\mathrm{True}$$"
      ],
      "text/plain": [
       "True"
      ]
     },
     "execution_count": 10,
     "metadata": {},
     "output_type": "execute_result"
    }
   ],
   "source": [
    "Lab == LaoLb"
   ]
  },
  {
   "cell_type": "markdown",
   "id": "federal-spouse",
   "metadata": {},
   "source": [
    "## 2.2. Case $c < 1$"
   ]
  },
  {
   "cell_type": "code",
   "execution_count": 11,
   "id": "nominated-generation",
   "metadata": {},
   "outputs": [],
   "source": [
    "forget()\n",
    "c = var(\"c\")\n",
    "assume(c<1)\n",
    "G = non_unimod_dim_3('G_c', c)\n",
    "a0,a1,a2,b0,b1,b2 = var('a0,a1,a2,b0,b1,b2')\n",
    "a = G.manifold.point((a0,a1,a2))\n",
    "b = G.manifold.point((b0,b1,b2))\n",
    "La = G.left_translation(a)\n",
    "Lb = G.left_translation(b)\n",
    "Lab = G.left_translation(La(b))\n",
    "LaoLb = La.pre_compose(Lb)"
   ]
  },
  {
   "cell_type": "code",
   "execution_count": 12,
   "id": "special-allen",
   "metadata": {},
   "outputs": [
    {
     "data": {
      "text/html": [
       "<html>\\[\\newcommand{\\Bold}[1]{\\mathbf{#1}}\\mathrm{True}\\]</html>"
      ],
      "text/latex": [
       "$$\\newcommand{\\Bold}[1]{\\mathbf{#1}}\\mathrm{True}$$"
      ],
      "text/plain": [
       "True"
      ]
     },
     "execution_count": 12,
     "metadata": {},
     "output_type": "execute_result"
    }
   ],
   "source": [
    "Lab == LaoLb"
   ]
  },
  {
   "cell_type": "markdown",
   "id": "heard-aaron",
   "metadata": {},
   "source": [
    "## 2.2. Case $c > 1$"
   ]
  },
  {
   "cell_type": "code",
   "execution_count": 13,
   "id": "permanent-button",
   "metadata": {},
   "outputs": [],
   "source": [
    "forget()\n",
    "c = var(\"c\")\n",
    "assume(c>1)\n",
    "G = non_unimod_dim_3('G_c', c)\n",
    "a0,a1,a2,b0,b1,b2 = var('a0,a1,a2,b0,b1,b2')\n",
    "a = G.manifold.point((a0,a1,a2))\n",
    "b = G.manifold.point((b0,b1,b2))\n",
    "La = G.left_translation(a)\n",
    "Lb = G.left_translation(b)\n",
    "Lab = G.left_translation(La(b))\n",
    "LaoLb = La.pre_compose(Lb)"
   ]
  },
  {
   "cell_type": "code",
   "execution_count": 14,
   "id": "underlying-guard",
   "metadata": {},
   "outputs": [
    {
     "data": {
      "text/html": [
       "<html>\\[\\newcommand{\\Bold}[1]{\\mathbf{#1}}\\mathrm{False}\\]</html>"
      ],
      "text/latex": [
       "$$\\newcommand{\\Bold}[1]{\\mathbf{#1}}\\mathrm{False}$$"
      ],
      "text/plain": [
       "False"
      ]
     },
     "execution_count": 14,
     "metadata": {},
     "output_type": "execute_result"
    }
   ],
   "source": [
    "Lab == LaoLb"
   ]
  },
  {
   "cell_type": "markdown",
   "id": "composite-consciousness",
   "metadata": {},
   "source": [
    "If the above output is `False` it is because Sage is unable to simplify the expression. We can try simplifying with Sympy."
   ]
  },
  {
   "cell_type": "code",
   "execution_count": 15,
   "id": "endless-brighton",
   "metadata": {},
   "outputs": [
    {
     "name": "stdout",
     "output_type": "stream",
     "text": [
      "0\n",
      "0\n",
      "0\n"
     ]
    }
   ],
   "source": [
    "for i in G.manifold.irange():\n",
    "    print((Lab.expr()[i] - LaoLb.expr()[i])._sympy_().simplify()._sage_())"
   ]
  },
  {
   "cell_type": "code",
   "execution_count": null,
   "id": "attached-passage",
   "metadata": {},
   "outputs": [],
   "source": []
  }
 ],
 "metadata": {
  "kernelspec": {
   "display_name": "SageMath 9.4",
   "language": "sage",
   "name": "sagemath"
  },
  "language_info": {
   "codemirror_mode": {
    "name": "ipython",
    "version": 3
   },
   "file_extension": ".py",
   "mimetype": "text/x-python",
   "name": "python",
   "nbconvert_exporter": "python",
   "pygments_lexer": "ipython3",
   "version": "3.9.6"
  }
 },
 "nbformat": 4,
 "nbformat_minor": 5
}
