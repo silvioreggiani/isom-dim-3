{
 "cells": [
  {
   "cell_type": "code",
   "execution_count": 1,
   "id": "warming-sodium",
   "metadata": {},
   "outputs": [],
   "source": [
    "%display latex\n",
    "import sympy\n",
    "Parallelism().set(nproc=8)"
   ]
  },
  {
   "cell_type": "markdown",
   "id": "inappropriate-suicide",
   "metadata": {},
   "source": [
    "We are using SageMath version 9.2 or later."
   ]
  },
  {
   "cell_type": "code",
   "execution_count": 2,
   "id": "developing-campaign",
   "metadata": {},
   "outputs": [
    {
     "data": {
      "text/html": [
       "<html>\\[\\newcommand{\\Bold}[1]{\\mathbf{#1}}\\verb|SageMath|\\phantom{\\verb!x!}\\verb|version|\\phantom{\\verb!x!}\\verb|9.4,|\\phantom{\\verb!x!}\\verb|Release|\\phantom{\\verb!x!}\\verb|Date:|\\phantom{\\verb!x!}\\verb|2021-08-22|\\]</html>"
      ],
      "text/latex": [
       "$$\\newcommand{\\Bold}[1]{\\mathbf{#1}}\\verb|SageMath|\\phantom{\\verb!x!}\\verb|version|\\phantom{\\verb!x!}\\verb|9.4,|\\phantom{\\verb!x!}\\verb|Release|\\phantom{\\verb!x!}\\verb|Date:|\\phantom{\\verb!x!}\\verb|2021-08-22|$$"
      ],
      "text/plain": [
       "'SageMath version 9.4, Release Date: 2021-08-22'"
      ]
     },
     "execution_count": 2,
     "metadata": {},
     "output_type": "execute_result"
    }
   ],
   "source": [
    "version()"
   ]
  },
  {
   "cell_type": "code",
   "execution_count": 3,
   "id": "annual-avenue",
   "metadata": {},
   "outputs": [],
   "source": [
    "load(\"non_unimod_dim_3.sage\")"
   ]
  },
  {
   "cell_type": "markdown",
   "id": "referenced-defeat",
   "metadata": {},
   "source": [
    "# The case of $G_c$, $1 < c$\n",
    "\n",
    "We write\n",
    "$$\n",
    "c = 1 + c_1^2, \\qquad \\text{where } 0 < c_1\n",
    "$$"
   ]
  },
  {
   "cell_type": "code",
   "execution_count": 4,
   "id": "hundred-applicant",
   "metadata": {},
   "outputs": [
    {
     "name": "stderr",
     "output_type": "stream",
     "text": [
      "<string>:98: DeprecationWarning: \n",
      "Importing RealLine from here is deprecated. If you need to use it, please import it directly from sage.manifolds.differentiable.examples.real_line\n",
      "See https://trac.sagemath.org/31881 for details.\n"
     ]
    }
   ],
   "source": [
    "c1 = var(\"c1\")\n",
    "assume(c1>0)\n",
    "c = 1 + c1^2\n",
    "# forget(); c = var(\"c\"); assume(c>1)\n",
    "G = non_unimod_dim_3('G_c', c)\n",
    "L = G.frame_left_inv()\n",
    "L0, L1, L2 = L\n",
    "R = G.frame_right_inv()\n",
    "R0, R1, R2 = R"
   ]
  },
  {
   "cell_type": "markdown",
   "id": "marine-attendance",
   "metadata": {},
   "source": [
    "Checking that the structure coefficients coincide with the ones of $\\mathfrak g_c$"
   ]
  },
  {
   "cell_type": "code",
   "execution_count": 5,
   "id": "beautiful-bridges",
   "metadata": {},
   "outputs": [
    {
     "data": {
      "text/html": [
       "<html>\\[\\newcommand{\\Bold}[1]{\\mathbf{#1}}\\left[L_{0},L_{1}\\right] = 0\\]</html>"
      ],
      "text/latex": [
       "$$\\newcommand{\\Bold}[1]{\\mathbf{#1}}\\left[L_{0},L_{1}\\right] = 0$$"
      ],
      "text/plain": [
       "[L_0,L_1] = 0"
      ]
     },
     "execution_count": 5,
     "metadata": {},
     "output_type": "execute_result"
    }
   ],
   "source": [
    "L0.bracket(L1).display(L)"
   ]
  },
  {
   "cell_type": "code",
   "execution_count": 6,
   "id": "checked-afternoon",
   "metadata": {},
   "outputs": [
    {
     "data": {
      "text/html": [
       "<html>\\[\\newcommand{\\Bold}[1]{\\mathbf{#1}}\\left[L_{2},L_{0}\\right] = L_{1}\\]</html>"
      ],
      "text/latex": [
       "$$\\newcommand{\\Bold}[1]{\\mathbf{#1}}\\left[L_{2},L_{0}\\right] = L_{1}$$"
      ],
      "text/plain": [
       "[L_2,L_0] = L_1"
      ]
     },
     "execution_count": 6,
     "metadata": {},
     "output_type": "execute_result"
    }
   ],
   "source": [
    "L2.bracket(L0).display(L)"
   ]
  },
  {
   "cell_type": "code",
   "execution_count": 7,
   "id": "mediterranean-complex",
   "metadata": {},
   "outputs": [
    {
     "data": {
      "text/html": [
       "<html>\\[\\newcommand{\\Bold}[1]{\\mathbf{#1}}\\left[L_{2},L_{1}\\right] = \\left( -c_{1}^{2} - 1 \\right) L_{0} + 2 L_{1}\\]</html>"
      ],
      "text/latex": [
       "$$\\newcommand{\\Bold}[1]{\\mathbf{#1}}\\left[L_{2},L_{1}\\right] = \\left( -c_{1}^{2} - 1 \\right) L_{0} + 2 L_{1}$$"
      ],
      "text/plain": [
       "[L_2,L_1] = (-c1^2 - 1) L_0 + 2 L_1"
      ]
     },
     "execution_count": 7,
     "metadata": {},
     "output_type": "execute_result"
    }
   ],
   "source": [
    "L2.bracket(L1).display(L)"
   ]
  },
  {
   "cell_type": "markdown",
   "id": "confused-drinking",
   "metadata": {},
   "source": [
    "## The left invariant metric $g = g_{\\mu, \\nu}$\n",
    "\n",
    "We introduce the left invariant metric `g`, which in the frame `L` is given by the matrix\n",
    "$$\n",
    "\\begin{pmatrix}\n",
    "1&1&0\\\\\n",
    "1&\\mu&0\\\\\n",
    "0&0&\\nu\n",
    "\\end{pmatrix}, \\qquad 1 < \\mu \\le c \\text{ and } 0 < \\nu\n",
    "$$\n"
   ]
  },
  {
   "cell_type": "code",
   "execution_count": 8,
   "id": "economic-fundamental",
   "metadata": {},
   "outputs": [
    {
     "data": {
      "text/html": [
       "<html>\\[\\newcommand{\\Bold}[1]{\\mathbf{#1}}\\left(\\begin{array}{rrr}\n",
       "1 & 1 & 0 \\\\\n",
       "1 & \\mu & 0 \\\\\n",
       "0 & 0 & \\nu\n",
       "\\end{array}\\right)\\]</html>"
      ],
      "text/latex": [
       "$$\\newcommand{\\Bold}[1]{\\mathbf{#1}}\\left(\\begin{array}{rrr}\n",
       "1 & 1 & 0 \\\\\n",
       "1 & \\mu & 0 \\\\\n",
       "0 & 0 & \\nu\n",
       "\\end{array}\\right)$$"
      ],
      "text/plain": [
       "[ 1  1  0]\n",
       "[ 1 mu  0]\n",
       "[ 0  0 nu]"
      ]
     },
     "execution_count": 8,
     "metadata": {},
     "output_type": "execute_result"
    }
   ],
   "source": [
    "mu, nu = var('mu nu')\n",
    "assume(1<mu,mu<=c)\n",
    "assume(0<nu)\n",
    "g = G.left_inv_metric([1,1,0,1,mu,0,0,0,nu],name=r'g_{\\mu,\\nu}')\n",
    "g.comp(L)[:]"
   ]
  },
  {
   "cell_type": "markdown",
   "id": "dental-sierra",
   "metadata": {},
   "source": [
    "We verify that the right invariant vector fields are Killing fields."
   ]
  },
  {
   "cell_type": "code",
   "execution_count": 9,
   "id": "choice-america",
   "metadata": {},
   "outputs": [
    {
     "data": {
      "text/html": [
       "<html>\\[\\newcommand{\\Bold}[1]{\\mathbf{#1}}0\\]</html>"
      ],
      "text/latex": [
       "$$\\newcommand{\\Bold}[1]{\\mathbf{#1}}0$$"
      ],
      "text/plain": [
       "0"
      ]
     },
     "metadata": {},
     "output_type": "display_data"
    },
    {
     "data": {
      "text/html": [
       "<html>\\[\\newcommand{\\Bold}[1]{\\mathbf{#1}}0\\]</html>"
      ],
      "text/latex": [
       "$$\\newcommand{\\Bold}[1]{\\mathbf{#1}}0$$"
      ],
      "text/plain": [
       "0"
      ]
     },
     "metadata": {},
     "output_type": "display_data"
    },
    {
     "data": {
      "text/html": [
       "<html>\\[\\newcommand{\\Bold}[1]{\\mathbf{#1}}0\\]</html>"
      ],
      "text/latex": [
       "$$\\newcommand{\\Bold}[1]{\\mathbf{#1}}0$$"
      ],
      "text/plain": [
       "0"
      ]
     },
     "metadata": {},
     "output_type": "display_data"
    }
   ],
   "source": [
    "for X in R:\n",
    "    display(g.lie_derivative(X).display(L))"
   ]
  },
  {
   "cell_type": "markdown",
   "id": "crucial-packing",
   "metadata": {},
   "source": [
    "We compute the intersecion of the orthogonal Lie algebra $\\mathfrak{so}(g_{\\mu, \\nu}) \\simeq \\mathfrak{so}(3)$ with the pseudo-orthogonal Lie algebra with respecto to the Ricci tensor, $\\mathfrak{so}(\\operatorname{Ric}) \\simeq \\mathfrak{so}(2, 1)$"
   ]
  },
  {
   "cell_type": "code",
   "execution_count": 10,
   "id": "elder-stick",
   "metadata": {},
   "outputs": [
    {
     "data": {
      "text/html": [
       "<html>\\[\\newcommand{\\Bold}[1]{\\mathbf{#1}}\\left(\\left(\\begin{array}{rrr}\n",
       "1 & 1 & 0 \\\\\n",
       "1 & \\mu & 0 \\\\\n",
       "0 & 0 & \\nu\n",
       "\\end{array}\\right), \\left(\\begin{array}{rrr}\n",
       "\\frac{c_{1}^{4} - \\mu^{2} - 2 \\, \\mu + 3}{2 \\, {\\left(\\mu - 1\\right)} \\nu} & \\frac{c_{1}^{4} - 2 \\, c_{1}^{2} + 2 \\, {\\left(c_{1}^{2} + 1\\right)} \\mu - 3 \\, \\mu^{2} + 1}{2 \\, {\\left(\\mu - 1\\right)} \\nu} & 0 \\\\\n",
       "\\frac{c_{1}^{4} - 2 \\, c_{1}^{2} + 2 \\, {\\left(c_{1}^{2} + 1\\right)} \\mu - 3 \\, \\mu^{2} + 1}{2 \\, {\\left(\\mu - 1\\right)} \\nu} & \\frac{2 \\, c_{1}^{4} + \\mu^{3} - 4 \\, c_{1}^{2} - {\\left(c_{1}^{4} - 4 \\, c_{1}^{2} - 17\\right)} \\mu - 12 \\, \\mu^{2} - 6}{2 \\, {\\left(\\mu - 1\\right)} \\nu} & 0 \\\\\n",
       "0 & 0 & -\\frac{c_{1}^{4} + 2 \\, c_{1}^{2} - 2 \\, {\\left(c_{1}^{2} - 1\\right)} \\mu + \\mu^{2} - 3}{2 \\, {\\left(\\mu - 1\\right)}}\n",
       "\\end{array}\\right)\\right)\\]</html>"
      ],
      "text/latex": [
       "$$\\newcommand{\\Bold}[1]{\\mathbf{#1}}\\left(\\left(\\begin{array}{rrr}\n",
       "1 & 1 & 0 \\\\\n",
       "1 & \\mu & 0 \\\\\n",
       "0 & 0 & \\nu\n",
       "\\end{array}\\right), \\left(\\begin{array}{rrr}\n",
       "\\frac{c_{1}^{4} - \\mu^{2} - 2 \\, \\mu + 3}{2 \\, {\\left(\\mu - 1\\right)} \\nu} & \\frac{c_{1}^{4} - 2 \\, c_{1}^{2} + 2 \\, {\\left(c_{1}^{2} + 1\\right)} \\mu - 3 \\, \\mu^{2} + 1}{2 \\, {\\left(\\mu - 1\\right)} \\nu} & 0 \\\\\n",
       "\\frac{c_{1}^{4} - 2 \\, c_{1}^{2} + 2 \\, {\\left(c_{1}^{2} + 1\\right)} \\mu - 3 \\, \\mu^{2} + 1}{2 \\, {\\left(\\mu - 1\\right)} \\nu} & \\frac{2 \\, c_{1}^{4} + \\mu^{3} - 4 \\, c_{1}^{2} - {\\left(c_{1}^{4} - 4 \\, c_{1}^{2} - 17\\right)} \\mu - 12 \\, \\mu^{2} - 6}{2 \\, {\\left(\\mu - 1\\right)} \\nu} & 0 \\\\\n",
       "0 & 0 & -\\frac{c_{1}^{4} + 2 \\, c_{1}^{2} - 2 \\, {\\left(c_{1}^{2} - 1\\right)} \\mu + \\mu^{2} - 3}{2 \\, {\\left(\\mu - 1\\right)}}\n",
       "\\end{array}\\right)\\right)$$"
      ],
      "text/plain": [
       "(\n",
       "[ 1  1  0]  [                                        1/2*(c1^4 - mu^2 - 2*mu + 3)/((mu - 1)*nu)                   1/2*(c1^4 - 2*c1^2 + 2*(c1^2 + 1)*mu - 3*mu^2 + 1)/((mu - 1)*nu)                                                                                  0]\n",
       "[ 1 mu  0]  [                  1/2*(c1^4 - 2*c1^2 + 2*(c1^2 + 1)*mu - 3*mu^2 + 1)/((mu - 1)*nu) 1/2*(2*c1^4 + mu^3 - 4*c1^2 - (c1^4 - 4*c1^2 - 17)*mu - 12*mu^2 - 6)/((mu - 1)*nu)                                                                                  0]\n",
       "[ 0  0 nu], [                                                                                 0                                                                                  0                         -1/2*(c1^4 + 2*c1^2 - 2*(c1^2 - 1)*mu + mu^2 - 3)/(mu - 1)]\n",
       ")"
      ]
     },
     "execution_count": 10,
     "metadata": {},
     "output_type": "execute_result"
    }
   ],
   "source": [
    "g_mat = mat_SR(g.comp(L)[:])\n",
    "Ric = g.ricci()\n",
    "Ric_mat = mat_SR(Ric.comp(L)[:]).simplify_full()\n",
    "g_mat, Ric_mat"
   ]
  },
  {
   "cell_type": "code",
   "execution_count": 11,
   "id": "pretty-celebrity",
   "metadata": {},
   "outputs": [
    {
     "data": {
      "text/html": [
       "<html>\\[\\newcommand{\\Bold}[1]{\\mathbf{#1}}\\left(\\begin{array}{rrr}\n",
       "a_{00} & a_{01} & a_{02} \\\\\n",
       "a_{10} & a_{11} & a_{12} \\\\\n",
       "a_{20} & a_{21} & a_{22}\n",
       "\\end{array}\\right)\\]</html>"
      ],
      "text/latex": [
       "$$\\newcommand{\\Bold}[1]{\\mathbf{#1}}\\left(\\begin{array}{rrr}\n",
       "a_{00} & a_{01} & a_{02} \\\\\n",
       "a_{10} & a_{11} & a_{12} \\\\\n",
       "a_{20} & a_{21} & a_{22}\n",
       "\\end{array}\\right)$$"
      ],
      "text/plain": [
       "[a00 a01 a02]\n",
       "[a10 a11 a12]\n",
       "[a20 a21 a22]"
      ]
     },
     "execution_count": 11,
     "metadata": {},
     "output_type": "execute_result"
    }
   ],
   "source": [
    "A_list = []\n",
    "for i in range(3):\n",
    "    for j in range(3):\n",
    "        A_list += [var('a'+str(i)+str(j))]\n",
    "A = matrix(3,3,A_list); A"
   ]
  },
  {
   "cell_type": "markdown",
   "id": "advanced-effort",
   "metadata": {},
   "source": [
    "Equations for $A \\in \\mathfrak{so}(g_{\\mu, \\nu})$:"
   ]
  },
  {
   "cell_type": "code",
   "execution_count": 12,
   "id": "chief-fishing",
   "metadata": {},
   "outputs": [
    {
     "data": {
      "text/html": [
       "<html>\\[\\newcommand{\\Bold}[1]{\\mathbf{#1}}\\left(\\begin{array}{rrr}\n",
       "-a_{11} & -a_{11} \\mu & -\\frac{a_{20} \\mu \\nu}{\\mu - 1} + \\frac{a_{21} \\nu}{\\mu - 1} \\\\\n",
       "a_{11} & a_{11} & \\frac{a_{20} \\nu}{\\mu - 1} - \\frac{a_{21} \\nu}{\\mu - 1} \\\\\n",
       "a_{20} & a_{21} & 0\n",
       "\\end{array}\\right)\\]</html>"
      ],
      "text/latex": [
       "$$\\newcommand{\\Bold}[1]{\\mathbf{#1}}\\left(\\begin{array}{rrr}\n",
       "-a_{11} & -a_{11} \\mu & -\\frac{a_{20} \\mu \\nu}{\\mu - 1} + \\frac{a_{21} \\nu}{\\mu - 1} \\\\\n",
       "a_{11} & a_{11} & \\frac{a_{20} \\nu}{\\mu - 1} - \\frac{a_{21} \\nu}{\\mu - 1} \\\\\n",
       "a_{20} & a_{21} & 0\n",
       "\\end{array}\\right)$$"
      ],
      "text/plain": [
       "[                                 -a11                               -a11*mu -a20*mu*nu/(mu - 1) + a21*nu/(mu - 1)]\n",
       "[                                  a11                                   a11     a20*nu/(mu - 1) - a21*nu/(mu - 1)]\n",
       "[                                  a20                                   a21                                     0]"
      ]
     },
     "execution_count": 12,
     "metadata": {},
     "output_type": "execute_result"
    }
   ],
   "source": [
    "sols_so3 = solve((A.transpose() * g_mat + g_mat * A).list(), A.list(), algorithm='sympy')\n",
    "A_so3 = A.subs(sols_so3); A_so3"
   ]
  },
  {
   "cell_type": "markdown",
   "id": "south-japanese",
   "metadata": {},
   "source": [
    "The equations for `A_{so3}` being an element of $\\mathfrak{so}(\\operatorname{Ric})$ are not as simple as in the other cases. In fact, there are non-trivial solutions for certain values of $\\mu$. "
   ]
  },
  {
   "cell_type": "code",
   "execution_count": 13,
   "id": "bridal-leonard",
   "metadata": {},
   "outputs": [
    {
     "data": {
      "text/html": [
       "<html>\\[\\newcommand{\\Bold}[1]{\\mathbf{#1}}\\left(\\begin{array}{rrr}\n",
       "\\frac{2 \\, {\\left(c_{1}^{2} - \\mu + 1\\right)} a_{11}}{\\nu} & -\\frac{{\\left(c_{1}^{2} + \\mu - 3\\right)} {\\left(c_{1}^{2} - \\mu + 1\\right)} a_{11}}{\\nu} & -\\frac{{\\left(a_{20} c_{1}^{2} - a_{20} + a_{21}\\right)} {\\left(c_{1}^{2} - \\mu + 1\\right)}}{\\mu - 1} \\\\\n",
       "-\\frac{{\\left(c_{1}^{2} + \\mu - 3\\right)} {\\left(c_{1}^{2} - \\mu + 1\\right)} a_{11}}{\\nu} & -\\frac{2 \\, {\\left(c_{1}^{2} + 2 \\, \\mu - 3\\right)} {\\left(c_{1}^{2} - \\mu + 1\\right)} a_{11}}{\\nu} & -\\frac{{\\left(a_{20} c_{1}^{2} + 2 \\, a_{20} \\mu - a_{21} \\mu - 3 \\, a_{20} + 2 \\, a_{21}\\right)} {\\left(c_{1}^{2} - \\mu + 1\\right)}}{\\mu - 1} \\\\\n",
       "-\\frac{{\\left(a_{20} c_{1}^{2} - a_{20} + a_{21}\\right)} {\\left(c_{1}^{2} - \\mu + 1\\right)}}{\\mu - 1} & -\\frac{{\\left(a_{20} c_{1}^{2} + 2 \\, a_{20} \\mu - a_{21} \\mu - 3 \\, a_{20} + 2 \\, a_{21}\\right)} {\\left(c_{1}^{2} - \\mu + 1\\right)}}{\\mu - 1} & 0\n",
       "\\end{array}\\right)\\]</html>"
      ],
      "text/latex": [
       "$$\\newcommand{\\Bold}[1]{\\mathbf{#1}}\\left(\\begin{array}{rrr}\n",
       "\\frac{2 \\, {\\left(c_{1}^{2} - \\mu + 1\\right)} a_{11}}{\\nu} & -\\frac{{\\left(c_{1}^{2} + \\mu - 3\\right)} {\\left(c_{1}^{2} - \\mu + 1\\right)} a_{11}}{\\nu} & -\\frac{{\\left(a_{20} c_{1}^{2} - a_{20} + a_{21}\\right)} {\\left(c_{1}^{2} - \\mu + 1\\right)}}{\\mu - 1} \\\\\n",
       "-\\frac{{\\left(c_{1}^{2} + \\mu - 3\\right)} {\\left(c_{1}^{2} - \\mu + 1\\right)} a_{11}}{\\nu} & -\\frac{2 \\, {\\left(c_{1}^{2} + 2 \\, \\mu - 3\\right)} {\\left(c_{1}^{2} - \\mu + 1\\right)} a_{11}}{\\nu} & -\\frac{{\\left(a_{20} c_{1}^{2} + 2 \\, a_{20} \\mu - a_{21} \\mu - 3 \\, a_{20} + 2 \\, a_{21}\\right)} {\\left(c_{1}^{2} - \\mu + 1\\right)}}{\\mu - 1} \\\\\n",
       "-\\frac{{\\left(a_{20} c_{1}^{2} - a_{20} + a_{21}\\right)} {\\left(c_{1}^{2} - \\mu + 1\\right)}}{\\mu - 1} & -\\frac{{\\left(a_{20} c_{1}^{2} + 2 \\, a_{20} \\mu - a_{21} \\mu - 3 \\, a_{20} + 2 \\, a_{21}\\right)} {\\left(c_{1}^{2} - \\mu + 1\\right)}}{\\mu - 1} & 0\n",
       "\\end{array}\\right)$$"
      ],
      "text/plain": [
       "[                                                2*(c1^2 - mu + 1)*a11/nu                                  -(c1^2 + mu - 3)*(c1^2 - mu + 1)*a11/nu                         -(a20*c1^2 - a20 + a21)*(c1^2 - mu + 1)/(mu - 1)]\n",
       "[                                 -(c1^2 + mu - 3)*(c1^2 - mu + 1)*a11/nu                              -2*(c1^2 + 2*mu - 3)*(c1^2 - mu + 1)*a11/nu -(a20*c1^2 + 2*a20*mu - a21*mu - 3*a20 + 2*a21)*(c1^2 - mu + 1)/(mu - 1)]\n",
       "[                        -(a20*c1^2 - a20 + a21)*(c1^2 - mu + 1)/(mu - 1) -(a20*c1^2 + 2*a20*mu - a21*mu - 3*a20 + 2*a21)*(c1^2 - mu + 1)/(mu - 1)                                                                        0]"
      ]
     },
     "execution_count": 13,
     "metadata": {},
     "output_type": "execute_result"
    }
   ],
   "source": [
    "(A_so3.transpose() * Ric_mat + Ric_mat * A_so3).factor()"
   ]
  },
  {
   "cell_type": "markdown",
   "id": "israeli-sport",
   "metadata": {},
   "source": [
    "We have to consider two posibilities for the above matrix equals zero.\n",
    "\n",
    "## Case $\\mu \\neq c$\n",
    "\n",
    "In this case $c_1^2 - \\mu + 1 \\neq 0$ and we can ask Sage to solve the equations for us in the usual way"
   ]
  },
  {
   "cell_type": "code",
   "execution_count": 14,
   "id": "recreational-swing",
   "metadata": {},
   "outputs": [
    {
     "data": {
      "text/html": [
       "<html>\\[\\newcommand{\\Bold}[1]{\\mathbf{#1}}\\left(\\begin{array}{rrr}\n",
       "0 & 0 & 0 \\\\\n",
       "0 & 0 & 0 \\\\\n",
       "0 & 0 & 0\n",
       "\\end{array}\\right)\\]</html>"
      ],
      "text/latex": [
       "$$\\newcommand{\\Bold}[1]{\\mathbf{#1}}\\left(\\begin{array}{rrr}\n",
       "0 & 0 & 0 \\\\\n",
       "0 & 0 & 0 \\\\\n",
       "0 & 0 & 0\n",
       "\\end{array}\\right)$$"
      ],
      "text/plain": [
       "[0 0 0]\n",
       "[0 0 0]\n",
       "[0 0 0]"
      ]
     },
     "execution_count": 14,
     "metadata": {},
     "output_type": "execute_result"
    }
   ],
   "source": [
    "sols_so3_Ric = solve((A_so3.transpose() * Ric_mat + Ric_mat * A_so3).list(), [a11,a20,a21], algorithm='sympy')\n",
    "A_so3_Ric = A_so3.subs(sols_so3_Ric); A_so3_Ric"
   ]
  },
  {
   "cell_type": "markdown",
   "id": "proved-bailey",
   "metadata": {},
   "source": [
    "Therefore, the Lie algebra of the isotropy group of the full isometry group is trivial.\n",
    "\n",
    "## The index of symmetry of $g_{\\mu, \\nu}$, $\\mu \\neq c$\n",
    "\n",
    "Since the isometry group has dimension $3$, if the index of symmery is non-trivial, we will find a left invariant vector field $X$ such that $X_e \\neq 0$ and $(\\nabla X)_e = 0$"
   ]
  },
  {
   "cell_type": "code",
   "execution_count": 15,
   "id": "decent-behavior",
   "metadata": {},
   "outputs": [
    {
     "data": {
      "text/html": [
       "<html>\\[\\newcommand{\\Bold}[1]{\\mathbf{#1}}R_{gen} = a_{0} R_{0} + a_{1} R_{1} + a_{2} R_{2}\\]</html>"
      ],
      "text/latex": [
       "$$\\newcommand{\\Bold}[1]{\\mathbf{#1}}R_{gen} = a_{0} R_{0} + a_{1} R_{1} + a_{2} R_{2}$$"
      ],
      "text/plain": [
       "R_{gen} = a0 R_0 + a1 R_1 + a2 R_2"
      ]
     },
     "execution_count": 15,
     "metadata": {},
     "output_type": "execute_result"
    }
   ],
   "source": [
    "a0, a1, a2 = var('a0 a1 a2')\n",
    "R_gen = G.right_inv_vect_field(a0,a1,a2,name=r'R_{gen}')\n",
    "R_gen.display(R)"
   ]
  },
  {
   "cell_type": "markdown",
   "id": "fifth-feelings",
   "metadata": {},
   "source": [
    "Define the Levi-Civita connection"
   ]
  },
  {
   "cell_type": "code",
   "execution_count": 16,
   "id": "ruled-fiber",
   "metadata": {},
   "outputs": [],
   "source": [
    "nabla = g.connection()"
   ]
  },
  {
   "cell_type": "markdown",
   "id": "multiple-midwest",
   "metadata": {},
   "source": [
    "And take the derivative of a generic right invariant vector field."
   ]
  },
  {
   "cell_type": "code",
   "execution_count": 17,
   "id": "fossil-orange",
   "metadata": {},
   "outputs": [
    {
     "data": {
      "text/html": [
       "<html>\\[\\newcommand{\\Bold}[1]{\\mathbf{#1}}\\left(\\begin{array}{rrr}\n",
       "-\\frac{{\\left(c_{1}^{2} + \\mu - 1\\right)} a_{2}}{2 \\, {\\left(\\mu - 1\\right)}} & -\\frac{{\\left(c_{1}^{2} + \\mu - 1\\right)} a_{2} \\mu}{2 \\, {\\left(\\mu - 1\\right)}} & \\frac{a_{1} c_{1}^{2} \\mu - a_{0} c_{1}^{2} - 2 \\, a_{1} c_{1}^{2} - a_{1} \\mu^{2} - a_{0} \\mu + 3 \\, a_{1} \\mu + a_{0} - 2 \\, a_{1}}{2 \\, {\\left(\\mu - 1\\right)}} \\\\\n",
       "\\frac{{\\left(c_{1}^{2} + \\mu - 1\\right)} a_{2}}{2 \\, {\\left(\\mu - 1\\right)}} & \\frac{{\\left(c_{1}^{2} + \\mu - 1\\right)} a_{2}}{2 \\, {\\left(\\mu - 1\\right)}} & \\frac{a_{0} c_{1}^{2} + a_{1} c_{1}^{2} - a_{0} \\mu - 3 \\, a_{1} \\mu + a_{0} + 3 \\, a_{1}}{2 \\, {\\left(\\mu - 1\\right)}} \\\\\n",
       "-\\frac{a_{1} c_{1}^{2} - a_{1} \\mu - 2 \\, a_{0} - a_{1}}{2 \\, \\nu} & -\\frac{a_{0} c_{1}^{2} + 2 \\, a_{1} c_{1}^{2} - a_{0} \\mu - 4 \\, a_{1} \\mu - a_{0} + 2 \\, a_{1}}{2 \\, \\nu} & 0\n",
       "\\end{array}\\right)\\]</html>"
      ],
      "text/latex": [
       "$$\\newcommand{\\Bold}[1]{\\mathbf{#1}}\\left(\\begin{array}{rrr}\n",
       "-\\frac{{\\left(c_{1}^{2} + \\mu - 1\\right)} a_{2}}{2 \\, {\\left(\\mu - 1\\right)}} & -\\frac{{\\left(c_{1}^{2} + \\mu - 1\\right)} a_{2} \\mu}{2 \\, {\\left(\\mu - 1\\right)}} & \\frac{a_{1} c_{1}^{2} \\mu - a_{0} c_{1}^{2} - 2 \\, a_{1} c_{1}^{2} - a_{1} \\mu^{2} - a_{0} \\mu + 3 \\, a_{1} \\mu + a_{0} - 2 \\, a_{1}}{2 \\, {\\left(\\mu - 1\\right)}} \\\\\n",
       "\\frac{{\\left(c_{1}^{2} + \\mu - 1\\right)} a_{2}}{2 \\, {\\left(\\mu - 1\\right)}} & \\frac{{\\left(c_{1}^{2} + \\mu - 1\\right)} a_{2}}{2 \\, {\\left(\\mu - 1\\right)}} & \\frac{a_{0} c_{1}^{2} + a_{1} c_{1}^{2} - a_{0} \\mu - 3 \\, a_{1} \\mu + a_{0} + 3 \\, a_{1}}{2 \\, {\\left(\\mu - 1\\right)}} \\\\\n",
       "-\\frac{a_{1} c_{1}^{2} - a_{1} \\mu - 2 \\, a_{0} - a_{1}}{2 \\, \\nu} & -\\frac{a_{0} c_{1}^{2} + 2 \\, a_{1} c_{1}^{2} - a_{0} \\mu - 4 \\, a_{1} \\mu - a_{0} + 2 \\, a_{1}}{2 \\, \\nu} & 0\n",
       "\\end{array}\\right)$$"
      ],
      "text/plain": [
       "[                                                       -1/2*(c1^2 + mu - 1)*a2/(mu - 1)                                                     -1/2*(c1^2 + mu - 1)*a2*mu/(mu - 1) 1/2*(a1*c1^2*mu - a0*c1^2 - 2*a1*c1^2 - a1*mu^2 - a0*mu + 3*a1*mu + a0 - 2*a1)/(mu - 1)]\n",
       "[                                                        1/2*(c1^2 + mu - 1)*a2/(mu - 1)                                                         1/2*(c1^2 + mu - 1)*a2/(mu - 1)                          1/2*(a0*c1^2 + a1*c1^2 - a0*mu - 3*a1*mu + a0 + 3*a1)/(mu - 1)]\n",
       "[                                                  -1/2*(a1*c1^2 - a1*mu - 2*a0 - a1)/nu                             -1/2*(a0*c1^2 + 2*a1*c1^2 - a0*mu - 4*a1*mu - a0 + 2*a1)/nu                                                                                       0]"
      ]
     },
     "execution_count": 17,
     "metadata": {},
     "output_type": "execute_result"
    }
   ],
   "source": [
    "nablaR_gen = nabla(R_gen).at(G.zero)\n",
    "ind_sym_eqs = nablaR_gen.comp()[:].factor()\n",
    "ind_sym_eqs"
   ]
  },
  {
   "cell_type": "markdown",
   "id": "answering-treasurer",
   "metadata": {},
   "source": [
    "Since $\\mu > 1$, we conclude that $a_2 = 0$"
   ]
  },
  {
   "cell_type": "code",
   "execution_count": 18,
   "id": "rising-traveler",
   "metadata": {},
   "outputs": [
    {
     "data": {
      "text/html": [
       "<html>\\[\\newcommand{\\Bold}[1]{\\mathbf{#1}}\\left(\\begin{array}{rrr}\n",
       "0 & 0 & \\frac{a_{1} c_{1}^{2} \\mu - a_{0} c_{1}^{2} - 2 \\, a_{1} c_{1}^{2} - a_{1} \\mu^{2} - a_{0} \\mu + 3 \\, a_{1} \\mu + a_{0} - 2 \\, a_{1}}{2 \\, {\\left(\\mu - 1\\right)}} \\\\\n",
       "0 & 0 & \\frac{a_{0} c_{1}^{2} + a_{1} c_{1}^{2} - a_{0} \\mu - 3 \\, a_{1} \\mu + a_{0} + 3 \\, a_{1}}{2 \\, {\\left(\\mu - 1\\right)}} \\\\\n",
       "-\\frac{a_{1} c_{1}^{2} - a_{1} \\mu - 2 \\, a_{0} - a_{1}}{2 \\, \\nu} & -\\frac{a_{0} c_{1}^{2} + 2 \\, a_{1} c_{1}^{2} - a_{0} \\mu - 4 \\, a_{1} \\mu - a_{0} + 2 \\, a_{1}}{2 \\, \\nu} & 0\n",
       "\\end{array}\\right)\\]</html>"
      ],
      "text/latex": [
       "$$\\newcommand{\\Bold}[1]{\\mathbf{#1}}\\left(\\begin{array}{rrr}\n",
       "0 & 0 & \\frac{a_{1} c_{1}^{2} \\mu - a_{0} c_{1}^{2} - 2 \\, a_{1} c_{1}^{2} - a_{1} \\mu^{2} - a_{0} \\mu + 3 \\, a_{1} \\mu + a_{0} - 2 \\, a_{1}}{2 \\, {\\left(\\mu - 1\\right)}} \\\\\n",
       "0 & 0 & \\frac{a_{0} c_{1}^{2} + a_{1} c_{1}^{2} - a_{0} \\mu - 3 \\, a_{1} \\mu + a_{0} + 3 \\, a_{1}}{2 \\, {\\left(\\mu - 1\\right)}} \\\\\n",
       "-\\frac{a_{1} c_{1}^{2} - a_{1} \\mu - 2 \\, a_{0} - a_{1}}{2 \\, \\nu} & -\\frac{a_{0} c_{1}^{2} + 2 \\, a_{1} c_{1}^{2} - a_{0} \\mu - 4 \\, a_{1} \\mu - a_{0} + 2 \\, a_{1}}{2 \\, \\nu} & 0\n",
       "\\end{array}\\right)$$"
      ],
      "text/plain": [
       "[                                                                                      0                                                                                       0 1/2*(a1*c1^2*mu - a0*c1^2 - 2*a1*c1^2 - a1*mu^2 - a0*mu + 3*a1*mu + a0 - 2*a1)/(mu - 1)]\n",
       "[                                                                                      0                                                                                       0                          1/2*(a0*c1^2 + a1*c1^2 - a0*mu - 3*a1*mu + a0 + 3*a1)/(mu - 1)]\n",
       "[                                                  -1/2*(a1*c1^2 - a1*mu - 2*a0 - a1)/nu                             -1/2*(a0*c1^2 + 2*a1*c1^2 - a0*mu - 4*a1*mu - a0 + 2*a1)/nu                                                                                       0]"
      ]
     },
     "execution_count": 18,
     "metadata": {},
     "output_type": "execute_result"
    }
   ],
   "source": [
    "ind_sym_eqs1 = ind_sym_eqs.subs(a2=0).factor()\n",
    "ind_sym_eqs1"
   ]
  },
  {
   "cell_type": "markdown",
   "id": "tracked-armor",
   "metadata": {},
   "source": [
    "We write $a_0$ in terms of $a_1$:"
   ]
  },
  {
   "cell_type": "code",
   "execution_count": 19,
   "id": "becoming-feeling",
   "metadata": {},
   "outputs": [
    {
     "data": {
      "text/html": [
       "<html>\\[\\newcommand{\\Bold}[1]{\\mathbf{#1}}\\left[a_{0} = -\\frac{a_{1} c_{1}^{2} - 3 \\, a_{1} \\mu + 3 \\, a_{1}}{c_{1}^{2} - \\mu + 1}\\right]\\]</html>"
      ],
      "text/latex": [
       "$$\\newcommand{\\Bold}[1]{\\mathbf{#1}}\\left[a_{0} = -\\frac{a_{1} c_{1}^{2} - 3 \\, a_{1} \\mu + 3 \\, a_{1}}{c_{1}^{2} - \\mu + 1}\\right]$$"
      ],
      "text/plain": [
       "[a0 == -(a1*c1^2 - 3*a1*mu + 3*a1)/(c1^2 - mu + 1)]"
      ]
     },
     "execution_count": 19,
     "metadata": {},
     "output_type": "execute_result"
    }
   ],
   "source": [
    "a0_func_a1 = ind_sym_eqs1[1,2].solve(a0)\n",
    "a0_func_a1"
   ]
  },
  {
   "cell_type": "code",
   "execution_count": 20,
   "id": "greek-disposal",
   "metadata": {},
   "outputs": [
    {
     "data": {
      "text/html": [
       "<html>\\[\\newcommand{\\Bold}[1]{\\mathbf{#1}}\\left(\\begin{array}{rrr}\n",
       "0 & 0 & \\frac{{\\left(c_{1}^{4} - 2 \\, c_{1}^{2} \\mu + 2 \\, c_{1}^{2} + \\mu^{2} - 6 \\, \\mu + 5\\right)} a_{1}}{2 \\, {\\left(c_{1}^{2} - \\mu + 1\\right)}} \\\\\n",
       "0 & 0 & 0 \\\\\n",
       "-\\frac{{\\left(c_{1}^{4} - 2 \\, c_{1}^{2} \\mu + 2 \\, c_{1}^{2} + \\mu^{2} - 6 \\, \\mu + 5\\right)} a_{1}}{2 \\, {\\left(c_{1}^{2} - \\mu + 1\\right)} \\nu} & -\\frac{{\\left(c_{1}^{4} - 2 \\, c_{1}^{2} \\mu + 2 \\, c_{1}^{2} + \\mu^{2} - 6 \\, \\mu + 5\\right)} a_{1}}{2 \\, {\\left(c_{1}^{2} - \\mu + 1\\right)} \\nu} & 0\n",
       "\\end{array}\\right)\\]</html>"
      ],
      "text/latex": [
       "$$\\newcommand{\\Bold}[1]{\\mathbf{#1}}\\left(\\begin{array}{rrr}\n",
       "0 & 0 & \\frac{{\\left(c_{1}^{4} - 2 \\, c_{1}^{2} \\mu + 2 \\, c_{1}^{2} + \\mu^{2} - 6 \\, \\mu + 5\\right)} a_{1}}{2 \\, {\\left(c_{1}^{2} - \\mu + 1\\right)}} \\\\\n",
       "0 & 0 & 0 \\\\\n",
       "-\\frac{{\\left(c_{1}^{4} - 2 \\, c_{1}^{2} \\mu + 2 \\, c_{1}^{2} + \\mu^{2} - 6 \\, \\mu + 5\\right)} a_{1}}{2 \\, {\\left(c_{1}^{2} - \\mu + 1\\right)} \\nu} & -\\frac{{\\left(c_{1}^{4} - 2 \\, c_{1}^{2} \\mu + 2 \\, c_{1}^{2} + \\mu^{2} - 6 \\, \\mu + 5\\right)} a_{1}}{2 \\, {\\left(c_{1}^{2} - \\mu + 1\\right)} \\nu} & 0\n",
       "\\end{array}\\right)$$"
      ],
      "text/plain": [
       "[                                                                         0                                                                          0       1/2*(c1^4 - 2*c1^2*mu + 2*c1^2 + mu^2 - 6*mu + 5)*a1/(c1^2 - mu + 1)]\n",
       "[                                                                         0                                                                          0                                                                          0]\n",
       "[-1/2*(c1^4 - 2*c1^2*mu + 2*c1^2 + mu^2 - 6*mu + 5)*a1/((c1^2 - mu + 1)*nu) -1/2*(c1^4 - 2*c1^2*mu + 2*c1^2 + mu^2 - 6*mu + 5)*a1/((c1^2 - mu + 1)*nu)                                                                          0]"
      ]
     },
     "execution_count": 20,
     "metadata": {},
     "output_type": "execute_result"
    }
   ],
   "source": [
    "ind_sym_eqs1.subs(a0_func_a1).factor()"
   ]
  },
  {
   "cell_type": "markdown",
   "id": "organizational-celebration",
   "metadata": {},
   "source": [
    "So, the index of symmetry is non trivial if and only if\n",
    "$$\n",
    "c_{1}^{4} - 2 \\, c_{1}^{2} \\mu + 2 \\, c_{1}^{2} + \\mu^{2} - 6 \\, \\mu + 5 = 0\n",
    "$$"
   ]
  },
  {
   "cell_type": "code",
   "execution_count": 21,
   "id": "excellent-malawi",
   "metadata": {},
   "outputs": [
    {
     "data": {
      "text/html": [
       "<html>\\[\\newcommand{\\Bold}[1]{\\mathbf{#1}}\\left[\\mu = c_{1}^{2} - 2 \\, \\sqrt{c_{1}^{2} + 1} + 3\\right]\\]</html>"
      ],
      "text/latex": [
       "$$\\newcommand{\\Bold}[1]{\\mathbf{#1}}\\left[\\mu = c_{1}^{2} - 2 \\, \\sqrt{c_{1}^{2} + 1} + 3\\right]$$"
      ],
      "text/plain": [
       "[mu == c1^2 - 2*sqrt(c1^2 + 1) + 3]"
      ]
     },
     "execution_count": 21,
     "metadata": {},
     "output_type": "execute_result"
    }
   ],
   "source": [
    "mu_sol = solve(c1^4 - 2*c1^2*mu + 2*c1^2 + mu^2 - 6*mu + 5, mu)\n",
    "mu_sol"
   ]
  },
  {
   "cell_type": "markdown",
   "id": "increasing-sauce",
   "metadata": {},
   "source": [
    "Or, equivalently\n",
    "$$\n",
    "\\mu = (\\sqrt c - 1)^2 + 1\n",
    "$$\n",
    "Recall that such a $\\mu$ satisfies $0 < \\mu < c$. Therefore, the distribution of symmetry is spanned by the left invariant vector field\n",
    "$$\n",
    "\\frac{c - 3\\sqrt c + 2}{\\sqrt{c} - 1} L_0 + L_1\n",
    "$$"
   ]
  },
  {
   "cell_type": "code",
   "execution_count": 22,
   "id": "finished-enforcement",
   "metadata": {},
   "outputs": [
    {
     "data": {
      "text/html": [
       "<html>\\[\\newcommand{\\Bold}[1]{\\mathbf{#1}}\\frac{c_{1}^{2} - 3 \\, \\sqrt{c_{1}^{2} + 1} + 3}{\\sqrt{c_{1}^{2} + 1} - 1}\\]</html>"
      ],
      "text/latex": [
       "$$\\newcommand{\\Bold}[1]{\\mathbf{#1}}\\frac{c_{1}^{2} - 3 \\, \\sqrt{c_{1}^{2} + 1} + 3}{\\sqrt{c_{1}^{2} + 1} - 1}$$"
      ],
      "text/plain": [
       "(c1^2 - 3*sqrt(c1^2 + 1) + 3)/(sqrt(c1^2 + 1) - 1)"
      ]
     },
     "execution_count": 22,
     "metadata": {},
     "output_type": "execute_result"
    }
   ],
   "source": [
    "a0.subs(a0_func_a1).subs(a1=1).subs(mu_sol).factor()"
   ]
  },
  {
   "cell_type": "markdown",
   "id": "miniature-binary",
   "metadata": {},
   "source": [
    "\n",
    "## Case $\\mu = c$\n",
    "\n",
    "Now we have to solve"
   ]
  },
  {
   "cell_type": "code",
   "execution_count": 23,
   "id": "desperate-month",
   "metadata": {},
   "outputs": [
    {
     "data": {
      "text/html": [
       "<html>\\[\\newcommand{\\Bold}[1]{\\mathbf{#1}}\\left(\\begin{array}{rrr}\n",
       "0 & 0 & 0 \\\\\n",
       "0 & 0 & 0 \\\\\n",
       "0 & 0 & 0\n",
       "\\end{array}\\right)\\]</html>"
      ],
      "text/latex": [
       "$$\\newcommand{\\Bold}[1]{\\mathbf{#1}}\\left(\\begin{array}{rrr}\n",
       "0 & 0 & 0 \\\\\n",
       "0 & 0 & 0 \\\\\n",
       "0 & 0 & 0\n",
       "\\end{array}\\right)$$"
      ],
      "text/plain": [
       "[0 0 0]\n",
       "[0 0 0]\n",
       "[0 0 0]"
      ]
     },
     "execution_count": 23,
     "metadata": {},
     "output_type": "execute_result"
    }
   ],
   "source": [
    "(A_so3.transpose() * Ric_mat + Ric_mat * A_so3).subs(mu=c).factor()"
   ]
  },
  {
   "cell_type": "markdown",
   "id": "driving-devil",
   "metadata": {},
   "source": [
    "This is a concequence of the metric being Einstein for $\\mu = c$"
   ]
  },
  {
   "cell_type": "code",
   "execution_count": 24,
   "id": "minor-columbus",
   "metadata": {},
   "outputs": [
    {
     "data": {
      "text/html": [
       "<html>\\[\\newcommand{\\Bold}[1]{\\mathbf{#1}}\\left(\\begin{array}{rrr}\n",
       "0 & 0 & 0 \\\\\n",
       "0 & 0 & 0 \\\\\n",
       "0 & 0 & 0\n",
       "\\end{array}\\right)\\]</html>"
      ],
      "text/latex": [
       "$$\\newcommand{\\Bold}[1]{\\mathbf{#1}}\\left(\\begin{array}{rrr}\n",
       "0 & 0 & 0 \\\\\n",
       "0 & 0 & 0 \\\\\n",
       "0 & 0 & 0\n",
       "\\end{array}\\right)$$"
      ],
      "text/plain": [
       "[0 0 0]\n",
       "[0 0 0]\n",
       "[0 0 0]"
      ]
     },
     "execution_count": 24,
     "metadata": {},
     "output_type": "execute_result"
    }
   ],
   "source": [
    "(Ric_mat.subs(mu=c) + 2 / nu * g_mat.subs(mu=c)).factor()"
   ]
  },
  {
   "cell_type": "markdown",
   "id": "developed-scout",
   "metadata": {},
   "source": [
    "Moreover, we can easily verify that the metric is symmetric when $\\mu = c$ (and thus isometric to a hyperbolic space)"
   ]
  },
  {
   "cell_type": "code",
   "execution_count": 25,
   "id": "hungarian-boxing",
   "metadata": {},
   "outputs": [
    {
     "data": {
      "text/html": [
       "<html>\\[\\newcommand{\\Bold}[1]{\\mathbf{#1}}\\left(\\begin{array}{rrr}\n",
       "1 & 1 & 0 \\\\\n",
       "1 & c_{1}^{2} + 1 & 0 \\\\\n",
       "0 & 0 & \\nu\n",
       "\\end{array}\\right)\\]</html>"
      ],
      "text/latex": [
       "$$\\newcommand{\\Bold}[1]{\\mathbf{#1}}\\left(\\begin{array}{rrr}\n",
       "1 & 1 & 0 \\\\\n",
       "1 & c_{1}^{2} + 1 & 0 \\\\\n",
       "0 & 0 & \\nu\n",
       "\\end{array}\\right)$$"
      ],
      "text/plain": [
       "[       1        1        0]\n",
       "[       1 c1^2 + 1        0]\n",
       "[       0        0       nu]"
      ]
     },
     "execution_count": 25,
     "metadata": {},
     "output_type": "execute_result"
    }
   ],
   "source": [
    "g1 = G.left_inv_metric([1,1,0,1,c,0,0,0,nu],name=r'g_{c,\\nu}')\n",
    "g1.comp(L)[:]"
   ]
  },
  {
   "cell_type": "code",
   "execution_count": 26,
   "id": "wanted-writer",
   "metadata": {},
   "outputs": [
    {
     "data": {
      "text/html": [
       "<html>\\[\\newcommand{\\Bold}[1]{\\mathbf{#1}}\\nabla_{g_{c,\\nu}} \\mathrm{Riem}\\left(g_{c,\\nu}\\right) = 0\\]</html>"
      ],
      "text/latex": [
       "$$\\newcommand{\\Bold}[1]{\\mathbf{#1}}\\nabla_{g_{c,\\nu}} \\mathrm{Riem}\\left(g_{c,\\nu}\\right) = 0$$"
      ],
      "text/plain": [
       "nabla_g_{c,\\nu}(Riem(g_{c,\\nu})) = 0"
      ]
     },
     "execution_count": 26,
     "metadata": {},
     "output_type": "execute_result"
    }
   ],
   "source": [
    "nabla = g1.connection()\n",
    "Riem = g1.riemann()\n",
    "nablaRiem = nabla(Riem)\n",
    "nablaRiem.display()"
   ]
  },
  {
   "cell_type": "markdown",
   "id": "christian-likelihood",
   "metadata": {},
   "source": [
    "We can compute the constant curvature from the Ricci scalar"
   ]
  },
  {
   "cell_type": "code",
   "execution_count": 27,
   "id": "noticed-astrology",
   "metadata": {},
   "outputs": [
    {
     "data": {
      "text/html": [
       "<html>\\[\\newcommand{\\Bold}[1]{\\mathbf{#1}}-\\frac{6}{\\nu}\\]</html>"
      ],
      "text/latex": [
       "$$\\newcommand{\\Bold}[1]{\\mathbf{#1}}-\\frac{6}{\\nu}$$"
      ],
      "text/plain": [
       "-6/nu"
      ]
     },
     "execution_count": 27,
     "metadata": {},
     "output_type": "execute_result"
    }
   ],
   "source": [
    "g1.ricci_scalar().expr()"
   ]
  },
  {
   "cell_type": "code",
   "execution_count": null,
   "id": "genetic-mountain",
   "metadata": {},
   "outputs": [],
   "source": []
  }
 ],
 "metadata": {
  "kernelspec": {
   "display_name": "SageMath 9.4",
   "language": "sage",
   "name": "sagemath"
  },
  "language_info": {
   "codemirror_mode": {
    "name": "ipython",
    "version": 3
   },
   "file_extension": ".py",
   "mimetype": "text/x-python",
   "name": "python",
   "nbconvert_exporter": "python",
   "pygments_lexer": "ipython3",
   "version": "3.9.6"
  }
 },
 "nbformat": 4,
 "nbformat_minor": 5
}
