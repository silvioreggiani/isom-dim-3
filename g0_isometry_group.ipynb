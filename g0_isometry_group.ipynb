{
 "cells": [
  {
   "cell_type": "code",
   "execution_count": 1,
   "id": "peripheral-machine",
   "metadata": {},
   "outputs": [],
   "source": [
    "%display latex\n",
    "import sympy\n",
    "Parallelism().set(nproc=8)"
   ]
  },
  {
   "cell_type": "markdown",
   "id": "d34b6b83",
   "metadata": {},
   "source": [
    "We are using SageMath version 9.2 or later"
   ]
  },
  {
   "cell_type": "code",
   "execution_count": 2,
   "id": "1f9fa00b",
   "metadata": {},
   "outputs": [
    {
     "data": {
      "text/html": [
       "SageMath version 9.3, Release Date: 2021-05-09"
      ],
      "text/plain": [
       "'SageMath version 9.3, Release Date: 2021-05-09'"
      ]
     },
     "execution_count": 2,
     "metadata": {},
     "output_type": "execute_result"
    }
   ],
   "source": [
    "version()"
   ]
  },
  {
   "cell_type": "code",
   "execution_count": 3,
   "id": "casual-integer",
   "metadata": {},
   "outputs": [],
   "source": [
    "load(\"non_unimod_dim_3.sage\")"
   ]
  },
  {
   "cell_type": "markdown",
   "id": "liable-outreach",
   "metadata": {},
   "source": [
    "# The case of $G_0$\n"
   ]
  },
  {
   "cell_type": "code",
   "execution_count": 4,
   "id": "protecting-eagle",
   "metadata": {},
   "outputs": [],
   "source": [
    "G = non_unimod_dim_3('G_0', 0)\n",
    "L = G.frame_left_inv()\n",
    "L0, L1, L2 = L\n",
    "R = G.frame_right_inv()\n",
    "R0, R1, R2 = R"
   ]
  },
  {
   "cell_type": "markdown",
   "id": "liked-commitment",
   "metadata": {},
   "source": [
    "Checking that the structure coefficients coincide with the ones of $\\mathfrak g_0$"
   ]
  },
  {
   "cell_type": "code",
   "execution_count": 5,
   "id": "integral-martin",
   "metadata": {},
   "outputs": [
    {
     "data": {
      "text/html": [
       "<html><script type=\"math/tex; mode=display\">\\newcommand{\\Bold}[1]{\\mathbf{#1}}\\left[L_{0},L_{1}\\right] = 0</script></html>"
      ],
      "text/latex": [
       "$$\\newcommand{\\Bold}[1]{\\mathbf{#1}}\\left[L_{0},L_{1}\\right] = 0$$"
      ],
      "text/plain": [
       "[L_0,L_1] = 0"
      ]
     },
     "execution_count": 5,
     "metadata": {},
     "output_type": "execute_result"
    }
   ],
   "source": [
    "L0.bracket(L1).display(L)"
   ]
  },
  {
   "cell_type": "code",
   "execution_count": 6,
   "id": "rational-silly",
   "metadata": {},
   "outputs": [
    {
     "data": {
      "text/html": [
       "<html><script type=\"math/tex; mode=display\">\\newcommand{\\Bold}[1]{\\mathbf{#1}}\\left[L_{2},L_{0}\\right] = L_{1}</script></html>"
      ],
      "text/latex": [
       "$$\\newcommand{\\Bold}[1]{\\mathbf{#1}}\\left[L_{2},L_{0}\\right] = L_{1}$$"
      ],
      "text/plain": [
       "[L_2,L_0] = L_1"
      ]
     },
     "execution_count": 6,
     "metadata": {},
     "output_type": "execute_result"
    }
   ],
   "source": [
    "L2.bracket(L0).display(L)"
   ]
  },
  {
   "cell_type": "code",
   "execution_count": 7,
   "id": "effective-thompson",
   "metadata": {},
   "outputs": [
    {
     "data": {
      "text/html": [
       "<html><script type=\"math/tex; mode=display\">\\newcommand{\\Bold}[1]{\\mathbf{#1}}\\left[L_{2},L_{1}\\right] = 2 L_{1}</script></html>"
      ],
      "text/latex": [
       "$$\\newcommand{\\Bold}[1]{\\mathbf{#1}}\\left[L_{2},L_{1}\\right] = 2 L_{1}$$"
      ],
      "text/plain": [
       "[L_2,L_1] = 2 L_1"
      ]
     },
     "execution_count": 7,
     "metadata": {},
     "output_type": "execute_result"
    }
   ],
   "source": [
    "L2.bracket(L1).display(L)"
   ]
  },
  {
   "cell_type": "markdown",
   "id": "consolidated-seventh",
   "metadata": {},
   "source": [
    "## 1. Subcase $g = g_{\\mu, \\nu}$\n",
    "\n",
    "We introduce the left invariant metric `g`, which in the frame `L` is given by the matrix\n",
    "$$\n",
    "g_{\\mu,\\nu} = \n",
    "\\begin{pmatrix}\n",
    "1 & 0 & 0 \\\\\n",
    "0 & \\mu & 0 \\\\\n",
    "0 & 0 & \\nu\n",
    "\\end{pmatrix}, \\qquad 0 < \\mu, \\nu\n",
    "$$"
   ]
  },
  {
   "cell_type": "code",
   "execution_count": 8,
   "id": "remarkable-committee",
   "metadata": {},
   "outputs": [
    {
     "data": {
      "text/html": [
       "<html><script type=\"math/tex; mode=display\">\\newcommand{\\Bold}[1]{\\mathbf{#1}}\\left(\\begin{array}{rrr}\n",
       "1 & 0 & 0 \\\\\n",
       "0 & \\mu & 0 \\\\\n",
       "0 & 0 & \\nu\n",
       "\\end{array}\\right)</script></html>"
      ],
      "text/latex": [
       "$$\\newcommand{\\Bold}[1]{\\mathbf{#1}}\\left(\\begin{array}{rrr}\n",
       "1 & 0 & 0 \\\\\n",
       "0 & \\mu & 0 \\\\\n",
       "0 & 0 & \\nu\n",
       "\\end{array}\\right)$$"
      ],
      "text/plain": [
       "[ 1  0  0]\n",
       "[ 0 mu  0]\n",
       "[ 0  0 nu]"
      ]
     },
     "execution_count": 8,
     "metadata": {},
     "output_type": "execute_result"
    }
   ],
   "source": [
    "mu, nu = var('mu nu')\n",
    "assume(mu>0,nu>0)\n",
    "g = G.left_inv_metric([1,0,0,0,mu,0,0,0,nu],name=r'g_{\\mu,\\nu}')\n",
    "g.comp(L)[:]"
   ]
  },
  {
   "cell_type": "markdown",
   "id": "electrical-cheat",
   "metadata": {},
   "source": [
    "We verify that the right invariant vector fields are Killing fields"
   ]
  },
  {
   "cell_type": "code",
   "execution_count": 9,
   "id": "jewish-inside",
   "metadata": {},
   "outputs": [
    {
     "data": {
      "text/html": [
       "<html><script type=\"math/tex; mode=display\">\\newcommand{\\Bold}[1]{\\mathbf{#1}}0</script></html>"
      ],
      "text/latex": [
       "$$\\newcommand{\\Bold}[1]{\\mathbf{#1}}0$$"
      ],
      "text/plain": [
       "0"
      ]
     },
     "metadata": {},
     "output_type": "display_data"
    },
    {
     "data": {
      "text/html": [
       "<html><script type=\"math/tex; mode=display\">\\newcommand{\\Bold}[1]{\\mathbf{#1}}0</script></html>"
      ],
      "text/latex": [
       "$$\\newcommand{\\Bold}[1]{\\mathbf{#1}}0$$"
      ],
      "text/plain": [
       "0"
      ]
     },
     "metadata": {},
     "output_type": "display_data"
    },
    {
     "data": {
      "text/html": [
       "<html><script type=\"math/tex; mode=display\">\\newcommand{\\Bold}[1]{\\mathbf{#1}}0</script></html>"
      ],
      "text/latex": [
       "$$\\newcommand{\\Bold}[1]{\\mathbf{#1}}0$$"
      ],
      "text/plain": [
       "0"
      ]
     },
     "metadata": {},
     "output_type": "display_data"
    }
   ],
   "source": [
    "for X in R:\n",
    "    display(g.lie_derivative(X).display(L))"
   ]
  },
  {
   "cell_type": "markdown",
   "id": "grateful-occasion",
   "metadata": {},
   "source": [
    "We compute the intersecion of the orthogonal Lie algebra $\\mathfrak{so}(g_{\\mu, \\nu}) \\simeq \\mathfrak{so}(3)$ with the pseudo-orthogonal Lie algebra with respecto to the Ricci tensor, $\\mathfrak{so}(\\operatorname{Ric}) \\simeq \\mathfrak{so}(2,1)$"
   ]
  },
  {
   "cell_type": "code",
   "execution_count": 10,
   "id": "entire-collective",
   "metadata": {},
   "outputs": [
    {
     "data": {
      "text/html": [
       "<html><script type=\"math/tex; mode=display\">\\newcommand{\\Bold}[1]{\\mathbf{#1}}\\left(\\left(\\begin{array}{rrr}\n",
       "1 & 0 & 0 \\\\\n",
       "0 & \\mu & 0 \\\\\n",
       "0 & 0 & \\nu\n",
       "\\end{array}\\right), \\left(\\begin{array}{rrr}\n",
       "-\\frac{\\mu}{2 \\, \\nu} & -\\frac{2 \\, \\mu}{\\nu} & 0 \\\\\n",
       "-\\frac{2 \\, \\mu}{\\nu} & \\frac{\\mu^{2} - 8 \\, \\mu}{2 \\, \\nu} & 0 \\\\\n",
       "0 & 0 & -\\frac{1}{2} \\, \\mu - 4\n",
       "\\end{array}\\right)\\right)</script></html>"
      ],
      "text/latex": [
       "$$\\newcommand{\\Bold}[1]{\\mathbf{#1}}\\left(\\left(\\begin{array}{rrr}\n",
       "1 & 0 & 0 \\\\\n",
       "0 & \\mu & 0 \\\\\n",
       "0 & 0 & \\nu\n",
       "\\end{array}\\right), \\left(\\begin{array}{rrr}\n",
       "-\\frac{\\mu}{2 \\, \\nu} & -\\frac{2 \\, \\mu}{\\nu} & 0 \\\\\n",
       "-\\frac{2 \\, \\mu}{\\nu} & \\frac{\\mu^{2} - 8 \\, \\mu}{2 \\, \\nu} & 0 \\\\\n",
       "0 & 0 & -\\frac{1}{2} \\, \\mu - 4\n",
       "\\end{array}\\right)\\right)$$"
      ],
      "text/plain": [
       "(\n",
       "[ 1  0  0]\n",
       "[ 0 mu  0]\n",
       "[ 0  0 nu],\n",
       "\n",
       "[          -1/2*mu/nu             -2*mu/nu                    0]\n",
       "[            -2*mu/nu 1/2*(mu^2 - 8*mu)/nu                    0]\n",
       "[                   0                    0          -1/2*mu - 4]\n",
       ")"
      ]
     },
     "execution_count": 10,
     "metadata": {},
     "output_type": "execute_result"
    }
   ],
   "source": [
    "g_mat = mat_SR(g.comp(L)[:])\n",
    "Ric = g.ricci()\n",
    "Ric_mat = mat_SR(Ric.comp(L)[:]).simplify_full()\n",
    "g_mat, Ric_mat"
   ]
  },
  {
   "cell_type": "code",
   "execution_count": 11,
   "id": "rocky-reading",
   "metadata": {},
   "outputs": [
    {
     "data": {
      "text/html": [
       "<html><script type=\"math/tex; mode=display\">\\newcommand{\\Bold}[1]{\\mathbf{#1}}\\left(\\begin{array}{rrr}\n",
       "a_{00} & a_{01} & a_{02} \\\\\n",
       "a_{10} & a_{11} & a_{12} \\\\\n",
       "a_{20} & a_{21} & a_{22}\n",
       "\\end{array}\\right)</script></html>"
      ],
      "text/latex": [
       "$$\\newcommand{\\Bold}[1]{\\mathbf{#1}}\\left(\\begin{array}{rrr}\n",
       "a_{00} & a_{01} & a_{02} \\\\\n",
       "a_{10} & a_{11} & a_{12} \\\\\n",
       "a_{20} & a_{21} & a_{22}\n",
       "\\end{array}\\right)$$"
      ],
      "text/plain": [
       "[a00 a01 a02]\n",
       "[a10 a11 a12]\n",
       "[a20 a21 a22]"
      ]
     },
     "execution_count": 11,
     "metadata": {},
     "output_type": "execute_result"
    }
   ],
   "source": [
    "A_list = []\n",
    "for i in range(3):\n",
    "    for j in range(3):\n",
    "        A_list += [var('a'+str(i)+str(j))]\n",
    "A = matrix(3,3,A_list); A"
   ]
  },
  {
   "cell_type": "markdown",
   "id": "binary-syndicate",
   "metadata": {},
   "source": [
    "Equations for $A \\in \\mathfrak{so}(g_{\\mu, \\nu})$:"
   ]
  },
  {
   "cell_type": "code",
   "execution_count": 12,
   "id": "paperback-approach",
   "metadata": {},
   "outputs": [
    {
     "data": {
      "text/html": [
       "<html><script type=\"math/tex; mode=display\">\\newcommand{\\Bold}[1]{\\mathbf{#1}}\\left(\\begin{array}{rrr}\n",
       "0 & -a_{10} \\mu & -a_{20} \\nu \\\\\n",
       "a_{10} & 0 & -\\frac{a_{21} \\nu}{\\mu} \\\\\n",
       "a_{20} & a_{21} & 0\n",
       "\\end{array}\\right)</script></html>"
      ],
      "text/latex": [
       "$$\\newcommand{\\Bold}[1]{\\mathbf{#1}}\\left(\\begin{array}{rrr}\n",
       "0 & -a_{10} \\mu & -a_{20} \\nu \\\\\n",
       "a_{10} & 0 & -\\frac{a_{21} \\nu}{\\mu} \\\\\n",
       "a_{20} & a_{21} & 0\n",
       "\\end{array}\\right)$$"
      ],
      "text/plain": [
       "[         0    -a10*mu    -a20*nu]\n",
       "[       a10          0 -a21*nu/mu]\n",
       "[       a20        a21          0]"
      ]
     },
     "execution_count": 12,
     "metadata": {},
     "output_type": "execute_result"
    }
   ],
   "source": [
    "sols_so3 = solve((A.transpose() * g_mat + g_mat * A).list(), A.list(), algorithm='sympy')\n",
    "A_so3 = A.subs(sols_so3); A_so3"
   ]
  },
  {
   "cell_type": "markdown",
   "id": "hairy-reggae",
   "metadata": {},
   "source": [
    "Equations for `A_{so3}` be also an element of $\\mathfrak{so}(\\operatorname{Ric})$"
   ]
  },
  {
   "cell_type": "code",
   "execution_count": 13,
   "id": "normal-router",
   "metadata": {},
   "outputs": [
    {
     "data": {
      "text/html": [
       "<html><script type=\"math/tex; mode=display\">\\newcommand{\\Bold}[1]{\\mathbf{#1}}\\left(\\begin{array}{rrr}\n",
       "0 & 0 & -\\frac{1}{2} \\, a_{21} \\nu \\\\\n",
       "0 & 0 & -\\frac{a_{21} \\nu}{\\mu} \\\\\n",
       "\\frac{1}{2} \\, a_{21} & a_{21} & 0\n",
       "\\end{array}\\right)</script></html>"
      ],
      "text/latex": [
       "$$\\newcommand{\\Bold}[1]{\\mathbf{#1}}\\left(\\begin{array}{rrr}\n",
       "0 & 0 & -\\frac{1}{2} \\, a_{21} \\nu \\\\\n",
       "0 & 0 & -\\frac{a_{21} \\nu}{\\mu} \\\\\n",
       "\\frac{1}{2} \\, a_{21} & a_{21} & 0\n",
       "\\end{array}\\right)$$"
      ],
      "text/plain": [
       "[          0           0 -1/2*a21*nu]\n",
       "[          0           0  -a21*nu/mu]\n",
       "[    1/2*a21         a21           0]"
      ]
     },
     "execution_count": 13,
     "metadata": {},
     "output_type": "execute_result"
    }
   ],
   "source": [
    "sols_so3_Ric = solve((A_so3.transpose() * Ric_mat + Ric_mat * A_so3).list(), [a10,a20,a21], algorithm='sympy')\n",
    "A_so3_Ric = A_so3.subs(sols_so3_Ric); A_so3_Ric"
   ]
  },
  {
   "cell_type": "markdown",
   "id": "drawn-incidence",
   "metadata": {},
   "source": [
    "Thus, if there exists a Killing field $X$ such that $X_e = 0$, then its covariant derivative must be a multiple of the following matrix:"
   ]
  },
  {
   "cell_type": "code",
   "execution_count": 14,
   "id": "simplified-current",
   "metadata": {},
   "outputs": [
    {
     "data": {
      "text/html": [
       "<html><script type=\"math/tex; mode=display\">\\newcommand{\\Bold}[1]{\\mathbf{#1}}\\left(\\begin{array}{rrr}\n",
       "0 & 0 & -\\nu \\\\\n",
       "0 & 0 & -\\frac{2 \\, \\nu}{\\mu} \\\\\n",
       "1 & 2 & 0\n",
       "\\end{array}\\right)</script></html>"
      ],
      "text/latex": [
       "$$\\newcommand{\\Bold}[1]{\\mathbf{#1}}\\left(\\begin{array}{rrr}\n",
       "0 & 0 & -\\nu \\\\\n",
       "0 & 0 & -\\frac{2 \\, \\nu}{\\mu} \\\\\n",
       "1 & 2 & 0\n",
       "\\end{array}\\right)$$"
      ],
      "text/plain": [
       "[       0        0      -nu]\n",
       "[       0        0 -2*nu/mu]\n",
       "[       1        2        0]"
      ]
     },
     "execution_count": 14,
     "metadata": {},
     "output_type": "execute_result"
    }
   ],
   "source": [
    "A_kill = A_so3_Ric.subs(a21=2); A_kill"
   ]
  },
  {
   "cell_type": "markdown",
   "id": "cheap-glucose",
   "metadata": {},
   "source": [
    "In order to show that such $X$ exists we can check that $A_{kill} \\cdot \\nabla^i R = 0$ for $i = 0, 1, 2$, where $R$ is the curvature tensor of $G$."
   ]
  },
  {
   "cell_type": "code",
   "execution_count": 15,
   "id": "considerable-scene",
   "metadata": {},
   "outputs": [
    {
     "name": "stdout",
     "output_type": "stream",
     "text": [
      "CPU times: user 28 µs, sys: 4 µs, total: 32 µs\n",
      "Wall time: 36.2 µs\n"
     ]
    }
   ],
   "source": [
    "%time Riem = g.riemann()"
   ]
  },
  {
   "cell_type": "markdown",
   "id": "according-binding",
   "metadata": {},
   "source": [
    "Recall that `Riem` is a $(1, 3)$-tensor, which is usually denoted by\n",
    "$$\n",
    "R_{X, Y}Z = \\nabla_X \\nabla_Y Z - \\nabla_Y \\nabla_X Z - \\nabla_{[X, Y]} Z\\in \\mathfrak X(M)\n",
    "$$\n",
    "for $X, Y, Z \\in \\mathfrak X(M)$"
   ]
  },
  {
   "cell_type": "code",
   "execution_count": 16,
   "id": "national-pointer",
   "metadata": {},
   "outputs": [
    {
     "name": "stdout",
     "output_type": "stream",
     "text": [
      "Tensor field Riem(g_{\\mu,\\nu}) of type (1,3) on the 3-dimensional differentiable manifold G_0\n"
     ]
    }
   ],
   "source": [
    "print(Riem)"
   ]
  },
  {
   "cell_type": "markdown",
   "id": "mental-feedback",
   "metadata": {},
   "source": [
    "We prefer working with the associated $(0, 4)$-tensor\n",
    "$$\n",
    "(X, Y, Z, W) \\mapsto g(R_{X, Y}Z, W)\n",
    "$$\n",
    "evaluated at the identity."
   ]
  },
  {
   "cell_type": "code",
   "execution_count": 17,
   "id": "rough-identification",
   "metadata": {},
   "outputs": [
    {
     "name": "stdout",
     "output_type": "stream",
     "text": [
      "Type-(0,4) tensor on the Tangent space at Point e on the 3-dimensional differentiable manifold G_0\n"
     ]
    }
   ],
   "source": [
    "Riem1 = Riem.down(g).at(G.zero)\n",
    "print(Riem1)"
   ]
  },
  {
   "cell_type": "markdown",
   "id": "geological-sewing",
   "metadata": {},
   "source": [
    "For example"
   ]
  },
  {
   "cell_type": "code",
   "execution_count": 18,
   "id": "identical-assault",
   "metadata": {},
   "outputs": [
    {
     "data": {
      "text/html": [
       "<html><script type=\"math/tex; mode=display\">\\newcommand{\\Bold}[1]{\\mathbf{#1}}-\\frac{\\mu^{2}}{4 \\, \\nu}</script></html>"
      ],
      "text/latex": [
       "$$\\newcommand{\\Bold}[1]{\\mathbf{#1}}-\\frac{\\mu^{2}}{4 \\, \\nu}$$"
      ],
      "text/plain": [
       "-1/4*mu^2/nu"
      ]
     },
     "execution_count": 18,
     "metadata": {},
     "output_type": "execute_result"
    }
   ],
   "source": [
    "e0,e1,e2 = L.at(G.zero)\n",
    "L_zero = L.at(G.zero)\n",
    "Riem1(e0,e1,e1,e0)"
   ]
  },
  {
   "cell_type": "markdown",
   "id": "oriental-tiffany",
   "metadata": {},
   "source": [
    "Now we define the endomorphism $f$ of $T_eG$ associated with the matrix $A_{kill}$ and verify that $f \\cdot R_e = 0$, $f \\cdot (\\nabla R)_e = 0$ and $f \\cdot (\\nabla^2 R)_e = 0$"
   ]
  },
  {
   "cell_type": "code",
   "execution_count": 19,
   "id": "thousand-button",
   "metadata": {},
   "outputs": [],
   "source": [
    "TeG = G.manifold.tangent_space(G.zero)\n",
    "f = TeG.endomorphism(A_kill)"
   ]
  },
  {
   "cell_type": "markdown",
   "id": "progressive-concert",
   "metadata": {},
   "source": [
    "Recall that if $T$ is an algebraic $(0, k)$-tensor on $T_eG$, then $f \\cdot T$ is defined by\n",
    "$$\n",
    "(f \\cdot T)(v_0, v_1, \\ldots, v_{k-1}) = \\sum_{i = 0}^k T(v_0, \\ldots, v_{i-1}, f(v_i), v_{i+1}, \\ldots, v_{k - 1})\n",
    "$$\n",
    "for $v_0, \\ldots, v_{k-1} \\in T_eG$."
   ]
  },
  {
   "cell_type": "code",
   "execution_count": 20,
   "id": "discrete-merchandise",
   "metadata": {},
   "outputs": [],
   "source": [
    "def so_action4(f,T,x,y,z,w):\n",
    "    return T(f(x),y,z,w)+T(x,f(y),z,w)+T(x,y,f(z),w)+T(x,y,z,f(w))"
   ]
  },
  {
   "cell_type": "code",
   "execution_count": 21,
   "id": "unlike-sweden",
   "metadata": {},
   "outputs": [
    {
     "data": {
      "text/html": [
       "<html><script type=\"math/tex; mode=display\">\\newcommand{\\Bold}[1]{\\mathbf{#1}}\\left[0, 0, 0, 0, 0, 0, 0, 0, 0, 0, 0, 0, 0, 0, 0, 0, 0, 0, 0, 0, 0, 0, 0, 0, 0, 0, 0, 0, 0, 0, 0, 0, 0, 0, 0, 0, 0, 0, 0, 0, 0, 0, 0, 0, 0, 0, 0, 0, 0, 0, 0, 0, 0, 0, 0, 0, 0, 0, 0, 0, 0, 0, 0, 0, 0, 0, 0, 0, 0, 0, 0, 0, 0, 0, 0, 0, 0, 0, 0, 0, 0\\right]</script></html>"
      ],
      "text/latex": [
       "$$\\newcommand{\\Bold}[1]{\\mathbf{#1}}\\left[0, 0, 0, 0, 0, 0, 0, 0, 0, 0, 0, 0, 0, 0, 0, 0, 0, 0, 0, 0, 0, 0, 0, 0, 0, 0, 0, 0, 0, 0, 0, 0, 0, 0, 0, 0, 0, 0, 0, 0, 0, 0, 0, 0, 0, 0, 0, 0, 0, 0, 0, 0, 0, 0, 0, 0, 0, 0, 0, 0, 0, 0, 0, 0, 0, 0, 0, 0, 0, 0, 0, 0, 0, 0, 0, 0, 0, 0, 0, 0, 0\\right]$$"
      ],
      "text/plain": [
       "[0,\n",
       " 0,\n",
       " 0,\n",
       " 0,\n",
       " 0,\n",
       " 0,\n",
       " 0,\n",
       " 0,\n",
       " 0,\n",
       " 0,\n",
       " 0,\n",
       " 0,\n",
       " 0,\n",
       " 0,\n",
       " 0,\n",
       " 0,\n",
       " 0,\n",
       " 0,\n",
       " 0,\n",
       " 0,\n",
       " 0,\n",
       " 0,\n",
       " 0,\n",
       " 0,\n",
       " 0,\n",
       " 0,\n",
       " 0,\n",
       " 0,\n",
       " 0,\n",
       " 0,\n",
       " 0,\n",
       " 0,\n",
       " 0,\n",
       " 0,\n",
       " 0,\n",
       " 0,\n",
       " 0,\n",
       " 0,\n",
       " 0,\n",
       " 0,\n",
       " 0,\n",
       " 0,\n",
       " 0,\n",
       " 0,\n",
       " 0,\n",
       " 0,\n",
       " 0,\n",
       " 0,\n",
       " 0,\n",
       " 0,\n",
       " 0,\n",
       " 0,\n",
       " 0,\n",
       " 0,\n",
       " 0,\n",
       " 0,\n",
       " 0,\n",
       " 0,\n",
       " 0,\n",
       " 0,\n",
       " 0,\n",
       " 0,\n",
       " 0,\n",
       " 0,\n",
       " 0,\n",
       " 0,\n",
       " 0,\n",
       " 0,\n",
       " 0,\n",
       " 0,\n",
       " 0,\n",
       " 0,\n",
       " 0,\n",
       " 0,\n",
       " 0,\n",
       " 0,\n",
       " 0,\n",
       " 0,\n",
       " 0,\n",
       " 0,\n",
       " 0]"
      ]
     },
     "execution_count": 21,
     "metadata": {},
     "output_type": "execute_result"
    }
   ],
   "source": [
    "[so_action4(f,Riem1,x,y,z,w) for x in L_zero for y in L_zero for z in L_zero for w in L_zero]"
   ]
  },
  {
   "cell_type": "code",
   "execution_count": 22,
   "id": "caroline-anatomy",
   "metadata": {},
   "outputs": [],
   "source": [
    "nabla = g.connection()"
   ]
  },
  {
   "cell_type": "code",
   "execution_count": 23,
   "id": "virtual-barrel",
   "metadata": {},
   "outputs": [
    {
     "name": "stdout",
     "output_type": "stream",
     "text": [
      "CPU times: user 144 ms, sys: 104 ms, total: 247 ms\n",
      "Wall time: 4.07 s\n"
     ]
    }
   ],
   "source": [
    "%time nablaRiem = nabla(Riem)"
   ]
  },
  {
   "cell_type": "code",
   "execution_count": 24,
   "id": "swedish-oriental",
   "metadata": {},
   "outputs": [
    {
     "name": "stdout",
     "output_type": "stream",
     "text": [
      "CPU times: user 465 ms, sys: 79.4 ms, total: 545 ms\n",
      "Wall time: 1.07 s\n"
     ]
    }
   ],
   "source": [
    "%time nablaRiem1 = nablaRiem.down(g).at(G.zero)"
   ]
  },
  {
   "cell_type": "code",
   "execution_count": 25,
   "id": "brazilian-denver",
   "metadata": {},
   "outputs": [],
   "source": [
    "def so_action5(f,T,x,y,z,w,u):\n",
    "    return T(f(x),y,z,w,u)+T(x,f(y),z,w,u)+T(x,y,f(z),w,u)+T(x,y,z,f(w),u)+T(x,y,z,w,f(u))"
   ]
  },
  {
   "cell_type": "code",
   "execution_count": 26,
   "id": "limited-panama",
   "metadata": {},
   "outputs": [
    {
     "data": {
      "text/html": [
       "<html><script type=\"math/tex; mode=display\">\\newcommand{\\Bold}[1]{\\mathbf{#1}}\\mbox{Type-(0,5) tensor on the Tangent space at Point e on the 3-dimensional differentiable manifold G_0}</script></html>"
      ],
      "text/latex": [
       "$$\\newcommand{\\Bold}[1]{\\mathbf{#1}}\\mbox{Type-(0,5) tensor on the Tangent space at Point e on the 3-dimensional differentiable manifold G_0}$$"
      ],
      "text/plain": [
       "Type-(0,5) tensor on the Tangent space at Point e on the 3-dimensional differentiable manifold G_0"
      ]
     },
     "execution_count": 26,
     "metadata": {},
     "output_type": "execute_result"
    }
   ],
   "source": [
    "nablaRiem1"
   ]
  },
  {
   "cell_type": "code",
   "execution_count": 27,
   "id": "outer-commander",
   "metadata": {},
   "outputs": [
    {
     "name": "stdout",
     "output_type": "stream",
     "text": [
      "CPU times: user 4.58 s, sys: 5.48 ms, total: 4.59 s\n",
      "Wall time: 4.59 s\n"
     ]
    },
    {
     "data": {
      "text/html": [
       "<html><script type=\"math/tex; mode=display\">\\newcommand{\\Bold}[1]{\\mathbf{#1}}\\left[0, 0, 0, 0, 0, 0, 0, 0, 0, 0, 0, 0, 0, 0, 0, 0, 0, 0, 0, 0, 0, 0, 0, 0, 0, 0, 0, 0, 0, 0, 0, 0, 0, 0, 0, 0, 0, 0, 0, 0, 0, 0, 0, 0, 0, 0, 0, 0, 0, 0, 0, 0, 0, 0, 0, 0, 0, 0, 0, 0, 0, 0, 0, 0, 0, 0, 0, 0, 0, 0, 0, 0, 0, 0, 0, 0, 0, 0, 0, 0, 0, 0, 0, 0, 0, 0, 0, 0, 0, 0, 0, 0, 0, 0, 0, 0, 0, 0, 0, 0, 0, 0, 0, 0, 0, 0, 0, 0, 0, 0, 0, 0, 0, 0, 0, 0, 0, 0, 0, 0, 0, 0, 0, 0, 0, 0, 0, 0, 0, 0, 0, 0, 0, 0, 0, 0, 0, 0, 0, 0, 0, 0, 0, 0, 0, 0, 0, 0, 0, 0, 0, 0, 0, 0, 0, 0, 0, 0, 0, 0, 0, 0, 0, 0, 0, 0, 0, 0, 0, 0, 0, 0, 0, 0, 0, 0, 0, 0, 0, 0, 0, 0, 0, 0, 0, 0, 0, 0, 0, 0, 0, 0, 0, 0, 0, 0, 0, 0, 0, 0, 0, 0, 0, 0, 0, 0, 0, 0, 0, 0, 0, 0, 0, 0, 0, 0, 0, 0, 0, 0, 0, 0, 0, 0, 0, 0, 0, 0, 0, 0, 0, 0, 0, 0, 0, 0, 0, 0, 0, 0, 0, 0, 0\\right]</script></html>"
      ],
      "text/latex": [
       "$$\\newcommand{\\Bold}[1]{\\mathbf{#1}}\\left[0, 0, 0, 0, 0, 0, 0, 0, 0, 0, 0, 0, 0, 0, 0, 0, 0, 0, 0, 0, 0, 0, 0, 0, 0, 0, 0, 0, 0, 0, 0, 0, 0, 0, 0, 0, 0, 0, 0, 0, 0, 0, 0, 0, 0, 0, 0, 0, 0, 0, 0, 0, 0, 0, 0, 0, 0, 0, 0, 0, 0, 0, 0, 0, 0, 0, 0, 0, 0, 0, 0, 0, 0, 0, 0, 0, 0, 0, 0, 0, 0, 0, 0, 0, 0, 0, 0, 0, 0, 0, 0, 0, 0, 0, 0, 0, 0, 0, 0, 0, 0, 0, 0, 0, 0, 0, 0, 0, 0, 0, 0, 0, 0, 0, 0, 0, 0, 0, 0, 0, 0, 0, 0, 0, 0, 0, 0, 0, 0, 0, 0, 0, 0, 0, 0, 0, 0, 0, 0, 0, 0, 0, 0, 0, 0, 0, 0, 0, 0, 0, 0, 0, 0, 0, 0, 0, 0, 0, 0, 0, 0, 0, 0, 0, 0, 0, 0, 0, 0, 0, 0, 0, 0, 0, 0, 0, 0, 0, 0, 0, 0, 0, 0, 0, 0, 0, 0, 0, 0, 0, 0, 0, 0, 0, 0, 0, 0, 0, 0, 0, 0, 0, 0, 0, 0, 0, 0, 0, 0, 0, 0, 0, 0, 0, 0, 0, 0, 0, 0, 0, 0, 0, 0, 0, 0, 0, 0, 0, 0, 0, 0, 0, 0, 0, 0, 0, 0, 0, 0, 0, 0, 0, 0\\right]$$"
      ],
      "text/plain": [
       "[0,\n",
       " 0,\n",
       " 0,\n",
       " 0,\n",
       " 0,\n",
       " 0,\n",
       " 0,\n",
       " 0,\n",
       " 0,\n",
       " 0,\n",
       " 0,\n",
       " 0,\n",
       " 0,\n",
       " 0,\n",
       " 0,\n",
       " 0,\n",
       " 0,\n",
       " 0,\n",
       " 0,\n",
       " 0,\n",
       " 0,\n",
       " 0,\n",
       " 0,\n",
       " 0,\n",
       " 0,\n",
       " 0,\n",
       " 0,\n",
       " 0,\n",
       " 0,\n",
       " 0,\n",
       " 0,\n",
       " 0,\n",
       " 0,\n",
       " 0,\n",
       " 0,\n",
       " 0,\n",
       " 0,\n",
       " 0,\n",
       " 0,\n",
       " 0,\n",
       " 0,\n",
       " 0,\n",
       " 0,\n",
       " 0,\n",
       " 0,\n",
       " 0,\n",
       " 0,\n",
       " 0,\n",
       " 0,\n",
       " 0,\n",
       " 0,\n",
       " 0,\n",
       " 0,\n",
       " 0,\n",
       " 0,\n",
       " 0,\n",
       " 0,\n",
       " 0,\n",
       " 0,\n",
       " 0,\n",
       " 0,\n",
       " 0,\n",
       " 0,\n",
       " 0,\n",
       " 0,\n",
       " 0,\n",
       " 0,\n",
       " 0,\n",
       " 0,\n",
       " 0,\n",
       " 0,\n",
       " 0,\n",
       " 0,\n",
       " 0,\n",
       " 0,\n",
       " 0,\n",
       " 0,\n",
       " 0,\n",
       " 0,\n",
       " 0,\n",
       " 0,\n",
       " 0,\n",
       " 0,\n",
       " 0,\n",
       " 0,\n",
       " 0,\n",
       " 0,\n",
       " 0,\n",
       " 0,\n",
       " 0,\n",
       " 0,\n",
       " 0,\n",
       " 0,\n",
       " 0,\n",
       " 0,\n",
       " 0,\n",
       " 0,\n",
       " 0,\n",
       " 0,\n",
       " 0,\n",
       " 0,\n",
       " 0,\n",
       " 0,\n",
       " 0,\n",
       " 0,\n",
       " 0,\n",
       " 0,\n",
       " 0,\n",
       " 0,\n",
       " 0,\n",
       " 0,\n",
       " 0,\n",
       " 0,\n",
       " 0,\n",
       " 0,\n",
       " 0,\n",
       " 0,\n",
       " 0,\n",
       " 0,\n",
       " 0,\n",
       " 0,\n",
       " 0,\n",
       " 0,\n",
       " 0,\n",
       " 0,\n",
       " 0,\n",
       " 0,\n",
       " 0,\n",
       " 0,\n",
       " 0,\n",
       " 0,\n",
       " 0,\n",
       " 0,\n",
       " 0,\n",
       " 0,\n",
       " 0,\n",
       " 0,\n",
       " 0,\n",
       " 0,\n",
       " 0,\n",
       " 0,\n",
       " 0,\n",
       " 0,\n",
       " 0,\n",
       " 0,\n",
       " 0,\n",
       " 0,\n",
       " 0,\n",
       " 0,\n",
       " 0,\n",
       " 0,\n",
       " 0,\n",
       " 0,\n",
       " 0,\n",
       " 0,\n",
       " 0,\n",
       " 0,\n",
       " 0,\n",
       " 0,\n",
       " 0,\n",
       " 0,\n",
       " 0,\n",
       " 0,\n",
       " 0,\n",
       " 0,\n",
       " 0,\n",
       " 0,\n",
       " 0,\n",
       " 0,\n",
       " 0,\n",
       " 0,\n",
       " 0,\n",
       " 0,\n",
       " 0,\n",
       " 0,\n",
       " 0,\n",
       " 0,\n",
       " 0,\n",
       " 0,\n",
       " 0,\n",
       " 0,\n",
       " 0,\n",
       " 0,\n",
       " 0,\n",
       " 0,\n",
       " 0,\n",
       " 0,\n",
       " 0,\n",
       " 0,\n",
       " 0,\n",
       " 0,\n",
       " 0,\n",
       " 0,\n",
       " 0,\n",
       " 0,\n",
       " 0,\n",
       " 0,\n",
       " 0,\n",
       " 0,\n",
       " 0,\n",
       " 0,\n",
       " 0,\n",
       " 0,\n",
       " 0,\n",
       " 0,\n",
       " 0,\n",
       " 0,\n",
       " 0,\n",
       " 0,\n",
       " 0,\n",
       " 0,\n",
       " 0,\n",
       " 0,\n",
       " 0,\n",
       " 0,\n",
       " 0,\n",
       " 0,\n",
       " 0,\n",
       " 0,\n",
       " 0,\n",
       " 0,\n",
       " 0,\n",
       " 0,\n",
       " 0,\n",
       " 0,\n",
       " 0,\n",
       " 0,\n",
       " 0,\n",
       " 0,\n",
       " 0,\n",
       " 0,\n",
       " 0,\n",
       " 0,\n",
       " 0,\n",
       " 0,\n",
       " 0,\n",
       " 0,\n",
       " 0,\n",
       " 0,\n",
       " 0,\n",
       " 0,\n",
       " 0,\n",
       " 0]"
      ]
     },
     "execution_count": 27,
     "metadata": {},
     "output_type": "execute_result"
    }
   ],
   "source": [
    "# long time\n",
    "%time [so_action5(f,nablaRiem1,x,y,z,w,u) for x in L_zero for y in L_zero for z in L_zero for w in L_zero for u in L_zero]"
   ]
  },
  {
   "cell_type": "code",
   "execution_count": 28,
   "id": "respected-spoke",
   "metadata": {},
   "outputs": [
    {
     "name": "stdout",
     "output_type": "stream",
     "text": [
      "CPU times: user 216 ms, sys: 86.7 ms, total: 302 ms\n",
      "Wall time: 14.5 s\n"
     ]
    }
   ],
   "source": [
    "#long time\n",
    "%time nabla2Riem = nabla(nablaRiem)"
   ]
  },
  {
   "cell_type": "code",
   "execution_count": 29,
   "id": "through-expression",
   "metadata": {},
   "outputs": [
    {
     "name": "stdout",
     "output_type": "stream",
     "text": [
      "CPU times: user 1.39 s, sys: 111 ms, total: 1.5 s\n",
      "Wall time: 3.84 s\n"
     ]
    }
   ],
   "source": [
    "# long time\n",
    "%time nabla2Riem1 = nabla2Riem.down(g).at(G.zero)"
   ]
  },
  {
   "cell_type": "code",
   "execution_count": 30,
   "id": "conservative-acrobat",
   "metadata": {},
   "outputs": [
    {
     "data": {
      "text/html": [
       "<html><script type=\"math/tex; mode=display\">\\newcommand{\\Bold}[1]{\\mathbf{#1}}\\mbox{Type-(0,6) tensor on the Tangent space at Point e on the 3-dimensional differentiable manifold G_0}</script></html>"
      ],
      "text/latex": [
       "$$\\newcommand{\\Bold}[1]{\\mathbf{#1}}\\mbox{Type-(0,6) tensor on the Tangent space at Point e on the 3-dimensional differentiable manifold G_0}$$"
      ],
      "text/plain": [
       "Type-(0,6) tensor on the Tangent space at Point e on the 3-dimensional differentiable manifold G_0"
      ]
     },
     "execution_count": 30,
     "metadata": {},
     "output_type": "execute_result"
    }
   ],
   "source": [
    "nabla2Riem1"
   ]
  },
  {
   "cell_type": "code",
   "execution_count": 31,
   "id": "finite-actress",
   "metadata": {},
   "outputs": [],
   "source": [
    "def so_action6(f,T,x,y,z,w,u,v):\n",
    "    return T(f(x),y,z,w,u,v)+T(x,f(y),z,w,u,v)+T(x,y,f(z),w,u,v)+T(x,y,z,f(w),u,v)+T(x,y,z,w,f(u),v)+T(x,y,z,w,u,f(v))"
   ]
  },
  {
   "cell_type": "code",
   "execution_count": 32,
   "id": "interim-nickel",
   "metadata": {},
   "outputs": [
    {
     "name": "stdout",
     "output_type": "stream",
     "text": [
      "CPU times: user 1min 1s, sys: 54.9 ms, total: 1min 2s\n",
      "Wall time: 1min 1s\n"
     ]
    },
    {
     "data": {
      "text/html": [
       "<html><script type=\"math/tex; mode=display\">\\newcommand{\\Bold}[1]{\\mathbf{#1}}\\left[0, 0, 0, 0, 0, 0, 0, 0, 0, 0, 0, 0, 0, 0, 0, 0, 0, 0, 0, 0, 0, 0, 0, 0, 0, 0, 0, 0, 0, 0, 0, 0, 0, 0, 0, 0, 0, 0, 0, 0, 0, 0, 0, 0, 0, 0, 0, 0, 0, 0, 0, 0, 0, 0, 0, 0, 0, 0, 0, 0, 0, 0, 0, 0, 0, 0, 0, 0, 0, 0, 0, 0, 0, 0, 0, 0, 0, 0, 0, 0, 0, 0, 0, 0, 0, 0, 0, 0, 0, 0, 0, 0, 0, 0, 0, 0, 0, 0, 0, 0, 0, 0, 0, 0, 0, 0, 0, 0, 0, 0, 0, 0, 0, 0, 0, 0, 0, 0, 0, 0, 0, 0, 0, 0, 0, 0, 0, 0, 0, 0, 0, 0, 0, 0, 0, 0, 0, 0, 0, 0, 0, 0, 0, 0, 0, 0, 0, 0, 0, 0, 0, 0, 0, 0, 0, 0, 0, 0, 0, 0, 0, 0, 0, 0, 0, 0, 0, 0, 0, 0, 0, 0, 0, 0, 0, 0, 0, 0, 0, 0, 0, 0, 0, 0, 0, 0, 0, 0, 0, 0, 0, 0, 0, 0, 0, 0, 0, 0, 0, 0, 0, 0, 0, 0, 0, 0, 0, 0, 0, 0, 0, 0, 0, 0, 0, 0, 0, 0, 0, 0, 0, 0, 0, 0, 0, 0, 0, 0, 0, 0, 0, 0, 0, 0, 0, 0, 0, 0, 0, 0, 0, 0, 0, 0, 0, 0, 0, 0, 0, 0, 0, 0, 0, 0, 0, 0, 0, 0, 0, 0, 0, 0, 0, 0, 0, 0, 0, 0, 0, 0, 0, 0, 0, 0, 0, 0, 0, 0, 0, 0, 0, 0, 0, 0, 0, 0, 0, 0, 0, 0, 0, 0, 0, 0, 0, 0, 0, 0, 0, 0, 0, 0, 0, 0, 0, 0, 0, 0, 0, 0, 0, 0, 0, 0, 0, 0, 0, 0, 0, 0, 0, 0, 0, 0, 0, 0, 0, 0, 0, 0, 0, 0, 0, 0, 0, 0, 0, 0, 0, 0, 0, 0, 0, 0, 0, 0, 0, 0, 0, 0, 0, 0, 0, 0, 0, 0, 0, 0, 0, 0, 0, 0, 0, 0, 0, 0, 0, 0, 0, 0, 0, 0, 0, 0, 0, 0, 0, 0, 0, 0, 0, 0, 0, 0, 0, 0, 0, 0, 0, 0, 0, 0, 0, 0, 0, 0, 0, 0, 0, 0, 0, 0, 0, 0, 0, 0, 0, 0, 0, 0, 0, 0, 0, 0, 0, 0, 0, 0, 0, 0, 0, 0, 0, 0, 0, 0, 0, 0, 0, 0, 0, 0, 0, 0, 0, 0, 0, 0, 0, 0, 0, 0, 0, 0, 0, 0, 0, 0, 0, 0, 0, 0, 0, 0, 0, 0, 0, 0, 0, 0, 0, 0, 0, 0, 0, 0, 0, 0, 0, 0, 0, 0, 0, 0, 0, 0, 0, 0, 0, 0, 0, 0, 0, 0, 0, 0, 0, 0, 0, 0, 0, 0, 0, 0, 0, 0, 0, 0, 0, 0, 0, 0, 0, 0, 0, 0, 0, 0, 0, 0, 0, 0, 0, 0, 0, 0, 0, 0, 0, 0, 0, 0, 0, 0, 0, 0, 0, 0, 0, 0, 0, 0, 0, 0, 0, 0, 0, 0, 0, 0, 0, 0, 0, 0, 0, 0, 0, 0, 0, 0, 0, 0, 0, 0, 0, 0, 0, 0, 0, 0, 0, 0, 0, 0, 0, 0, 0, 0, 0, 0, 0, 0, 0, 0, 0, 0, 0, 0, 0, 0, 0, 0, 0, 0, 0, 0, 0, 0, 0, 0, 0, 0, 0, 0, 0, 0, 0, 0, 0, 0, 0, 0, 0, 0, 0, 0, 0, 0, 0, 0, 0, 0, 0, 0, 0, 0, 0, 0, 0, 0, 0, 0, 0, 0, 0, 0, 0, 0, 0, 0, 0, 0, 0, 0, 0, 0, 0, 0, 0, 0, 0, 0, 0, 0, 0, 0, 0, 0, 0, 0, 0, 0, 0, 0, 0, 0, 0, 0, 0, 0, 0, 0, 0, 0, 0, 0, 0, 0, 0, 0, 0, 0, 0, 0, 0, 0, 0, 0, 0, 0, 0, 0, 0, 0, 0, 0, 0, 0, 0, 0, 0, 0, 0, 0, 0, 0, 0, 0, 0, 0, 0, 0, 0, 0, 0, 0, 0, 0, 0, 0, 0, 0, 0, 0, 0, 0, 0, 0, 0, 0, 0, 0, 0, 0, 0, 0, 0, 0, 0\\right]</script></html>"
      ],
      "text/latex": [
       "$$\\newcommand{\\Bold}[1]{\\mathbf{#1}}\\left[0, 0, 0, 0, 0, 0, 0, 0, 0, 0, 0, 0, 0, 0, 0, 0, 0, 0, 0, 0, 0, 0, 0, 0, 0, 0, 0, 0, 0, 0, 0, 0, 0, 0, 0, 0, 0, 0, 0, 0, 0, 0, 0, 0, 0, 0, 0, 0, 0, 0, 0, 0, 0, 0, 0, 0, 0, 0, 0, 0, 0, 0, 0, 0, 0, 0, 0, 0, 0, 0, 0, 0, 0, 0, 0, 0, 0, 0, 0, 0, 0, 0, 0, 0, 0, 0, 0, 0, 0, 0, 0, 0, 0, 0, 0, 0, 0, 0, 0, 0, 0, 0, 0, 0, 0, 0, 0, 0, 0, 0, 0, 0, 0, 0, 0, 0, 0, 0, 0, 0, 0, 0, 0, 0, 0, 0, 0, 0, 0, 0, 0, 0, 0, 0, 0, 0, 0, 0, 0, 0, 0, 0, 0, 0, 0, 0, 0, 0, 0, 0, 0, 0, 0, 0, 0, 0, 0, 0, 0, 0, 0, 0, 0, 0, 0, 0, 0, 0, 0, 0, 0, 0, 0, 0, 0, 0, 0, 0, 0, 0, 0, 0, 0, 0, 0, 0, 0, 0, 0, 0, 0, 0, 0, 0, 0, 0, 0, 0, 0, 0, 0, 0, 0, 0, 0, 0, 0, 0, 0, 0, 0, 0, 0, 0, 0, 0, 0, 0, 0, 0, 0, 0, 0, 0, 0, 0, 0, 0, 0, 0, 0, 0, 0, 0, 0, 0, 0, 0, 0, 0, 0, 0, 0, 0, 0, 0, 0, 0, 0, 0, 0, 0, 0, 0, 0, 0, 0, 0, 0, 0, 0, 0, 0, 0, 0, 0, 0, 0, 0, 0, 0, 0, 0, 0, 0, 0, 0, 0, 0, 0, 0, 0, 0, 0, 0, 0, 0, 0, 0, 0, 0, 0, 0, 0, 0, 0, 0, 0, 0, 0, 0, 0, 0, 0, 0, 0, 0, 0, 0, 0, 0, 0, 0, 0, 0, 0, 0, 0, 0, 0, 0, 0, 0, 0, 0, 0, 0, 0, 0, 0, 0, 0, 0, 0, 0, 0, 0, 0, 0, 0, 0, 0, 0, 0, 0, 0, 0, 0, 0, 0, 0, 0, 0, 0, 0, 0, 0, 0, 0, 0, 0, 0, 0, 0, 0, 0, 0, 0, 0, 0, 0, 0, 0, 0, 0, 0, 0, 0, 0, 0, 0, 0, 0, 0, 0, 0, 0, 0, 0, 0, 0, 0, 0, 0, 0, 0, 0, 0, 0, 0, 0, 0, 0, 0, 0, 0, 0, 0, 0, 0, 0, 0, 0, 0, 0, 0, 0, 0, 0, 0, 0, 0, 0, 0, 0, 0, 0, 0, 0, 0, 0, 0, 0, 0, 0, 0, 0, 0, 0, 0, 0, 0, 0, 0, 0, 0, 0, 0, 0, 0, 0, 0, 0, 0, 0, 0, 0, 0, 0, 0, 0, 0, 0, 0, 0, 0, 0, 0, 0, 0, 0, 0, 0, 0, 0, 0, 0, 0, 0, 0, 0, 0, 0, 0, 0, 0, 0, 0, 0, 0, 0, 0, 0, 0, 0, 0, 0, 0, 0, 0, 0, 0, 0, 0, 0, 0, 0, 0, 0, 0, 0, 0, 0, 0, 0, 0, 0, 0, 0, 0, 0, 0, 0, 0, 0, 0, 0, 0, 0, 0, 0, 0, 0, 0, 0, 0, 0, 0, 0, 0, 0, 0, 0, 0, 0, 0, 0, 0, 0, 0, 0, 0, 0, 0, 0, 0, 0, 0, 0, 0, 0, 0, 0, 0, 0, 0, 0, 0, 0, 0, 0, 0, 0, 0, 0, 0, 0, 0, 0, 0, 0, 0, 0, 0, 0, 0, 0, 0, 0, 0, 0, 0, 0, 0, 0, 0, 0, 0, 0, 0, 0, 0, 0, 0, 0, 0, 0, 0, 0, 0, 0, 0, 0, 0, 0, 0, 0, 0, 0, 0, 0, 0, 0, 0, 0, 0, 0, 0, 0, 0, 0, 0, 0, 0, 0, 0, 0, 0, 0, 0, 0, 0, 0, 0, 0, 0, 0, 0, 0, 0, 0, 0, 0, 0, 0, 0, 0, 0, 0, 0, 0, 0, 0, 0, 0, 0, 0, 0, 0, 0, 0, 0, 0, 0, 0, 0, 0, 0, 0, 0, 0, 0, 0, 0, 0, 0, 0, 0, 0, 0, 0, 0, 0, 0, 0, 0, 0, 0, 0, 0, 0, 0, 0, 0, 0, 0, 0, 0, 0, 0, 0, 0, 0, 0, 0, 0, 0, 0, 0, 0, 0, 0, 0, 0, 0, 0, 0, 0, 0\\right]$$"
      ],
      "text/plain": [
       "[0,\n",
       " 0,\n",
       " 0,\n",
       " 0,\n",
       " 0,\n",
       " 0,\n",
       " 0,\n",
       " 0,\n",
       " 0,\n",
       " 0,\n",
       " 0,\n",
       " 0,\n",
       " 0,\n",
       " 0,\n",
       " 0,\n",
       " 0,\n",
       " 0,\n",
       " 0,\n",
       " 0,\n",
       " 0,\n",
       " 0,\n",
       " 0,\n",
       " 0,\n",
       " 0,\n",
       " 0,\n",
       " 0,\n",
       " 0,\n",
       " 0,\n",
       " 0,\n",
       " 0,\n",
       " 0,\n",
       " 0,\n",
       " 0,\n",
       " 0,\n",
       " 0,\n",
       " 0,\n",
       " 0,\n",
       " 0,\n",
       " 0,\n",
       " 0,\n",
       " 0,\n",
       " 0,\n",
       " 0,\n",
       " 0,\n",
       " 0,\n",
       " 0,\n",
       " 0,\n",
       " 0,\n",
       " 0,\n",
       " 0,\n",
       " 0,\n",
       " 0,\n",
       " 0,\n",
       " 0,\n",
       " 0,\n",
       " 0,\n",
       " 0,\n",
       " 0,\n",
       " 0,\n",
       " 0,\n",
       " 0,\n",
       " 0,\n",
       " 0,\n",
       " 0,\n",
       " 0,\n",
       " 0,\n",
       " 0,\n",
       " 0,\n",
       " 0,\n",
       " 0,\n",
       " 0,\n",
       " 0,\n",
       " 0,\n",
       " 0,\n",
       " 0,\n",
       " 0,\n",
       " 0,\n",
       " 0,\n",
       " 0,\n",
       " 0,\n",
       " 0,\n",
       " 0,\n",
       " 0,\n",
       " 0,\n",
       " 0,\n",
       " 0,\n",
       " 0,\n",
       " 0,\n",
       " 0,\n",
       " 0,\n",
       " 0,\n",
       " 0,\n",
       " 0,\n",
       " 0,\n",
       " 0,\n",
       " 0,\n",
       " 0,\n",
       " 0,\n",
       " 0,\n",
       " 0,\n",
       " 0,\n",
       " 0,\n",
       " 0,\n",
       " 0,\n",
       " 0,\n",
       " 0,\n",
       " 0,\n",
       " 0,\n",
       " 0,\n",
       " 0,\n",
       " 0,\n",
       " 0,\n",
       " 0,\n",
       " 0,\n",
       " 0,\n",
       " 0,\n",
       " 0,\n",
       " 0,\n",
       " 0,\n",
       " 0,\n",
       " 0,\n",
       " 0,\n",
       " 0,\n",
       " 0,\n",
       " 0,\n",
       " 0,\n",
       " 0,\n",
       " 0,\n",
       " 0,\n",
       " 0,\n",
       " 0,\n",
       " 0,\n",
       " 0,\n",
       " 0,\n",
       " 0,\n",
       " 0,\n",
       " 0,\n",
       " 0,\n",
       " 0,\n",
       " 0,\n",
       " 0,\n",
       " 0,\n",
       " 0,\n",
       " 0,\n",
       " 0,\n",
       " 0,\n",
       " 0,\n",
       " 0,\n",
       " 0,\n",
       " 0,\n",
       " 0,\n",
       " 0,\n",
       " 0,\n",
       " 0,\n",
       " 0,\n",
       " 0,\n",
       " 0,\n",
       " 0,\n",
       " 0,\n",
       " 0,\n",
       " 0,\n",
       " 0,\n",
       " 0,\n",
       " 0,\n",
       " 0,\n",
       " 0,\n",
       " 0,\n",
       " 0,\n",
       " 0,\n",
       " 0,\n",
       " 0,\n",
       " 0,\n",
       " 0,\n",
       " 0,\n",
       " 0,\n",
       " 0,\n",
       " 0,\n",
       " 0,\n",
       " 0,\n",
       " 0,\n",
       " 0,\n",
       " 0,\n",
       " 0,\n",
       " 0,\n",
       " 0,\n",
       " 0,\n",
       " 0,\n",
       " 0,\n",
       " 0,\n",
       " 0,\n",
       " 0,\n",
       " 0,\n",
       " 0,\n",
       " 0,\n",
       " 0,\n",
       " 0,\n",
       " 0,\n",
       " 0,\n",
       " 0,\n",
       " 0,\n",
       " 0,\n",
       " 0,\n",
       " 0,\n",
       " 0,\n",
       " 0,\n",
       " 0,\n",
       " 0,\n",
       " 0,\n",
       " 0,\n",
       " 0,\n",
       " 0,\n",
       " 0,\n",
       " 0,\n",
       " 0,\n",
       " 0,\n",
       " 0,\n",
       " 0,\n",
       " 0,\n",
       " 0,\n",
       " 0,\n",
       " 0,\n",
       " 0,\n",
       " 0,\n",
       " 0,\n",
       " 0,\n",
       " 0,\n",
       " 0,\n",
       " 0,\n",
       " 0,\n",
       " 0,\n",
       " 0,\n",
       " 0,\n",
       " 0,\n",
       " 0,\n",
       " 0,\n",
       " 0,\n",
       " 0,\n",
       " 0,\n",
       " 0,\n",
       " 0,\n",
       " 0,\n",
       " 0,\n",
       " 0,\n",
       " 0,\n",
       " 0,\n",
       " 0,\n",
       " 0,\n",
       " 0,\n",
       " 0,\n",
       " 0,\n",
       " 0,\n",
       " 0,\n",
       " 0,\n",
       " 0,\n",
       " 0,\n",
       " 0,\n",
       " 0,\n",
       " 0,\n",
       " 0,\n",
       " 0,\n",
       " 0,\n",
       " 0,\n",
       " 0,\n",
       " 0,\n",
       " 0,\n",
       " 0,\n",
       " 0,\n",
       " 0,\n",
       " 0,\n",
       " 0,\n",
       " 0,\n",
       " 0,\n",
       " 0,\n",
       " 0,\n",
       " 0,\n",
       " 0,\n",
       " 0,\n",
       " 0,\n",
       " 0,\n",
       " 0,\n",
       " 0,\n",
       " 0,\n",
       " 0,\n",
       " 0,\n",
       " 0,\n",
       " 0,\n",
       " 0,\n",
       " 0,\n",
       " 0,\n",
       " 0,\n",
       " 0,\n",
       " 0,\n",
       " 0,\n",
       " 0,\n",
       " 0,\n",
       " 0,\n",
       " 0,\n",
       " 0,\n",
       " 0,\n",
       " 0,\n",
       " 0,\n",
       " 0,\n",
       " 0,\n",
       " 0,\n",
       " 0,\n",
       " 0,\n",
       " 0,\n",
       " 0,\n",
       " 0,\n",
       " 0,\n",
       " 0,\n",
       " 0,\n",
       " 0,\n",
       " 0,\n",
       " 0,\n",
       " 0,\n",
       " 0,\n",
       " 0,\n",
       " 0,\n",
       " 0,\n",
       " 0,\n",
       " 0,\n",
       " 0,\n",
       " 0,\n",
       " 0,\n",
       " 0,\n",
       " 0,\n",
       " 0,\n",
       " 0,\n",
       " 0,\n",
       " 0,\n",
       " 0,\n",
       " 0,\n",
       " 0,\n",
       " 0,\n",
       " 0,\n",
       " 0,\n",
       " 0,\n",
       " 0,\n",
       " 0,\n",
       " 0,\n",
       " 0,\n",
       " 0,\n",
       " 0,\n",
       " 0,\n",
       " 0,\n",
       " 0,\n",
       " 0,\n",
       " 0,\n",
       " 0,\n",
       " 0,\n",
       " 0,\n",
       " 0,\n",
       " 0,\n",
       " 0,\n",
       " 0,\n",
       " 0,\n",
       " 0,\n",
       " 0,\n",
       " 0,\n",
       " 0,\n",
       " 0,\n",
       " 0,\n",
       " 0,\n",
       " 0,\n",
       " 0,\n",
       " 0,\n",
       " 0,\n",
       " 0,\n",
       " 0,\n",
       " 0,\n",
       " 0,\n",
       " 0,\n",
       " 0,\n",
       " 0,\n",
       " 0,\n",
       " 0,\n",
       " 0,\n",
       " 0,\n",
       " 0,\n",
       " 0,\n",
       " 0,\n",
       " 0,\n",
       " 0,\n",
       " 0,\n",
       " 0,\n",
       " 0,\n",
       " 0,\n",
       " 0,\n",
       " 0,\n",
       " 0,\n",
       " 0,\n",
       " 0,\n",
       " 0,\n",
       " 0,\n",
       " 0,\n",
       " 0,\n",
       " 0,\n",
       " 0,\n",
       " 0,\n",
       " 0,\n",
       " 0,\n",
       " 0,\n",
       " 0,\n",
       " 0,\n",
       " 0,\n",
       " 0,\n",
       " 0,\n",
       " 0,\n",
       " 0,\n",
       " 0,\n",
       " 0,\n",
       " 0,\n",
       " 0,\n",
       " 0,\n",
       " 0,\n",
       " 0,\n",
       " 0,\n",
       " 0,\n",
       " 0,\n",
       " 0,\n",
       " 0,\n",
       " 0,\n",
       " 0,\n",
       " 0,\n",
       " 0,\n",
       " 0,\n",
       " 0,\n",
       " 0,\n",
       " 0,\n",
       " 0,\n",
       " 0,\n",
       " 0,\n",
       " 0,\n",
       " 0,\n",
       " 0,\n",
       " 0,\n",
       " 0,\n",
       " 0,\n",
       " 0,\n",
       " 0,\n",
       " 0,\n",
       " 0,\n",
       " 0,\n",
       " 0,\n",
       " 0,\n",
       " 0,\n",
       " 0,\n",
       " 0,\n",
       " 0,\n",
       " 0,\n",
       " 0,\n",
       " 0,\n",
       " 0,\n",
       " 0,\n",
       " 0,\n",
       " 0,\n",
       " 0,\n",
       " 0,\n",
       " 0,\n",
       " 0,\n",
       " 0,\n",
       " 0,\n",
       " 0,\n",
       " 0,\n",
       " 0,\n",
       " 0,\n",
       " 0,\n",
       " 0,\n",
       " 0,\n",
       " 0,\n",
       " 0,\n",
       " 0,\n",
       " 0,\n",
       " 0,\n",
       " 0,\n",
       " 0,\n",
       " 0,\n",
       " 0,\n",
       " 0,\n",
       " 0,\n",
       " 0,\n",
       " 0,\n",
       " 0,\n",
       " 0,\n",
       " 0,\n",
       " 0,\n",
       " 0,\n",
       " 0,\n",
       " 0,\n",
       " 0,\n",
       " 0,\n",
       " 0,\n",
       " 0,\n",
       " 0,\n",
       " 0,\n",
       " 0,\n",
       " 0,\n",
       " 0,\n",
       " 0,\n",
       " 0,\n",
       " 0,\n",
       " 0,\n",
       " 0,\n",
       " 0,\n",
       " 0,\n",
       " 0,\n",
       " 0,\n",
       " 0,\n",
       " 0,\n",
       " 0,\n",
       " 0,\n",
       " 0,\n",
       " 0,\n",
       " 0,\n",
       " 0,\n",
       " 0,\n",
       " 0,\n",
       " 0,\n",
       " 0,\n",
       " 0,\n",
       " 0,\n",
       " 0,\n",
       " 0,\n",
       " 0,\n",
       " 0,\n",
       " 0,\n",
       " 0,\n",
       " 0,\n",
       " 0,\n",
       " 0,\n",
       " 0,\n",
       " 0,\n",
       " 0,\n",
       " 0,\n",
       " 0,\n",
       " 0,\n",
       " 0,\n",
       " 0,\n",
       " 0,\n",
       " 0,\n",
       " 0,\n",
       " 0,\n",
       " 0,\n",
       " 0,\n",
       " 0,\n",
       " 0,\n",
       " 0,\n",
       " 0,\n",
       " 0,\n",
       " 0,\n",
       " 0,\n",
       " 0,\n",
       " 0,\n",
       " 0,\n",
       " 0,\n",
       " 0,\n",
       " 0,\n",
       " 0,\n",
       " 0,\n",
       " 0,\n",
       " 0,\n",
       " 0,\n",
       " 0,\n",
       " 0,\n",
       " 0,\n",
       " 0,\n",
       " 0,\n",
       " 0,\n",
       " 0,\n",
       " 0,\n",
       " 0,\n",
       " 0,\n",
       " 0,\n",
       " 0,\n",
       " 0,\n",
       " 0,\n",
       " 0,\n",
       " 0,\n",
       " 0,\n",
       " 0,\n",
       " 0,\n",
       " 0,\n",
       " 0,\n",
       " 0,\n",
       " 0,\n",
       " 0,\n",
       " 0,\n",
       " 0,\n",
       " 0,\n",
       " 0,\n",
       " 0,\n",
       " 0,\n",
       " 0,\n",
       " 0,\n",
       " 0,\n",
       " 0,\n",
       " 0,\n",
       " 0,\n",
       " 0,\n",
       " 0,\n",
       " 0,\n",
       " 0,\n",
       " 0,\n",
       " 0,\n",
       " 0,\n",
       " 0,\n",
       " 0,\n",
       " 0,\n",
       " 0,\n",
       " 0,\n",
       " 0,\n",
       " 0,\n",
       " 0,\n",
       " 0,\n",
       " 0,\n",
       " 0,\n",
       " 0,\n",
       " 0,\n",
       " 0,\n",
       " 0,\n",
       " 0,\n",
       " 0,\n",
       " 0,\n",
       " 0,\n",
       " 0,\n",
       " 0,\n",
       " 0,\n",
       " 0,\n",
       " 0,\n",
       " 0,\n",
       " 0,\n",
       " 0,\n",
       " 0,\n",
       " 0,\n",
       " 0,\n",
       " 0,\n",
       " 0,\n",
       " 0,\n",
       " 0,\n",
       " 0,\n",
       " 0,\n",
       " 0,\n",
       " 0,\n",
       " 0,\n",
       " 0,\n",
       " 0,\n",
       " 0,\n",
       " 0,\n",
       " 0,\n",
       " 0,\n",
       " 0,\n",
       " 0,\n",
       " 0,\n",
       " 0,\n",
       " 0,\n",
       " 0,\n",
       " 0,\n",
       " 0,\n",
       " 0,\n",
       " 0,\n",
       " 0,\n",
       " 0,\n",
       " 0,\n",
       " 0,\n",
       " 0,\n",
       " 0,\n",
       " 0,\n",
       " 0,\n",
       " 0,\n",
       " 0,\n",
       " 0,\n",
       " 0,\n",
       " 0,\n",
       " 0,\n",
       " 0,\n",
       " 0,\n",
       " 0,\n",
       " 0,\n",
       " 0,\n",
       " 0,\n",
       " 0,\n",
       " 0,\n",
       " 0,\n",
       " 0,\n",
       " 0,\n",
       " 0,\n",
       " 0,\n",
       " 0,\n",
       " 0,\n",
       " 0,\n",
       " 0,\n",
       " 0,\n",
       " 0,\n",
       " 0,\n",
       " 0,\n",
       " 0,\n",
       " 0,\n",
       " 0,\n",
       " 0,\n",
       " 0,\n",
       " 0,\n",
       " 0,\n",
       " 0,\n",
       " 0,\n",
       " 0,\n",
       " 0,\n",
       " 0,\n",
       " 0,\n",
       " 0,\n",
       " 0,\n",
       " 0,\n",
       " 0,\n",
       " 0,\n",
       " 0,\n",
       " 0,\n",
       " 0,\n",
       " 0,\n",
       " 0,\n",
       " 0,\n",
       " 0,\n",
       " 0,\n",
       " 0,\n",
       " 0,\n",
       " 0,\n",
       " 0,\n",
       " 0,\n",
       " 0,\n",
       " 0]"
      ]
     },
     "execution_count": 32,
     "metadata": {},
     "output_type": "execute_result"
    }
   ],
   "source": [
    "# long time\n",
    "%time [so_action6(f,nabla2Riem1,x,y,z,w,u,v).simplify_full() for x in L_zero for y in L_zero for z in L_zero for w in L_zero for u in L_zero for v in L_zero]"
   ]
  },
  {
   "cell_type": "markdown",
   "id": "protected-louisville",
   "metadata": {},
   "source": [
    "### 1.1 The structure of the isometry Lie algebra\n",
    "\n",
    "We proved that the Lie algerba of Killing fields $\\mathcal K(M, g_{\\mu, \\nu})$ is spanned by the right invariant vector fields $R_0, R_1, R_2$ and a Killing field $Z$ such that $Z_e = 0$ and $(\\nabla Z)_e = A_{kill}$ (with respect to the frame `L`). The initial conditions of the brackets $[R_i, Z]$ are given by\n",
    "\\begin{align*}\n",
    "[R_i, Z]_e = A_{kill} R_i|_e, && (\\nabla [R_i, Z])_e = - [(\\nabla R_i)_e, A_{kill}]\n",
    "\\end{align*}\n",
    "for $i = 0, 1, 2$."
   ]
  },
  {
   "cell_type": "code",
   "execution_count": 33,
   "id": "supposed-exhibit",
   "metadata": {},
   "outputs": [
    {
     "data": {
      "text/html": [
       "<html><script type=\"math/tex; mode=display\">\\newcommand{\\Bold}[1]{\\mathbf{#1}}\\left(\\left(\\begin{array}{rrr}\n",
       "0 & 0 & 0 \\\\\n",
       "0 & 0 & -\\frac{1}{2} \\\\\n",
       "0 & \\frac{\\mu}{2 \\, \\nu} & 0\n",
       "\\end{array}\\right), \\left(\\begin{array}{rrr}\n",
       "0 & 0 & -\\frac{1}{2} \\, \\mu \\\\\n",
       "0 & 0 & -2 \\\\\n",
       "\\frac{\\mu}{2 \\, \\nu} & \\frac{2 \\, \\mu}{\\nu} & 0\n",
       "\\end{array}\\right), \\left(\\begin{array}{rrr}\n",
       "0 & -\\frac{1}{2} \\, \\mu & 0 \\\\\n",
       "\\frac{1}{2} & 0 & 0 \\\\\n",
       "0 & 0 & 0\n",
       "\\end{array}\\right), \\left(\\begin{array}{rrr}\n",
       "0 & 0 & -\\nu \\\\\n",
       "0 & 0 & -\\frac{2 \\, \\nu}{\\mu} \\\\\n",
       "1 & 2 & 0\n",
       "\\end{array}\\right)\\right)</script></html>"
      ],
      "text/latex": [
       "$$\\newcommand{\\Bold}[1]{\\mathbf{#1}}\\left(\\left(\\begin{array}{rrr}\n",
       "0 & 0 & 0 \\\\\n",
       "0 & 0 & -\\frac{1}{2} \\\\\n",
       "0 & \\frac{\\mu}{2 \\, \\nu} & 0\n",
       "\\end{array}\\right), \\left(\\begin{array}{rrr}\n",
       "0 & 0 & -\\frac{1}{2} \\, \\mu \\\\\n",
       "0 & 0 & -2 \\\\\n",
       "\\frac{\\mu}{2 \\, \\nu} & \\frac{2 \\, \\mu}{\\nu} & 0\n",
       "\\end{array}\\right), \\left(\\begin{array}{rrr}\n",
       "0 & -\\frac{1}{2} \\, \\mu & 0 \\\\\n",
       "\\frac{1}{2} & 0 & 0 \\\\\n",
       "0 & 0 & 0\n",
       "\\end{array}\\right), \\left(\\begin{array}{rrr}\n",
       "0 & 0 & -\\nu \\\\\n",
       "0 & 0 & -\\frac{2 \\, \\nu}{\\mu} \\\\\n",
       "1 & 2 & 0\n",
       "\\end{array}\\right)\\right)$$"
      ],
      "text/plain": [
       "(\n",
       "[        0         0         0]  [        0         0   -1/2*mu]\n",
       "[        0         0      -1/2]  [        0         0        -2]\n",
       "[        0 1/2*mu/nu         0], [1/2*mu/nu   2*mu/nu         0],\n",
       "\n",
       "[      0 -1/2*mu       0]  [       0        0      -nu]\n",
       "[    1/2       0       0]  [       0        0 -2*nu/mu]\n",
       "[      0       0       0], [       1        2        0]\n",
       ")"
      ]
     },
     "execution_count": 33,
     "metadata": {},
     "output_type": "execute_result"
    }
   ],
   "source": [
    "nablaR0 = nabla(R0).at(G.zero).comp()[:]\n",
    "nablaR1 = nabla(R1).at(G.zero).comp()[:]\n",
    "nablaR2 = nabla(R2).at(G.zero).comp()[:]\n",
    "nablaR0, nablaR1, nablaR2, A_kill"
   ]
  },
  {
   "cell_type": "code",
   "execution_count": 34,
   "id": "union-emperor",
   "metadata": {},
   "outputs": [
    {
     "data": {
      "text/html": [
       "<html><script type=\"math/tex; mode=display\">\\newcommand{\\Bold}[1]{\\mathbf{#1}}\\left(\\begin{array}{rrr}\n",
       "0 & -\\frac{1}{2} \\, \\mu & 0 \\\\\n",
       "\\frac{1}{2} & 0 & 0 \\\\\n",
       "0 & 0 & 0\n",
       "\\end{array}\\right)</script></html>"
      ],
      "text/latex": [
       "$$\\newcommand{\\Bold}[1]{\\mathbf{#1}}\\left(\\begin{array}{rrr}\n",
       "0 & -\\frac{1}{2} \\, \\mu & 0 \\\\\n",
       "\\frac{1}{2} & 0 & 0 \\\\\n",
       "0 & 0 & 0\n",
       "\\end{array}\\right)$$"
      ],
      "text/plain": [
       "[      0 -1/2*mu       0]\n",
       "[    1/2       0       0]\n",
       "[      0       0       0]"
      ]
     },
     "execution_count": 34,
     "metadata": {},
     "output_type": "execute_result"
    }
   ],
   "source": [
    "-(nablaR0 * A_kill - A_kill * nablaR0)"
   ]
  },
  {
   "cell_type": "markdown",
   "id": "mediterranean-ecuador",
   "metadata": {},
   "source": [
    "Hence, $[R_0, Z] = R_2$"
   ]
  },
  {
   "cell_type": "code",
   "execution_count": 35,
   "id": "published-prayer",
   "metadata": {},
   "outputs": [
    {
     "data": {
      "text/html": [
       "<html><script type=\"math/tex; mode=display\">\\newcommand{\\Bold}[1]{\\mathbf{#1}}\\left(\\begin{array}{rrr}\n",
       "0 & -\\mu & 0 \\\\\n",
       "1 & 0 & 0 \\\\\n",
       "0 & 0 & 0\n",
       "\\end{array}\\right)</script></html>"
      ],
      "text/latex": [
       "$$\\newcommand{\\Bold}[1]{\\mathbf{#1}}\\left(\\begin{array}{rrr}\n",
       "0 & -\\mu & 0 \\\\\n",
       "1 & 0 & 0 \\\\\n",
       "0 & 0 & 0\n",
       "\\end{array}\\right)$$"
      ],
      "text/plain": [
       "[  0 -mu   0]\n",
       "[  1   0   0]\n",
       "[  0   0   0]"
      ]
     },
     "execution_count": 35,
     "metadata": {},
     "output_type": "execute_result"
    }
   ],
   "source": [
    "-(nablaR1 * A_kill - A_kill * nablaR1)"
   ]
  },
  {
   "cell_type": "markdown",
   "id": "affiliated-acrobat",
   "metadata": {},
   "source": [
    "Hence, $[R_1, Z] = 2 \\, R_1$"
   ]
  },
  {
   "cell_type": "markdown",
   "id": "hungry-devices",
   "metadata": {},
   "source": [
    "The bracket $Y = [R_2, Z]$ can be determined in the following way. First, note that $Y_e = A_{kill}e_2 = -\\nu e_0 -\\frac{2\\nu}{\\nu}e_1$. So, $(\\nabla Y)_e = - \\nu (\\nabla R_0)_e - \\frac{2\\nu}{\\mu} (\\nabla R_1)_e + \\alpha A_{kill}$ and we can determine the value of $\\alpha$ from the identity $(\\nabla Y)_e = -[(\\nabla R_2)_e, A_{kill}]$. In other words,\n",
    "$$\n",
    "\\alpha A_{kill} = -[(\\nabla R_2)_e, A_{kill}] + \\nu (\\nabla R_0)_e + \\frac{2\\nu}{\\mu} (\\nabla R_1)_e\n",
    "$$\n"
   ]
  },
  {
   "cell_type": "code",
   "execution_count": 36,
   "id": "opened-merchandise",
   "metadata": {},
   "outputs": [
    {
     "data": {
      "text/html": [
       "<html><script type=\"math/tex; mode=display\">\\newcommand{\\Bold}[1]{\\mathbf{#1}}\\left(\\begin{array}{rrr}\n",
       "0 & 0 & -2 \\, \\nu \\\\\n",
       "0 & 0 & -\\frac{4 \\, \\nu}{\\mu} \\\\\n",
       "2 & 4 & 0\n",
       "\\end{array}\\right)</script></html>"
      ],
      "text/latex": [
       "$$\\newcommand{\\Bold}[1]{\\mathbf{#1}}\\left(\\begin{array}{rrr}\n",
       "0 & 0 & -2 \\, \\nu \\\\\n",
       "0 & 0 & -\\frac{4 \\, \\nu}{\\mu} \\\\\n",
       "2 & 4 & 0\n",
       "\\end{array}\\right)$$"
      ],
      "text/plain": [
       "[       0        0    -2*nu]\n",
       "[       0        0 -4*nu/mu]\n",
       "[       2        4        0]"
      ]
     },
     "execution_count": 36,
     "metadata": {},
     "output_type": "execute_result"
    }
   ],
   "source": [
    "-(nablaR2 * A_kill - A_kill * nablaR2) + nu * nablaR0 + 2 * nu / mu * nablaR1"
   ]
  },
  {
   "cell_type": "markdown",
   "id": "excellent-valentine",
   "metadata": {},
   "source": [
    "Therefore, $[R_2, Z] = - \\nu R_0 - \\frac{2 \\nu}{\\mu} R_1 + 2 Z$."
   ]
  },
  {
   "cell_type": "markdown",
   "id": "consistent-matthew",
   "metadata": {},
   "source": [
    "Finally we compute the Killing form of the Lie algebra of Killing vector fields when $\\nu = 1$."
   ]
  },
  {
   "cell_type": "code",
   "execution_count": 37,
   "id": "color-compilation",
   "metadata": {},
   "outputs": [
    {
     "data": {
      "text/html": [
       "<html><script type=\"math/tex; mode=display\">\\newcommand{\\Bold}[1]{\\mathbf{#1}}\\verb|Lie|\\phantom{\\verb!x!}\\verb|algebra|\\phantom{\\verb!x!}\\verb|on|\\phantom{\\verb!x!}\\verb|4|\\phantom{\\verb!x!}\\verb|generators|\\phantom{\\verb!x!}\\verb|(r_0,|\\phantom{\\verb!x!}\\verb|r_1,|\\phantom{\\verb!x!}\\verb|r_2,|\\phantom{\\verb!x!}\\verb|Z)|\\phantom{\\verb!x!}\\verb|over|\\phantom{\\verb!x!}\\verb|Symbolic|\\phantom{\\verb!x!}\\verb|Ring|</script></html>"
      ],
      "text/latex": [
       "$$\\newcommand{\\Bold}[1]{\\mathbf{#1}}\\verb|Lie|\\phantom{\\verb!x!}\\verb|algebra|\\phantom{\\verb!x!}\\verb|on|\\phantom{\\verb!x!}\\verb|4|\\phantom{\\verb!x!}\\verb|generators|\\phantom{\\verb!x!}\\verb|(r_0,|\\phantom{\\verb!x!}\\verb|r_1,|\\phantom{\\verb!x!}\\verb|r_2,|\\phantom{\\verb!x!}\\verb|Z)|\\phantom{\\verb!x!}\\verb|over|\\phantom{\\verb!x!}\\verb|Symbolic|\\phantom{\\verb!x!}\\verb|Ring|$$"
      ],
      "text/plain": [
       "Lie algebra on 4 generators (r_0, r_1, r_2, Z) over Symbolic Ring"
      ]
     },
     "execution_count": 37,
     "metadata": {},
     "output_type": "execute_result"
    }
   ],
   "source": [
    "structure_coefs = {('r_0','r_2'): {'r_1':1}, ('r_1','r_2'): {'r_1':2}, ('r_0','Z'): {'r_2':1},\n",
    "    ('r_1','Z'): {'r_2':2}, ('r_2','Z'): {'r_0': -1, 'r_1':-2/mu, 'Z':2}}\n",
    "k.<r_0,r_1,r_2,Z> = LieAlgebra(SR,structure_coefs)\n",
    "k"
   ]
  },
  {
   "cell_type": "code",
   "execution_count": 38,
   "id": "isolated-rental",
   "metadata": {},
   "outputs": [
    {
     "data": {
      "text/html": [
       "<html><script type=\"math/tex; mode=display\">\\newcommand{\\Bold}[1]{\\mathbf{#1}}0</script></html>"
      ],
      "text/latex": [
       "$$\\newcommand{\\Bold}[1]{\\mathbf{#1}}0$$"
      ],
      "text/plain": [
       "0"
      ]
     },
     "metadata": {},
     "output_type": "display_data"
    },
    {
     "data": {
      "text/html": [
       "<html><script type=\"math/tex; mode=display\">\\newcommand{\\Bold}[1]{\\mathbf{#1}}r_1</script></html>"
      ],
      "text/latex": [
       "$$\\newcommand{\\Bold}[1]{\\mathbf{#1}}r_1$$"
      ],
      "text/plain": [
       "r_1"
      ]
     },
     "metadata": {},
     "output_type": "display_data"
    },
    {
     "data": {
      "text/html": [
       "<html><script type=\"math/tex; mode=display\">\\newcommand{\\Bold}[1]{\\mathbf{#1}}2r_1</script></html>"
      ],
      "text/latex": [
       "$$\\newcommand{\\Bold}[1]{\\mathbf{#1}}2r_1$$"
      ],
      "text/plain": [
       "2*r_1"
      ]
     },
     "metadata": {},
     "output_type": "display_data"
    },
    {
     "data": {
      "text/html": [
       "<html><script type=\"math/tex; mode=display\">\\newcommand{\\Bold}[1]{\\mathbf{#1}}r_2</script></html>"
      ],
      "text/latex": [
       "$$\\newcommand{\\Bold}[1]{\\mathbf{#1}}r_2$$"
      ],
      "text/plain": [
       "r_2"
      ]
     },
     "metadata": {},
     "output_type": "display_data"
    },
    {
     "data": {
      "text/html": [
       "<html><script type=\"math/tex; mode=display\">\\newcommand{\\Bold}[1]{\\mathbf{#1}}2r_2</script></html>"
      ],
      "text/latex": [
       "$$\\newcommand{\\Bold}[1]{\\mathbf{#1}}2r_2$$"
      ],
      "text/plain": [
       "2*r_2"
      ]
     },
     "metadata": {},
     "output_type": "display_data"
    },
    {
     "data": {
      "text/html": [
       "<html><script type=\"math/tex; mode=display\">\\newcommand{\\Bold}[1]{\\mathbf{#1}}-r_0 - \\frac{2}{\\mu}r_1 + 2Z</script></html>"
      ],
      "text/latex": [
       "$$\\newcommand{\\Bold}[1]{\\mathbf{#1}}-r_0 - \\frac{2}{\\mu}r_1 + 2Z$$"
      ],
      "text/plain": [
       "-r_0 - 2/mu*r_1 + 2*Z"
      ]
     },
     "metadata": {},
     "output_type": "display_data"
    }
   ],
   "source": [
    "display(k.bracket(r_0,r_1))\n",
    "display(k.bracket(r_0,r_2))\n",
    "display(k.bracket(r_1,r_2))\n",
    "display(k.bracket(r_0,Z))\n",
    "display(k.bracket(r_1,Z))\n",
    "display(k.bracket(r_2,Z))"
   ]
  },
  {
   "cell_type": "code",
   "execution_count": 39,
   "id": "hungarian-silicon",
   "metadata": {},
   "outputs": [
    {
     "data": {
      "text/html": [
       "<html><script type=\"math/tex; mode=display\">\\newcommand{\\Bold}[1]{\\mathbf{#1}}\\left(\\begin{array}{rrrr}\n",
       "0 & 0 & 0 & -4 \\\\\n",
       "0 & 0 & 0 & -8 \\\\\n",
       "0 & 0 & 8 & 0 \\\\\n",
       "-4 & -8 & 0 & -\\frac{8}{\\mu} - 2\n",
       "\\end{array}\\right)</script></html>"
      ],
      "text/latex": [
       "$$\\newcommand{\\Bold}[1]{\\mathbf{#1}}\\left(\\begin{array}{rrrr}\n",
       "0 & 0 & 0 & -4 \\\\\n",
       "0 & 0 & 0 & -8 \\\\\n",
       "0 & 0 & 8 & 0 \\\\\n",
       "-4 & -8 & 0 & -\\frac{8}{\\mu} - 2\n",
       "\\end{array}\\right)$$"
      ],
      "text/plain": [
       "[        0         0         0        -4]\n",
       "[        0         0         0        -8]\n",
       "[        0         0         8         0]\n",
       "[       -4        -8         0 -8/mu - 2]"
      ]
     },
     "execution_count": 39,
     "metadata": {},
     "output_type": "execute_result"
    }
   ],
   "source": [
    "k_killing_form = k.killing_form_matrix()\n",
    "k_killing_form"
   ]
  },
  {
   "cell_type": "code",
   "execution_count": 40,
   "id": "lightweight-diagram",
   "metadata": {},
   "outputs": [
    {
     "data": {
      "text/html": [
       "<html><script type=\"math/tex; mode=display\">\\newcommand{\\Bold}[1]{\\mathbf{#1}}\\left[-\\frac{\\mu + \\sqrt{81 \\, \\mu^{2} + 8 \\, \\mu + 16} + 4}{\\mu}, -\\frac{\\mu - \\sqrt{81 \\, \\mu^{2} + 8 \\, \\mu + 16} + 4}{\\mu}, 0, 8\\right]</script></html>"
      ],
      "text/latex": [
       "$$\\newcommand{\\Bold}[1]{\\mathbf{#1}}\\left[-\\frac{\\mu + \\sqrt{81 \\, \\mu^{2} + 8 \\, \\mu + 16} + 4}{\\mu}, -\\frac{\\mu - \\sqrt{81 \\, \\mu^{2} + 8 \\, \\mu + 16} + 4}{\\mu}, 0, 8\\right]$$"
      ],
      "text/plain": [
       "[-(mu + sqrt(81*mu^2 + 8*mu + 16) + 4)/mu,\n",
       " -(mu - sqrt(81*mu^2 + 8*mu + 16) + 4)/mu,\n",
       " 0,\n",
       " 8]"
      ]
     },
     "execution_count": 40,
     "metadata": {},
     "output_type": "execute_result"
    }
   ],
   "source": [
    "k_killing_form.eigenvalues()"
   ]
  },
  {
   "cell_type": "code",
   "execution_count": 41,
   "id": "competitive-niagara",
   "metadata": {},
   "outputs": [
    {
     "data": {
      "image/png": "[encoded data removed]",
      "text/plain": [
       "Graphics object consisting of 1 graphics primitive"
      ]
     },
     "execution_count": 41,
     "metadata": {},
     "output_type": "execute_result"
    }
   ],
   "source": [
    "k_killing_form.eigenvalues()[1].plot(mu,0,10)"
   ]
  },
  {
   "cell_type": "markdown",
   "id": "presidential-truth",
   "metadata": {},
   "source": [
    "### 1.2. Index of symmetry\n",
    "\n",
    "We look for the Killing fields $X$ such that $X_e \\neq 0$ and $(\\nabla X)_e = 0$"
   ]
  },
  {
   "cell_type": "code",
   "execution_count": 42,
   "id": "unusual-newfoundland",
   "metadata": {},
   "outputs": [
    {
     "data": {
      "text/html": [
       "<html><script type=\"math/tex; mode=display\">\\newcommand{\\Bold}[1]{\\mathbf{#1}}R_{gen} = a_{0} R_{0} + a_{1} R_{1} + a_{2} R_{2}</script></html>"
      ],
      "text/latex": [
       "$$\\newcommand{\\Bold}[1]{\\mathbf{#1}}R_{gen} = a_{0} R_{0} + a_{1} R_{1} + a_{2} R_{2}$$"
      ],
      "text/plain": [
       "R_{gen} = a0 R_0 + a1 R_1 + a2 R_2"
      ]
     },
     "execution_count": 42,
     "metadata": {},
     "output_type": "execute_result"
    }
   ],
   "source": [
    "a0, a1, a2 = var('a0 a1 a2')\n",
    "R_gen = G.right_inv_vect_field(a0,a1,a2,name=r'R_{gen}')\n",
    "R_gen.display(R)"
   ]
  },
  {
   "cell_type": "markdown",
   "id": "elementary-flooring",
   "metadata": {},
   "source": [
    "We can see that if $R_{gen}$ is non-trivial, then $(\\nabla R_{gen})_e \\neq 0$"
   ]
  },
  {
   "cell_type": "code",
   "execution_count": 43,
   "id": "silver-chambers",
   "metadata": {},
   "outputs": [
    {
     "data": {
      "text/html": [
       "<html><script type=\"math/tex; mode=display\">\\newcommand{\\Bold}[1]{\\mathbf{#1}}\\left(\\begin{array}{rrr}\n",
       "0 & -\\frac{1}{2} \\, a_{2} \\mu & -\\frac{1}{2} \\, a_{1} \\mu \\\\\n",
       "\\frac{1}{2} \\, a_{2} & 0 & -\\frac{1}{2} \\, a_{0} - 2 \\, a_{1} \\\\\n",
       "\\frac{a_{1} \\mu}{2 \\, \\nu} & \\frac{{\\left(a_{0} + 4 \\, a_{1}\\right)} \\mu}{2 \\, \\nu} & 0\n",
       "\\end{array}\\right)</script></html>"
      ],
      "text/latex": [
       "$$\\newcommand{\\Bold}[1]{\\mathbf{#1}}\\left(\\begin{array}{rrr}\n",
       "0 & -\\frac{1}{2} \\, a_{2} \\mu & -\\frac{1}{2} \\, a_{1} \\mu \\\\\n",
       "\\frac{1}{2} \\, a_{2} & 0 & -\\frac{1}{2} \\, a_{0} - 2 \\, a_{1} \\\\\n",
       "\\frac{a_{1} \\mu}{2 \\, \\nu} & \\frac{{\\left(a_{0} + 4 \\, a_{1}\\right)} \\mu}{2 \\, \\nu} & 0\n",
       "\\end{array}\\right)$$"
      ],
      "text/plain": [
       "[                    0            -1/2*a2*mu            -1/2*a1*mu]\n",
       "[               1/2*a2                     0        -1/2*a0 - 2*a1]\n",
       "[         1/2*a1*mu/nu 1/2*(a0 + 4*a1)*mu/nu                     0]"
      ]
     },
     "execution_count": 43,
     "metadata": {},
     "output_type": "execute_result"
    }
   ],
   "source": [
    "nablaR_gen = nabla(R_gen).at(G.zero)\n",
    "nablaR_gen.comp()[:]"
   ]
  },
  {
   "cell_type": "markdown",
   "id": "alert-advertiser",
   "metadata": {},
   "source": [
    "So, we are actually looking for $a_0, a_1, a_2$ such that $(\\nabla R_{gen})_e = \\alpha A_{kill}$ for some $\\alpha \\in \\mathbb R$. Moreover, up to rescaling we can assume that $\\alpha = 1$."
   ]
  },
  {
   "cell_type": "code",
   "execution_count": 44,
   "id": "unique-restoration",
   "metadata": {},
   "outputs": [
    {
     "data": {
      "text/html": [
       "<html><script type=\"math/tex; mode=display\">\\newcommand{\\Bold}[1]{\\mathbf{#1}}\\left(\\begin{array}{rrr}\n",
       "0 & -\\frac{1}{2} \\, a_{2} \\mu & -\\frac{1}{2} \\, a_{1} \\mu + \\nu \\\\\n",
       "\\frac{1}{2} \\, a_{2} & 0 & -\\frac{1}{2} \\, a_{0} - 2 \\, a_{1} + \\frac{2 \\, \\nu}{\\mu} \\\\\n",
       "\\frac{a_{1} \\mu}{2 \\, \\nu} - 1 & \\frac{{\\left(a_{0} + 4 \\, a_{1}\\right)} \\mu}{2 \\, \\nu} - 2 & 0\n",
       "\\end{array}\\right)</script></html>"
      ],
      "text/latex": [
       "$$\\newcommand{\\Bold}[1]{\\mathbf{#1}}\\left(\\begin{array}{rrr}\n",
       "0 & -\\frac{1}{2} \\, a_{2} \\mu & -\\frac{1}{2} \\, a_{1} \\mu + \\nu \\\\\n",
       "\\frac{1}{2} \\, a_{2} & 0 & -\\frac{1}{2} \\, a_{0} - 2 \\, a_{1} + \\frac{2 \\, \\nu}{\\mu} \\\\\n",
       "\\frac{a_{1} \\mu}{2 \\, \\nu} - 1 & \\frac{{\\left(a_{0} + 4 \\, a_{1}\\right)} \\mu}{2 \\, \\nu} - 2 & 0\n",
       "\\end{array}\\right)$$"
      ],
      "text/plain": [
       "[                        0                -1/2*a2*mu           -1/2*a1*mu + nu]\n",
       "[                   1/2*a2                         0  -1/2*a0 - 2*a1 + 2*nu/mu]\n",
       "[         1/2*a1*mu/nu - 1 1/2*(a0 + 4*a1)*mu/nu - 2                         0]"
      ]
     },
     "execution_count": 44,
     "metadata": {},
     "output_type": "execute_result"
    }
   ],
   "source": [
    "index_sym_eqs = (nablaR_gen.comp()[:] - A_kill)\n",
    "index_sym_eqs"
   ]
  },
  {
   "cell_type": "code",
   "execution_count": 45,
   "id": "timely-harris",
   "metadata": {},
   "outputs": [
    {
     "data": {
      "text/html": [
       "<html><script type=\"math/tex; mode=display\">\\newcommand{\\Bold}[1]{\\mathbf{#1}}\\left[\\left[a_{0} = -\\frac{4 \\, \\nu}{\\mu}, a_{1} = \\frac{2 \\, \\nu}{\\mu}, a_{2} = 0\\right]\\right]</script></html>"
      ],
      "text/latex": [
       "$$\\newcommand{\\Bold}[1]{\\mathbf{#1}}\\left[\\left[a_{0} = -\\frac{4 \\, \\nu}{\\mu}, a_{1} = \\frac{2 \\, \\nu}{\\mu}, a_{2} = 0\\right]\\right]$$"
      ],
      "text/plain": [
       "[[a0 == -4*nu/mu, a1 == 2*nu/mu, a2 == 0]]"
      ]
     },
     "execution_count": 45,
     "metadata": {},
     "output_type": "execute_result"
    }
   ],
   "source": [
    "index_sym_sols = solve(index_sym_eqs.list(),[a0,a1,a2])\n",
    "index_sym_sols"
   ]
  },
  {
   "cell_type": "markdown",
   "id": "helpful-carrier",
   "metadata": {},
   "source": [
    "Replacing these values in $R_{gen}$ we can see that the distribution of symmetry of the metric $g_{\\mu, \\nu}$ (and scaling by a factor of $-\\mu / (4 \\nu)$) is generated by the left invariant field\n",
    "$$\n",
    "L_0 - \\frac12 L_1\n",
    "$$"
   ]
  },
  {
   "cell_type": "markdown",
   "id": "raising-indication",
   "metadata": {},
   "source": [
    "## 2. Subcase $g = g_{\\nu}$\n",
    "\n",
    "Now we study the metrics `g1`, which in the frame `L` are given by the \n",
    "$$\n",
    "g_{\\nu} = \n",
    "\\begin{pmatrix}\n",
    "1 & \\frac12  & 0 \\\\\n",
    "\\frac12  & 1 & 0 \\\\\n",
    "0 & 0 & \\nu\n",
    "\\end{pmatrix}, \\qquad 0 < \\nu\n",
    "$$"
   ]
  },
  {
   "cell_type": "code",
   "execution_count": 46,
   "id": "behind-chance",
   "metadata": {},
   "outputs": [
    {
     "data": {
      "text/html": [
       "<html><script type=\"math/tex; mode=display\">\\newcommand{\\Bold}[1]{\\mathbf{#1}}\\left(\\begin{array}{rrr}\n",
       "1 & \\frac{1}{2} & 0 \\\\\n",
       "\\frac{1}{2} & 1 & 0 \\\\\n",
       "0 & 0 & \\nu\n",
       "\\end{array}\\right)</script></html>"
      ],
      "text/latex": [
       "$$\\newcommand{\\Bold}[1]{\\mathbf{#1}}\\left(\\begin{array}{rrr}\n",
       "1 & \\frac{1}{2} & 0 \\\\\n",
       "\\frac{1}{2} & 1 & 0 \\\\\n",
       "0 & 0 & \\nu\n",
       "\\end{array}\\right)$$"
      ],
      "text/plain": [
       "[  1 1/2   0]\n",
       "[1/2   1   0]\n",
       "[  0   0  nu]"
      ]
     },
     "execution_count": 46,
     "metadata": {},
     "output_type": "execute_result"
    }
   ],
   "source": [
    "g_nu = G.left_inv_metric([1,1/2,0,1/2,1,0,0,0,nu],name=r'g_\\nu')\n",
    "g_nu.comp(L)[:]"
   ]
  },
  {
   "cell_type": "markdown",
   "id": "gross-jackson",
   "metadata": {},
   "source": [
    "In this case we can verify directly that the metric is symmetric."
   ]
  },
  {
   "cell_type": "code",
   "execution_count": 47,
   "id": "reserved-attribute",
   "metadata": {},
   "outputs": [],
   "source": [
    "nabla_nu = g_nu.connection()\n",
    "Riem_nu = g_nu.riemann()\n",
    "nabla_Riem_nu = nabla_nu(Riem_nu)"
   ]
  },
  {
   "cell_type": "code",
   "execution_count": 48,
   "id": "mounted-playlist",
   "metadata": {},
   "outputs": [
    {
     "data": {
      "text/html": [
       "<html><script type=\"math/tex; mode=display\">\\newcommand{\\Bold}[1]{\\mathbf{#1}}\\nabla_{g_\\nu} \\mathrm{Riem}\\left(g_\\nu\\right) = 0</script></html>"
      ],
      "text/latex": [
       "$$\\newcommand{\\Bold}[1]{\\mathbf{#1}}\\nabla_{g_\\nu} \\mathrm{Riem}\\left(g_\\nu\\right) = 0$$"
      ],
      "text/plain": [
       "nabla_g_\\nu(Riem(g_\\nu)) = 0"
      ]
     },
     "execution_count": 48,
     "metadata": {},
     "output_type": "execute_result"
    }
   ],
   "source": [
    "nabla_Riem_nu.display()"
   ]
  },
  {
   "cell_type": "code",
   "execution_count": null,
   "id": "successful-status",
   "metadata": {},
   "outputs": [],
   "source": []
  }
 ],
 "metadata": {
  "kernelspec": {
   "display_name": "SageMath 9.4",
   "language": "sage",
   "name": "sagemath"
  },
  "language_info": {
   "codemirror_mode": {
    "name": "ipython",
    "version": 3
   },
   "file_extension": ".py",
   "mimetype": "text/x-python",
   "name": "python",
   "nbconvert_exporter": "python",
   "pygments_lexer": "ipython3",
   "version": "3.9.6"
  }
 },
 "nbformat": 4,
 "nbformat_minor": 5
}
