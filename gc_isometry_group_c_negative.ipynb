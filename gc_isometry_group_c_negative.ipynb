{
 "cells": [
  {
   "cell_type": "code",
   "execution_count": 1,
   "id": "warming-sodium",
   "metadata": {},
   "outputs": [],
   "source": [
    "%display latex\n",
    "import sympy\n",
    "Parallelism().set(nproc=8)"
   ]
  },
  {
   "cell_type": "markdown",
   "id": "inappropriate-suicide",
   "metadata": {},
   "source": [
    "We are using SageMath version 9.2 or later"
   ]
  },
  {
   "cell_type": "code",
   "execution_count": 2,
   "id": "developing-campaign",
   "metadata": {},
   "outputs": [
    {
     "data": {
      "text/html": [
       "<html><script type=\"math/tex; mode=display\">\\newcommand{\\Bold}[1]{\\mathbf{#1}}\\verb|SageMath|\\phantom{\\verb!x!}\\verb|version|\\phantom{\\verb!x!}\\verb|9.2,|\\phantom{\\verb!x!}\\verb|Release|\\phantom{\\verb!x!}\\verb|Date:|\\phantom{\\verb!x!}\\verb|2020-10-24|</script></html>"
      ],
      "text/latex": [
       "\\begin{math}\n",
       "\\newcommand{\\Bold}[1]{\\mathbf{#1}}\\verb|SageMath|\\phantom{\\verb!x!}\\verb|version|\\phantom{\\verb!x!}\\verb|9.2,|\\phantom{\\verb!x!}\\verb|Release|\\phantom{\\verb!x!}\\verb|Date:|\\phantom{\\verb!x!}\\verb|2020-10-24|\n",
       "\\end{math}"
      ],
      "text/plain": [
       "'SageMath version 9.2, Release Date: 2020-10-24'"
      ]
     },
     "execution_count": 2,
     "metadata": {},
     "output_type": "execute_result"
    }
   ],
   "source": [
    "version()"
   ]
  },
  {
   "cell_type": "code",
   "execution_count": 3,
   "id": "annual-avenue",
   "metadata": {},
   "outputs": [],
   "source": [
    "load(\"non_unimod_dim_3.sage\")"
   ]
  },
  {
   "cell_type": "markdown",
   "id": "referenced-defeat",
   "metadata": {},
   "source": [
    "# The case of $G_c$, $c < 0$\n",
    "\n",
    "We write\n",
    "$$\n",
    "c = 1 - c_1^2, \\qquad \\text{where } c_1 > 1\n",
    "$$"
   ]
  },
  {
   "cell_type": "code",
   "execution_count": 4,
   "id": "hundred-applicant",
   "metadata": {},
   "outputs": [],
   "source": [
    "c1 = var(\"c1\")\n",
    "assume(c1>1)\n",
    "c = 1 - c1^2\n",
    "G = non_unimod_dim_3('G_c', c)\n",
    "L = G.frame_left_inv()\n",
    "L0, L1, L2 = L\n",
    "R = G.frame_right_inv()\n",
    "R0, R1, R2 = R"
   ]
  },
  {
   "cell_type": "markdown",
   "id": "marine-attendance",
   "metadata": {},
   "source": [
    "Checking that the structure coefficients coincide with the ones of $\\mathfrak g_c$"
   ]
  },
  {
   "cell_type": "code",
   "execution_count": 5,
   "id": "beautiful-bridges",
   "metadata": {},
   "outputs": [
    {
     "data": {
      "text/html": [
       "<html><script type=\"math/tex; mode=display\">\\newcommand{\\Bold}[1]{\\mathbf{#1}}\\left[L_{0},L_{1}\\right] = 0</script></html>"
      ],
      "text/latex": [
       "\\begin{math}\n",
       "\\newcommand{\\Bold}[1]{\\mathbf{#1}}\\left[L_{0},L_{1}\\right] = 0\n",
       "\\end{math}"
      ],
      "text/plain": [
       "[L_0,L_1] = 0"
      ]
     },
     "execution_count": 5,
     "metadata": {},
     "output_type": "execute_result"
    }
   ],
   "source": [
    "L0.bracket(L1).display(L)"
   ]
  },
  {
   "cell_type": "code",
   "execution_count": 6,
   "id": "checked-afternoon",
   "metadata": {},
   "outputs": [
    {
     "data": {
      "text/html": [
       "<html><script type=\"math/tex; mode=display\">\\newcommand{\\Bold}[1]{\\mathbf{#1}}\\left[L_{2},L_{0}\\right] = L_{1}</script></html>"
      ],
      "text/latex": [
       "\\begin{math}\n",
       "\\newcommand{\\Bold}[1]{\\mathbf{#1}}\\left[L_{2},L_{0}\\right] = L_{1}\n",
       "\\end{math}"
      ],
      "text/plain": [
       "[L_2,L_0] = L_1"
      ]
     },
     "execution_count": 6,
     "metadata": {},
     "output_type": "execute_result"
    }
   ],
   "source": [
    "L2.bracket(L0).display(L)"
   ]
  },
  {
   "cell_type": "code",
   "execution_count": 7,
   "id": "mediterranean-complex",
   "metadata": {},
   "outputs": [
    {
     "data": {
      "text/html": [
       "<html><script type=\"math/tex; mode=display\">\\newcommand{\\Bold}[1]{\\mathbf{#1}}\\left[L_{2},L_{1}\\right] = \\left( c_{1}^{2} - 1 \\right) L_{0} + 2 L_{1}</script></html>"
      ],
      "text/latex": [
       "\\begin{math}\n",
       "\\newcommand{\\Bold}[1]{\\mathbf{#1}}\\left[L_{2},L_{1}\\right] = \\left( c_{1}^{2} - 1 \\right) L_{0} + 2 L_{1}\n",
       "\\end{math}"
      ],
      "text/plain": [
       "[L_2,L_1] = (c1^2 - 1) L_0 + 2 L_1"
      ]
     },
     "execution_count": 7,
     "metadata": {},
     "output_type": "execute_result"
    }
   ],
   "source": [
    "L2.bracket(L1).display(L)"
   ]
  },
  {
   "cell_type": "markdown",
   "id": "confused-drinking",
   "metadata": {},
   "source": [
    "## Left invariant metrics: $g = g_{\\mu, \\nu}$\n",
    "\n",
    "We introduce the left invariant metric `g`, which in the frame `L` is given by the matrix\n",
    "$$\n",
    "g_{\\mu,\\nu} = \n",
    "\\begin{pmatrix}\n",
    "1 & 0 & 0 \\\\\n",
    "0 & \\mu & 0 \\\\\n",
    "0 & 0 & \\nu\n",
    "\\end{pmatrix} \\qquad 0 < \\mu \\le |c| \\text{ and } 0 < \\nu\n",
    "$$"
   ]
  },
  {
   "cell_type": "code",
   "execution_count": 8,
   "id": "economic-fundamental",
   "metadata": {},
   "outputs": [
    {
     "data": {
      "text/html": [
       "<html><script type=\"math/tex; mode=display\">\\newcommand{\\Bold}[1]{\\mathbf{#1}}\\left(\\begin{array}{rrr}\n",
       "1 & 0 & 0 \\\\\n",
       "0 & \\mu & 0 \\\\\n",
       "0 & 0 & \\nu\n",
       "\\end{array}\\right)</script></html>"
      ],
      "text/latex": [
       "\\begin{math}\n",
       "\\newcommand{\\Bold}[1]{\\mathbf{#1}}\\left(\\begin{array}{rrr}\n",
       "1 & 0 & 0 \\\\\n",
       "0 & \\mu & 0 \\\\\n",
       "0 & 0 & \\nu\n",
       "\\end{array}\\right)\n",
       "\\end{math}"
      ],
      "text/plain": [
       "[ 1  0  0]\n",
       "[ 0 mu  0]\n",
       "[ 0  0 nu]"
      ]
     },
     "execution_count": 8,
     "metadata": {},
     "output_type": "execute_result"
    }
   ],
   "source": [
    "mu, nu = var('mu nu')\n",
    "assume(0<mu,mu<=-c)\n",
    "assume(0<nu)\n",
    "g = G.left_inv_metric([1,0,0,0,mu,0,0,0,nu],name=r'g_{\\mu,\\nu}')\n",
    "g.comp(L)[:]"
   ]
  },
  {
   "cell_type": "markdown",
   "id": "dental-sierra",
   "metadata": {},
   "source": [
    "We verify that the right invariant vector fields are Killing fields."
   ]
  },
  {
   "cell_type": "code",
   "execution_count": 9,
   "id": "choice-america",
   "metadata": {},
   "outputs": [
    {
     "data": {
      "text/html": [
       "<html><script type=\"math/tex; mode=display\">\\newcommand{\\Bold}[1]{\\mathbf{#1}}0</script></html>"
      ],
      "text/latex": [
       "\\begin{math}\n",
       "\\newcommand{\\Bold}[1]{\\mathbf{#1}}0\n",
       "\\end{math}"
      ],
      "text/plain": [
       "0"
      ]
     },
     "metadata": {},
     "output_type": "display_data"
    },
    {
     "data": {
      "text/html": [
       "<html><script type=\"math/tex; mode=display\">\\newcommand{\\Bold}[1]{\\mathbf{#1}}0</script></html>"
      ],
      "text/latex": [
       "\\begin{math}\n",
       "\\newcommand{\\Bold}[1]{\\mathbf{#1}}0\n",
       "\\end{math}"
      ],
      "text/plain": [
       "0"
      ]
     },
     "metadata": {},
     "output_type": "display_data"
    },
    {
     "data": {
      "text/html": [
       "<html><script type=\"math/tex; mode=display\">\\newcommand{\\Bold}[1]{\\mathbf{#1}}0</script></html>"
      ],
      "text/latex": [
       "\\begin{math}\n",
       "\\newcommand{\\Bold}[1]{\\mathbf{#1}}0\n",
       "\\end{math}"
      ],
      "text/plain": [
       "0"
      ]
     },
     "metadata": {},
     "output_type": "display_data"
    }
   ],
   "source": [
    "for X in R:\n",
    "    display(g.lie_derivative(X).display(L))"
   ]
  },
  {
   "cell_type": "markdown",
   "id": "crucial-packing",
   "metadata": {},
   "source": [
    "We compute the intersecion of the orthogonal Lie algebra $\\mathfrak{so}(g_{\\mu, \\nu}) \\simeq \\mathfrak{so}(3)$ with the pseudo-orthogonal Lie algebra with respecto to the Ricci tensor, $\\mathfrak{so}(\\operatorname{Ric}) \\simeq \\mathfrak{so}(2, 1)$"
   ]
  },
  {
   "cell_type": "code",
   "execution_count": 10,
   "id": "elder-stick",
   "metadata": {},
   "outputs": [
    {
     "data": {
      "text/html": [
       "<html><script type=\"math/tex; mode=display\">\\newcommand{\\Bold}[1]{\\mathbf{#1}}\\left(\\left(\\begin{array}{rrr}\n",
       "1 & 0 & 0 \\\\\n",
       "0 & \\mu & 0 \\\\\n",
       "0 & 0 & \\nu\n",
       "\\end{array}\\right), \\left(\\begin{array}{rrr}\n",
       "\\frac{c_{1}^{4} - 2 \\, c_{1}^{2} - \\mu^{2} + 1}{2 \\, \\mu \\nu} & -\\frac{2 \\, \\mu}{\\nu} & 0 \\\\\n",
       "-\\frac{2 \\, \\mu}{\\nu} & -\\frac{c_{1}^{4} - 2 \\, c_{1}^{2} - \\mu^{2} + 8 \\, \\mu + 1}{2 \\, \\nu} & 0 \\\\\n",
       "0 & 0 & -\\frac{c_{1}^{4} - 2 \\, c_{1}^{2} + 2 \\, {\\left(c_{1}^{2} + 3\\right)} \\mu + \\mu^{2} + 1}{2 \\, \\mu}\n",
       "\\end{array}\\right)\\right)</script></html>"
      ],
      "text/latex": [
       "\\begin{math}\n",
       "\\newcommand{\\Bold}[1]{\\mathbf{#1}}\\left(\\left(\\begin{array}{rrr}\n",
       "1 & 0 & 0 \\\\\n",
       "0 & \\mu & 0 \\\\\n",
       "0 & 0 & \\nu\n",
       "\\end{array}\\right), \\left(\\begin{array}{rrr}\n",
       "\\frac{c_{1}^{4} - 2 \\, c_{1}^{2} - \\mu^{2} + 1}{2 \\, \\mu \\nu} & -\\frac{2 \\, \\mu}{\\nu} & 0 \\\\\n",
       "-\\frac{2 \\, \\mu}{\\nu} & -\\frac{c_{1}^{4} - 2 \\, c_{1}^{2} - \\mu^{2} + 8 \\, \\mu + 1}{2 \\, \\nu} & 0 \\\\\n",
       "0 & 0 & -\\frac{c_{1}^{4} - 2 \\, c_{1}^{2} + 2 \\, {\\left(c_{1}^{2} + 3\\right)} \\mu + \\mu^{2} + 1}{2 \\, \\mu}\n",
       "\\end{array}\\right)\\right)\n",
       "\\end{math}"
      ],
      "text/plain": [
       "(\n",
       "[ 1  0  0]  [              1/2*(c1^4 - 2*c1^2 - mu^2 + 1)/(mu*nu)                                             -2*mu/nu                                                    0]\n",
       "[ 0 mu  0]  [                                            -2*mu/nu            -1/2*(c1^4 - 2*c1^2 - mu^2 + 8*mu + 1)/nu                                                    0]\n",
       "[ 0  0 nu], [                                                   0                                                    0 -1/2*(c1^4 - 2*c1^2 + 2*(c1^2 + 3)*mu + mu^2 + 1)/mu]\n",
       ")"
      ]
     },
     "execution_count": 10,
     "metadata": {},
     "output_type": "execute_result"
    }
   ],
   "source": [
    "g_mat = mat_SR(g.comp(L)[:])\n",
    "Ric = g.ricci()\n",
    "Ric_mat = mat_SR(Ric.comp(L)[:]).simplify_full()\n",
    "g_mat, Ric_mat"
   ]
  },
  {
   "cell_type": "code",
   "execution_count": 11,
   "id": "pretty-celebrity",
   "metadata": {},
   "outputs": [
    {
     "data": {
      "text/html": [
       "<html><script type=\"math/tex; mode=display\">\\newcommand{\\Bold}[1]{\\mathbf{#1}}\\left(\\begin{array}{rrr}\n",
       "a_{00} & a_{01} & a_{02} \\\\\n",
       "a_{10} & a_{11} & a_{12} \\\\\n",
       "a_{20} & a_{21} & a_{22}\n",
       "\\end{array}\\right)</script></html>"
      ],
      "text/latex": [
       "\\begin{math}\n",
       "\\newcommand{\\Bold}[1]{\\mathbf{#1}}\\left(\\begin{array}{rrr}\n",
       "a_{00} & a_{01} & a_{02} \\\\\n",
       "a_{10} & a_{11} & a_{12} \\\\\n",
       "a_{20} & a_{21} & a_{22}\n",
       "\\end{array}\\right)\n",
       "\\end{math}"
      ],
      "text/plain": [
       "[a00 a01 a02]\n",
       "[a10 a11 a12]\n",
       "[a20 a21 a22]"
      ]
     },
     "execution_count": 11,
     "metadata": {},
     "output_type": "execute_result"
    }
   ],
   "source": [
    "A_list = []\n",
    "for i in range(3):\n",
    "    for j in range(3):\n",
    "        A_list += [var('a'+str(i)+str(j))]\n",
    "A = matrix(3,3,A_list); A"
   ]
  },
  {
   "cell_type": "markdown",
   "id": "advanced-effort",
   "metadata": {},
   "source": [
    "Equations for $A \\in \\mathfrak{so}(g_{\\mu, \\nu})$:"
   ]
  },
  {
   "cell_type": "code",
   "execution_count": 12,
   "id": "chief-fishing",
   "metadata": {},
   "outputs": [
    {
     "data": {
      "text/html": [
       "<html><script type=\"math/tex; mode=display\">\\newcommand{\\Bold}[1]{\\mathbf{#1}}\\left(\\begin{array}{rrr}\n",
       "0 & -a_{10} \\mu & -a_{20} \\nu \\\\\n",
       "a_{10} & 0 & -\\frac{a_{21} \\nu}{\\mu} \\\\\n",
       "a_{20} & a_{21} & 0\n",
       "\\end{array}\\right)</script></html>"
      ],
      "text/latex": [
       "\\begin{math}\n",
       "\\newcommand{\\Bold}[1]{\\mathbf{#1}}\\left(\\begin{array}{rrr}\n",
       "0 & -a_{10} \\mu & -a_{20} \\nu \\\\\n",
       "a_{10} & 0 & -\\frac{a_{21} \\nu}{\\mu} \\\\\n",
       "a_{20} & a_{21} & 0\n",
       "\\end{array}\\right)\n",
       "\\end{math}"
      ],
      "text/plain": [
       "[         0    -a10*mu    -a20*nu]\n",
       "[       a10          0 -a21*nu/mu]\n",
       "[       a20        a21          0]"
      ]
     },
     "execution_count": 12,
     "metadata": {},
     "output_type": "execute_result"
    }
   ],
   "source": [
    "sols_so3 = solve((A.transpose() * g_mat + g_mat * A).list(), A.list(), algorithm='sympy')\n",
    "A_so3 = A.subs(sols_so3); A_so3"
   ]
  },
  {
   "cell_type": "markdown",
   "id": "south-japanese",
   "metadata": {},
   "source": [
    "Equations for `A_{so3}` be also an element of $\\mathfrak{so}(\\operatorname{Ric})$"
   ]
  },
  {
   "cell_type": "code",
   "execution_count": 13,
   "id": "recreational-swing",
   "metadata": {},
   "outputs": [
    {
     "data": {
      "text/html": [
       "<html><script type=\"math/tex; mode=display\">\\newcommand{\\Bold}[1]{\\mathbf{#1}}\\left(\\begin{array}{rrr}\n",
       "0 & 0 & 0 \\\\\n",
       "0 & 0 & 0 \\\\\n",
       "0 & 0 & 0\n",
       "\\end{array}\\right)</script></html>"
      ],
      "text/latex": [
       "\\begin{math}\n",
       "\\newcommand{\\Bold}[1]{\\mathbf{#1}}\\left(\\begin{array}{rrr}\n",
       "0 & 0 & 0 \\\\\n",
       "0 & 0 & 0 \\\\\n",
       "0 & 0 & 0\n",
       "\\end{array}\\right)\n",
       "\\end{math}"
      ],
      "text/plain": [
       "[0 0 0]\n",
       "[0 0 0]\n",
       "[0 0 0]"
      ]
     },
     "execution_count": 13,
     "metadata": {},
     "output_type": "execute_result"
    }
   ],
   "source": [
    "sols_so3_Ric = solve((A_so3.transpose() * Ric_mat + Ric_mat * A_so3).list(), [a10,a20,a21], algorithm='sympy')\n",
    "A_so3_Ric = A_so3.subs(sols_so3_Ric); A_so3_Ric"
   ]
  },
  {
   "cell_type": "markdown",
   "id": "miniature-binary",
   "metadata": {},
   "source": [
    "Therefore, the Lie algebra of the isotropy group of the full isometry group is trivial."
   ]
  },
  {
   "cell_type": "markdown",
   "id": "breeding-beauty",
   "metadata": {},
   "source": [
    "## Index of symmetry\n",
    "\n",
    "Since the isometry group has dimension $3$, if the index of symmery is non-trivial, we will find a left invariant vector field $X$ such that $X_e \\neq 0$ and $(\\nabla X)_e = 0$"
   ]
  },
  {
   "cell_type": "code",
   "execution_count": 14,
   "id": "neural-potato",
   "metadata": {},
   "outputs": [
    {
     "data": {
      "text/html": [
       "<html><script type=\"math/tex; mode=display\">\\newcommand{\\Bold}[1]{\\mathbf{#1}}R_{gen} = a_{0} R_{0} + a_{1} R_{1} + a_{2} R_{2}</script></html>"
      ],
      "text/latex": [
       "\\begin{math}\n",
       "\\newcommand{\\Bold}[1]{\\mathbf{#1}}R_{gen} = a_{0} R_{0} + a_{1} R_{1} + a_{2} R_{2}\n",
       "\\end{math}"
      ],
      "text/plain": [
       "R_{gen} = a0 R_0 + a1 R_1 + a2 R_2"
      ]
     },
     "execution_count": 14,
     "metadata": {},
     "output_type": "execute_result"
    }
   ],
   "source": [
    "a0, a1, a2 = var('a0 a1 a2')\n",
    "R_gen = G.right_inv_vect_field(a0,a1,a2,name=r'R_{gen}')\n",
    "R_gen.display(R)"
   ]
  },
  {
   "cell_type": "markdown",
   "id": "traditional-cycle",
   "metadata": {},
   "source": [
    "Define the Levi-Civita connection"
   ]
  },
  {
   "cell_type": "code",
   "execution_count": 15,
   "id": "honest-arbitration",
   "metadata": {},
   "outputs": [],
   "source": [
    "nabla = g.connection()"
   ]
  },
  {
   "cell_type": "markdown",
   "id": "included-sauce",
   "metadata": {},
   "source": [
    "And take the derivative of a generic right invariant vector field."
   ]
  },
  {
   "cell_type": "code",
   "execution_count": 16,
   "id": "distributed-silicon",
   "metadata": {},
   "outputs": [
    {
     "data": {
      "text/html": [
       "<html><script type=\"math/tex; mode=display\">\\newcommand{\\Bold}[1]{\\mathbf{#1}}\\left(\\begin{array}{rrr}\n",
       "0 & \\frac{1}{2} \\, {\\left(c_{1}^{2} - \\mu - 1\\right)} a_{2} & -\\frac{1}{2} \\, {\\left(c_{1}^{2} + \\mu - 1\\right)} a_{1} \\\\\n",
       "-\\frac{{\\left(c_{1}^{2} - \\mu - 1\\right)} a_{2}}{2 \\, \\mu} & 0 & -\\frac{a_{0} c_{1}^{2} + a_{0} \\mu + 4 \\, a_{1} \\mu - a_{0}}{2 \\, \\mu} \\\\\n",
       "\\frac{{\\left(c_{1}^{2} + \\mu - 1\\right)} a_{1}}{2 \\, \\nu} & \\frac{a_{0} c_{1}^{2} + a_{0} \\mu + 4 \\, a_{1} \\mu - a_{0}}{2 \\, \\nu} & 0\n",
       "\\end{array}\\right)</script></html>"
      ],
      "text/latex": [
       "\\begin{math}\n",
       "\\newcommand{\\Bold}[1]{\\mathbf{#1}}\\left(\\begin{array}{rrr}\n",
       "0 & \\frac{1}{2} \\, {\\left(c_{1}^{2} - \\mu - 1\\right)} a_{2} & -\\frac{1}{2} \\, {\\left(c_{1}^{2} + \\mu - 1\\right)} a_{1} \\\\\n",
       "-\\frac{{\\left(c_{1}^{2} - \\mu - 1\\right)} a_{2}}{2 \\, \\mu} & 0 & -\\frac{a_{0} c_{1}^{2} + a_{0} \\mu + 4 \\, a_{1} \\mu - a_{0}}{2 \\, \\mu} \\\\\n",
       "\\frac{{\\left(c_{1}^{2} + \\mu - 1\\right)} a_{1}}{2 \\, \\nu} & \\frac{a_{0} c_{1}^{2} + a_{0} \\mu + 4 \\, a_{1} \\mu - a_{0}}{2 \\, \\nu} & 0\n",
       "\\end{array}\\right)\n",
       "\\end{math}"
      ],
      "text/plain": [
       "[                                       0                   1/2*(c1^2 - mu - 1)*a2                  -1/2*(c1^2 + mu - 1)*a1]\n",
       "[              -1/2*(c1^2 - mu - 1)*a2/mu                                        0 -1/2*(a0*c1^2 + a0*mu + 4*a1*mu - a0)/mu]\n",
       "[               1/2*(c1^2 + mu - 1)*a1/nu  1/2*(a0*c1^2 + a0*mu + 4*a1*mu - a0)/nu                                        0]"
      ]
     },
     "execution_count": 16,
     "metadata": {},
     "output_type": "execute_result"
    }
   ],
   "source": [
    "nablaR_gen = nabla(R_gen).at(G.zero)\n",
    "ind_sym_eqs = nablaR_gen.comp()[:].factor()\n",
    "ind_sym_eqs"
   ]
  },
  {
   "cell_type": "markdown",
   "id": "outstanding-carrier",
   "metadata": {},
   "source": [
    "### Case $\\mu \\neq |c| = c_1^2 - 1$\n",
    "\n",
    "In this case, clearly $a_1 = a_2$ and hence $a_0 = 0$."
   ]
  },
  {
   "cell_type": "code",
   "execution_count": 17,
   "id": "smooth-copyright",
   "metadata": {},
   "outputs": [
    {
     "data": {
      "text/html": [
       "<html><script type=\"math/tex; mode=display\">\\newcommand{\\Bold}[1]{\\mathbf{#1}}\\left(\\begin{array}{rrr}\n",
       "0 & 0 & 0 \\\\\n",
       "0 & 0 & -\\frac{{\\left(c_{1}^{2} + \\mu - 1\\right)} a_{0}}{2 \\, \\mu} \\\\\n",
       "0 & \\frac{{\\left(c_{1}^{2} + \\mu - 1\\right)} a_{0}}{2 \\, \\nu} & 0\n",
       "\\end{array}\\right)</script></html>"
      ],
      "text/latex": [
       "\\begin{math}\n",
       "\\newcommand{\\Bold}[1]{\\mathbf{#1}}\\left(\\begin{array}{rrr}\n",
       "0 & 0 & 0 \\\\\n",
       "0 & 0 & -\\frac{{\\left(c_{1}^{2} + \\mu - 1\\right)} a_{0}}{2 \\, \\mu} \\\\\n",
       "0 & \\frac{{\\left(c_{1}^{2} + \\mu - 1\\right)} a_{0}}{2 \\, \\nu} & 0\n",
       "\\end{array}\\right)\n",
       "\\end{math}"
      ],
      "text/plain": [
       "[                         0                          0                          0]\n",
       "[                         0                          0 -1/2*(c1^2 + mu - 1)*a0/mu]\n",
       "[                         0  1/2*(c1^2 + mu - 1)*a0/nu                          0]"
      ]
     },
     "execution_count": 17,
     "metadata": {},
     "output_type": "execute_result"
    }
   ],
   "source": [
    "ind_sym_eqs.subs(a1=0,a2=0).factor()"
   ]
  },
  {
   "cell_type": "markdown",
   "id": "primary-attachment",
   "metadata": {},
   "source": [
    "Therefore, the index of symmetry is trivial when $\\mu \\neq |c|$."
   ]
  },
  {
   "cell_type": "markdown",
   "id": "instructional-anthony",
   "metadata": {},
   "source": [
    "### Case $\\mu = |c| = c_1^2 - 1$"
   ]
  },
  {
   "cell_type": "code",
   "execution_count": 18,
   "id": "floating-scenario",
   "metadata": {},
   "outputs": [
    {
     "data": {
      "text/html": [
       "<html><script type=\"math/tex; mode=display\">\\newcommand{\\Bold}[1]{\\mathbf{#1}}\\left(\\begin{array}{rrr}\n",
       "0 & 0 & -a_{1} {\\left(c_{1} + 1\\right)} {\\left(c_{1} - 1\\right)} \\\\\n",
       "0 & 0 & -a_{0} - 2 \\, a_{1} \\\\\n",
       "\\frac{a_{1} {\\left(c_{1} + 1\\right)} {\\left(c_{1} - 1\\right)}}{\\nu} & \\frac{{\\left(a_{0} + 2 \\, a_{1}\\right)} {\\left(c_{1} + 1\\right)} {\\left(c_{1} - 1\\right)}}{\\nu} & 0\n",
       "\\end{array}\\right)</script></html>"
      ],
      "text/latex": [
       "\\begin{math}\n",
       "\\newcommand{\\Bold}[1]{\\mathbf{#1}}\\left(\\begin{array}{rrr}\n",
       "0 & 0 & -a_{1} {\\left(c_{1} + 1\\right)} {\\left(c_{1} - 1\\right)} \\\\\n",
       "0 & 0 & -a_{0} - 2 \\, a_{1} \\\\\n",
       "\\frac{a_{1} {\\left(c_{1} + 1\\right)} {\\left(c_{1} - 1\\right)}}{\\nu} & \\frac{{\\left(a_{0} + 2 \\, a_{1}\\right)} {\\left(c_{1} + 1\\right)} {\\left(c_{1} - 1\\right)}}{\\nu} & 0\n",
       "\\end{array}\\right)\n",
       "\\end{math}"
      ],
      "text/plain": [
       "[                               0                                0            -a1*(c1 + 1)*(c1 - 1)]\n",
       "[                               0                                0                       -a0 - 2*a1]\n",
       "[         a1*(c1 + 1)*(c1 - 1)/nu (a0 + 2*a1)*(c1 + 1)*(c1 - 1)/nu                                0]"
      ]
     },
     "execution_count": 18,
     "metadata": {},
     "output_type": "execute_result"
    }
   ],
   "source": [
    "ind_sym_eqs1 = ind_sym_eqs.subs(mu=c1^2-1).factor()\n",
    "ind_sym_eqs1"
   ]
  },
  {
   "cell_type": "code",
   "execution_count": 19,
   "id": "varying-modeling",
   "metadata": {},
   "outputs": [
    {
     "data": {
      "text/html": [
       "<html><script type=\"math/tex; mode=display\">\\newcommand{\\Bold}[1]{\\mathbf{#1}}\\left[\\left\\{a_{0} : 0, a_{1} : 0\\right\\}\\right]</script></html>"
      ],
      "text/latex": [
       "\\begin{math}\n",
       "\\newcommand{\\Bold}[1]{\\mathbf{#1}}\\left[\\left\\{a_{0} : 0, a_{1} : 0\\right\\}\\right]\n",
       "\\end{math}"
      ],
      "text/plain": [
       "[{a0: 0, a1: 0}]"
      ]
     },
     "execution_count": 19,
     "metadata": {},
     "output_type": "execute_result"
    }
   ],
   "source": [
    "solve(ind_sym_eqs1.list(), [a0,a1,a2], algorithm='sympy')"
   ]
  },
  {
   "cell_type": "markdown",
   "id": "humanitarian-credits",
   "metadata": {},
   "source": [
    "Here, we can see that $a_0 = a_1 = 0$ and thus, the distribution of symmetry is spanned by the left invariant fielf $L_2$."
   ]
  }
 ],
 "metadata": {
  "kernelspec": {
   "display_name": "SageMath 9.4",
   "language": "sage",
   "name": "sagemath"
  },
  "language_info": {
   "codemirror_mode": {
    "name": "ipython",
    "version": 3
   },
   "file_extension": ".py",
   "mimetype": "text/x-python",
   "name": "python",
   "nbconvert_exporter": "python",
   "pygments_lexer": "ipython3",
   "version": "3.9.6"
  }
 },
 "nbformat": 4,
 "nbformat_minor": 5
}
