{
 "cells": [
  {
   "cell_type": "code",
   "execution_count": 1,
   "id": "warming-sodium",
   "metadata": {},
   "outputs": [],
   "source": [
    "%display latex\n",
    "import sympy\n",
    "Parallelism().set(nproc=8)"
   ]
  },
  {
   "cell_type": "markdown",
   "id": "inappropriate-suicide",
   "metadata": {},
   "source": [
    "We are using SageMath version 9.2"
   ]
  },
  {
   "cell_type": "code",
   "execution_count": 2,
   "id": "developing-campaign",
   "metadata": {},
   "outputs": [
    {
     "data": {
      "text/html": [
       "<html><script type=\"math/tex; mode=display\">\\newcommand{\\Bold}[1]{\\mathbf{#1}}\\verb|SageMath|\\phantom{\\verb!x!}\\verb|version|\\phantom{\\verb!x!}\\verb|9.2,|\\phantom{\\verb!x!}\\verb|Release|\\phantom{\\verb!x!}\\verb|Date:|\\phantom{\\verb!x!}\\verb|2020-10-24|</script></html>"
      ],
      "text/latex": [
       "\\begin{math}\n",
       "\\newcommand{\\Bold}[1]{\\mathbf{#1}}\\verb|SageMath|\\phantom{\\verb!x!}\\verb|version|\\phantom{\\verb!x!}\\verb|9.2,|\\phantom{\\verb!x!}\\verb|Release|\\phantom{\\verb!x!}\\verb|Date:|\\phantom{\\verb!x!}\\verb|2020-10-24|\n",
       "\\end{math}"
      ],
      "text/plain": [
       "'SageMath version 9.2, Release Date: 2020-10-24'"
      ]
     },
     "execution_count": 2,
     "metadata": {},
     "output_type": "execute_result"
    }
   ],
   "source": [
    "version()"
   ]
  },
  {
   "cell_type": "code",
   "execution_count": 3,
   "id": "annual-avenue",
   "metadata": {},
   "outputs": [],
   "source": [
    "load(\"non_unimod_dim_3.sage\")"
   ]
  },
  {
   "cell_type": "markdown",
   "id": "referenced-defeat",
   "metadata": {},
   "source": [
    "# The case of $G_c$, $0 < c < 1$\n",
    "\n",
    "We write\n",
    "$$\n",
    "c = 1 - c_1^2, \\qquad \\text{where } 0 < c_1 < 1\n",
    "$$"
   ]
  },
  {
   "cell_type": "code",
   "execution_count": 4,
   "id": "hundred-applicant",
   "metadata": {},
   "outputs": [],
   "source": [
    "c1 = var(\"c1\")\n",
    "assume(0<c1, c1<1)\n",
    "c = 1 - c1^2\n",
    "G = non_unimod_dim_3('G_c', c)\n",
    "L = G.frame_left_inv()\n",
    "L0, L1, L2 = L\n",
    "R = G.frame_right_inv()\n",
    "R0, R1, R2 = R"
   ]
  },
  {
   "cell_type": "markdown",
   "id": "marine-attendance",
   "metadata": {},
   "source": [
    "Checking that the structure coefficients coincide with the ones of $\\mathfrak g_c$"
   ]
  },
  {
   "cell_type": "code",
   "execution_count": 5,
   "id": "beautiful-bridges",
   "metadata": {},
   "outputs": [
    {
     "data": {
      "text/html": [
       "<html><script type=\"math/tex; mode=display\">\\newcommand{\\Bold}[1]{\\mathbf{#1}}\\left[L_{0},L_{1}\\right] = 0</script></html>"
      ],
      "text/latex": [
       "\\begin{math}\n",
       "\\newcommand{\\Bold}[1]{\\mathbf{#1}}\\left[L_{0},L_{1}\\right] = 0\n",
       "\\end{math}"
      ],
      "text/plain": [
       "[L_0,L_1] = 0"
      ]
     },
     "execution_count": 5,
     "metadata": {},
     "output_type": "execute_result"
    }
   ],
   "source": [
    "L0.bracket(L1).display(L)"
   ]
  },
  {
   "cell_type": "code",
   "execution_count": 6,
   "id": "checked-afternoon",
   "metadata": {},
   "outputs": [
    {
     "data": {
      "text/html": [
       "<html><script type=\"math/tex; mode=display\">\\newcommand{\\Bold}[1]{\\mathbf{#1}}\\left[L_{2},L_{0}\\right] = L_{1}</script></html>"
      ],
      "text/latex": [
       "\\begin{math}\n",
       "\\newcommand{\\Bold}[1]{\\mathbf{#1}}\\left[L_{2},L_{0}\\right] = L_{1}\n",
       "\\end{math}"
      ],
      "text/plain": [
       "[L_2,L_0] = L_1"
      ]
     },
     "execution_count": 6,
     "metadata": {},
     "output_type": "execute_result"
    }
   ],
   "source": [
    "L2.bracket(L0).display(L)"
   ]
  },
  {
   "cell_type": "code",
   "execution_count": 7,
   "id": "mediterranean-complex",
   "metadata": {},
   "outputs": [
    {
     "data": {
      "text/html": [
       "<html><script type=\"math/tex; mode=display\">\\newcommand{\\Bold}[1]{\\mathbf{#1}}\\left[L_{2},L_{1}\\right] = \\left( c_{1}^{2} - 1 \\right) L_{0} + 2 L_{1}</script></html>"
      ],
      "text/latex": [
       "\\begin{math}\n",
       "\\newcommand{\\Bold}[1]{\\mathbf{#1}}\\left[L_{2},L_{1}\\right] = \\left( c_{1}^{2} - 1 \\right) L_{0} + 2 L_{1}\n",
       "\\end{math}"
      ],
      "text/plain": [
       "[L_2,L_1] = (c1^2 - 1) L_0 + 2 L_1"
      ]
     },
     "execution_count": 7,
     "metadata": {},
     "output_type": "execute_result"
    }
   ],
   "source": [
    "L2.bracket(L1).display(L)"
   ]
  },
  {
   "cell_type": "markdown",
   "id": "confused-drinking",
   "metadata": {},
   "source": [
    "## Left invariant metric: $g = g_{\\mu, \\nu}$\n",
    "\n",
    "We introduce the left invariant metric `g`, which in the frame `L` is given by the matrix\n",
    "$$\n",
    "P^T\n",
    "\\begin{pmatrix}\n",
    "1&\\mu&0\\\\\n",
    "\\mu&1&0\\\\\n",
    "0&0&\\nu\n",
    "\\end{pmatrix} P, \\qquad 0 \\le \\mu < 1 \\text{ and } 0 < \\nu\n",
    "$$\n",
    "where\n",
    "$$\n",
    "P =\n",
    "\\begin{pmatrix}\n",
    "-\\frac{1 + \\sqrt{1 - c}}{2 c \\sqrt{1 - c}} & -\\frac{1}{2 \\sqrt{1 - c}} & 0 \\\\[.4pc]\n",
    "\\frac{1 - \\sqrt{1 - c}}{2 c \\sqrt{1 - c}} & \\frac{1}{2 \\sqrt{1 - c}} & 0 \\\\[.4pc] \n",
    "0 & 0 & 1\n",
    "\\end{pmatrix}\n",
    "= \\begin{pmatrix}\n",
    "-\\frac{1 + c_1}{2 (1 - c_1^2) c_1} & -\\frac{1}{2 c_1} & 0 \\\\[.4pc]\n",
    "\\frac{1 - c_1}{2 (1 - c_1^2) c_1} & \\frac{1}{2 c_1} & 0 \\\\[.4pc] \n",
    "0 & 0 & 1\n",
    "\\end{pmatrix}\n",
    "$$"
   ]
  },
  {
   "cell_type": "code",
   "execution_count": 8,
   "id": "collect-tiger",
   "metadata": {},
   "outputs": [
    {
     "data": {
      "text/html": [
       "<html><script type=\"math/tex; mode=display\">\\newcommand{\\Bold}[1]{\\mathbf{#1}}\\left(\\begin{array}{rrr}\n",
       "\\frac{1}{2 \\, {\\left(c_{1}^{2} - c_{1}\\right)}} & -\\frac{1}{2 \\, c_{1}} & 0 \\\\\n",
       "\\frac{1}{2 \\, {\\left(c_{1}^{2} + c_{1}\\right)}} & \\frac{1}{2 \\, c_{1}} & 0 \\\\\n",
       "0 & 0 & 1\n",
       "\\end{array}\\right)</script></html>"
      ],
      "text/latex": [
       "\\begin{math}\n",
       "\\newcommand{\\Bold}[1]{\\mathbf{#1}}\\left(\\begin{array}{rrr}\n",
       "\\frac{1}{2 \\, {\\left(c_{1}^{2} - c_{1}\\right)}} & -\\frac{1}{2 \\, c_{1}} & 0 \\\\\n",
       "\\frac{1}{2 \\, {\\left(c_{1}^{2} + c_{1}\\right)}} & \\frac{1}{2 \\, c_{1}} & 0 \\\\\n",
       "0 & 0 & 1\n",
       "\\end{array}\\right)\n",
       "\\end{math}"
      ],
      "text/plain": [
       "[1/2/(c1^2 - c1)         -1/2/c1               0]\n",
       "[1/2/(c1^2 + c1)          1/2/c1               0]\n",
       "[              0               0               1]"
      ]
     },
     "execution_count": 8,
     "metadata": {},
     "output_type": "execute_result"
    }
   ],
   "source": [
    "P = matrix([\n",
    "    [-(1+sqrt(1-c))/(2*c*sqrt(1-c)), -1/(2*sqrt(1-c)),0],\n",
    "    [(1-sqrt(1-c))/(2*c*sqrt(1-c)),1/(2*sqrt(1-c)),0],\n",
    "    [0,0,1]\n",
    "]).simplify_full()\n",
    "P"
   ]
  },
  {
   "cell_type": "code",
   "execution_count": 9,
   "id": "searching-clinton",
   "metadata": {},
   "outputs": [
    {
     "data": {
      "text/html": [
       "<html><script type=\"math/tex; mode=display\">\\newcommand{\\Bold}[1]{\\mathbf{#1}}\\left(\\begin{array}{rrr}\n",
       "1 & \\mu & 0 \\\\\n",
       "\\mu & 1 & 0 \\\\\n",
       "0 & 0 & \\nu\n",
       "\\end{array}\\right)</script></html>"
      ],
      "text/latex": [
       "\\begin{math}\n",
       "\\newcommand{\\Bold}[1]{\\mathbf{#1}}\\left(\\begin{array}{rrr}\n",
       "1 & \\mu & 0 \\\\\n",
       "\\mu & 1 & 0 \\\\\n",
       "0 & 0 & \\nu\n",
       "\\end{array}\\right)\n",
       "\\end{math}"
      ],
      "text/plain": [
       "[ 1 mu  0]\n",
       "[mu  1  0]\n",
       "[ 0  0 nu]"
      ]
     },
     "execution_count": 9,
     "metadata": {},
     "output_type": "execute_result"
    }
   ],
   "source": [
    "mu, nu = var('mu nu')\n",
    "assume(0<mu,mu<=-c)\n",
    "assume(0<nu)\n",
    "g_aux = matrix(3,3,[1,mu,0,mu,1,0,0,0,nu])\n",
    "g_aux"
   ]
  },
  {
   "cell_type": "code",
   "execution_count": 10,
   "id": "suited-universe",
   "metadata": {},
   "outputs": [],
   "source": [
    "g_coefs = (P.transpose() * g_aux * P).simplify_full().list()"
   ]
  },
  {
   "cell_type": "code",
   "execution_count": 11,
   "id": "economic-fundamental",
   "metadata": {},
   "outputs": [
    {
     "data": {
      "text/html": [
       "<html><script type=\"math/tex; mode=display\">\\newcommand{\\Bold}[1]{\\mathbf{#1}}\\left(\\begin{array}{rrr}\n",
       "\\frac{c_{1}^{2} + {\\left(c_{1}^{2} - 1\\right)} \\mu + 1}{2 \\, {\\left(c_{1}^{6} - 2 \\, c_{1}^{4} + c_{1}^{2}\\right)}} & \\frac{\\mu - 1}{2 \\, {\\left(c_{1}^{4} - c_{1}^{2}\\right)}} & 0 \\\\\n",
       "\\frac{\\mu - 1}{2 \\, {\\left(c_{1}^{4} - c_{1}^{2}\\right)}} & -\\frac{\\mu - 1}{2 \\, c_{1}^{2}} & 0 \\\\\n",
       "0 & 0 & \\nu\n",
       "\\end{array}\\right)</script></html>"
      ],
      "text/latex": [
       "\\begin{math}\n",
       "\\newcommand{\\Bold}[1]{\\mathbf{#1}}\\left(\\begin{array}{rrr}\n",
       "\\frac{c_{1}^{2} + {\\left(c_{1}^{2} - 1\\right)} \\mu + 1}{2 \\, {\\left(c_{1}^{6} - 2 \\, c_{1}^{4} + c_{1}^{2}\\right)}} & \\frac{\\mu - 1}{2 \\, {\\left(c_{1}^{4} - c_{1}^{2}\\right)}} & 0 \\\\\n",
       "\\frac{\\mu - 1}{2 \\, {\\left(c_{1}^{4} - c_{1}^{2}\\right)}} & -\\frac{\\mu - 1}{2 \\, c_{1}^{2}} & 0 \\\\\n",
       "0 & 0 & \\nu\n",
       "\\end{array}\\right)\n",
       "\\end{math}"
      ],
      "text/plain": [
       "[1/2*(c1^2 + (c1^2 - 1)*mu + 1)/(c1^6 - 2*c1^4 + c1^2)                            1/2*(mu - 1)/(c1^4 - c1^2)                                                     0]\n",
       "[                           1/2*(mu - 1)/(c1^4 - c1^2)                                    -1/2*(mu - 1)/c1^2                                                     0]\n",
       "[                                                    0                                                     0                                                    nu]"
      ]
     },
     "execution_count": 11,
     "metadata": {},
     "output_type": "execute_result"
    }
   ],
   "source": [
    "g = G.left_inv_metric(g_coefs,name=r'g_{\\mu,\\nu}')\n",
    "g.comp(L)[:]"
   ]
  },
  {
   "cell_type": "markdown",
   "id": "dental-sierra",
   "metadata": {},
   "source": [
    "We verify that the right invariant vector fields are Killing fields."
   ]
  },
  {
   "cell_type": "code",
   "execution_count": 12,
   "id": "choice-america",
   "metadata": {},
   "outputs": [
    {
     "data": {
      "text/html": [
       "<html><script type=\"math/tex; mode=display\">\\newcommand{\\Bold}[1]{\\mathbf{#1}}0</script></html>"
      ],
      "text/latex": [
       "\\begin{math}\n",
       "\\newcommand{\\Bold}[1]{\\mathbf{#1}}0\n",
       "\\end{math}"
      ],
      "text/plain": [
       "0"
      ]
     },
     "metadata": {},
     "output_type": "display_data"
    },
    {
     "data": {
      "text/html": [
       "<html><script type=\"math/tex; mode=display\">\\newcommand{\\Bold}[1]{\\mathbf{#1}}0</script></html>"
      ],
      "text/latex": [
       "\\begin{math}\n",
       "\\newcommand{\\Bold}[1]{\\mathbf{#1}}0\n",
       "\\end{math}"
      ],
      "text/plain": [
       "0"
      ]
     },
     "metadata": {},
     "output_type": "display_data"
    },
    {
     "data": {
      "text/html": [
       "<html><script type=\"math/tex; mode=display\">\\newcommand{\\Bold}[1]{\\mathbf{#1}}0</script></html>"
      ],
      "text/latex": [
       "\\begin{math}\n",
       "\\newcommand{\\Bold}[1]{\\mathbf{#1}}0\n",
       "\\end{math}"
      ],
      "text/plain": [
       "0"
      ]
     },
     "metadata": {},
     "output_type": "display_data"
    }
   ],
   "source": [
    "for X in R:\n",
    "    display(g.lie_derivative(X).display(L))"
   ]
  },
  {
   "cell_type": "markdown",
   "id": "crucial-packing",
   "metadata": {},
   "source": [
    "We compute the intersecion of the orthogonal Lie algebra $\\mathfrak{so}(g_{\\mu, \\nu}) \\simeq \\mathfrak{so}(3)$ with the pseudo-orthogonal Lie algebra with respecto to the Ricci tensor, $\\mathfrak{so}(\\operatorname{Ric}) \\simeq \\mathfrak{so}(2, 1)$"
   ]
  },
  {
   "cell_type": "code",
   "execution_count": 13,
   "id": "elder-stick",
   "metadata": {},
   "outputs": [
    {
     "data": {
      "text/html": [
       "<html><script type=\"math/tex; mode=display\">\\newcommand{\\Bold}[1]{\\mathbf{#1}}\\left(\\left(\\begin{array}{rrr}\n",
       "\\frac{c_{1}^{2} + {\\left(c_{1}^{2} - 1\\right)} \\mu + 1}{2 \\, {\\left(c_{1}^{6} - 2 \\, c_{1}^{4} + c_{1}^{2}\\right)}} & \\frac{\\mu - 1}{2 \\, {\\left(c_{1}^{4} - c_{1}^{2}\\right)}} & 0 \\\\\n",
       "\\frac{\\mu - 1}{2 \\, {\\left(c_{1}^{4} - c_{1}^{2}\\right)}} & -\\frac{\\mu - 1}{2 \\, c_{1}^{2}} & 0 \\\\\n",
       "0 & 0 & \\nu\n",
       "\\end{array}\\right), \\left(\\begin{array}{rrr}\n",
       "\\frac{{\\left(c_{1}^{2} - 1\\right)} \\mu^{3} + {\\left(c_{1}^{4} + 1\\right)} \\mu^{2} + c_{1}^{2} + {\\left(c_{1}^{4} - 2 \\, c_{1}^{2} + 1\\right)} \\mu - 1}{{\\left(c_{1}^{6} - 2 \\, c_{1}^{4} - {\\left(c_{1}^{6} - 2 \\, c_{1}^{4} + c_{1}^{2}\\right)} \\mu^{2} + c_{1}^{2}\\right)} \\nu} & -\\frac{c_{1}^{2} + \\mu^{2} - 1}{{\\left(c_{1}^{4} - c_{1}^{2} + {\\left(c_{1}^{4} - c_{1}^{2}\\right)} \\mu\\right)} \\nu} & 0 \\\\\n",
       "-\\frac{c_{1}^{2} + \\mu^{2} - 1}{{\\left(c_{1}^{4} - c_{1}^{2} + {\\left(c_{1}^{4} - c_{1}^{2}\\right)} \\mu\\right)} \\nu} & -\\frac{c_{1}^{2} \\mu - \\mu^{2} + 1}{{\\left(c_{1}^{2} \\mu + c_{1}^{2}\\right)} \\nu} & 0 \\\\\n",
       "0 & 0 & \\frac{2 \\, {\\left(c_{1}^{2} - \\mu^{2} + 1\\right)}}{\\mu^{2} - 1}\n",
       "\\end{array}\\right)\\right)</script></html>"
      ],
      "text/latex": [
       "\\begin{math}\n",
       "\\newcommand{\\Bold}[1]{\\mathbf{#1}}\\left(\\left(\\begin{array}{rrr}\n",
       "\\frac{c_{1}^{2} + {\\left(c_{1}^{2} - 1\\right)} \\mu + 1}{2 \\, {\\left(c_{1}^{6} - 2 \\, c_{1}^{4} + c_{1}^{2}\\right)}} & \\frac{\\mu - 1}{2 \\, {\\left(c_{1}^{4} - c_{1}^{2}\\right)}} & 0 \\\\\n",
       "\\frac{\\mu - 1}{2 \\, {\\left(c_{1}^{4} - c_{1}^{2}\\right)}} & -\\frac{\\mu - 1}{2 \\, c_{1}^{2}} & 0 \\\\\n",
       "0 & 0 & \\nu\n",
       "\\end{array}\\right), \\left(\\begin{array}{rrr}\n",
       "\\frac{{\\left(c_{1}^{2} - 1\\right)} \\mu^{3} + {\\left(c_{1}^{4} + 1\\right)} \\mu^{2} + c_{1}^{2} + {\\left(c_{1}^{4} - 2 \\, c_{1}^{2} + 1\\right)} \\mu - 1}{{\\left(c_{1}^{6} - 2 \\, c_{1}^{4} - {\\left(c_{1}^{6} - 2 \\, c_{1}^{4} + c_{1}^{2}\\right)} \\mu^{2} + c_{1}^{2}\\right)} \\nu} & -\\frac{c_{1}^{2} + \\mu^{2} - 1}{{\\left(c_{1}^{4} - c_{1}^{2} + {\\left(c_{1}^{4} - c_{1}^{2}\\right)} \\mu\\right)} \\nu} & 0 \\\\\n",
       "-\\frac{c_{1}^{2} + \\mu^{2} - 1}{{\\left(c_{1}^{4} - c_{1}^{2} + {\\left(c_{1}^{4} - c_{1}^{2}\\right)} \\mu\\right)} \\nu} & -\\frac{c_{1}^{2} \\mu - \\mu^{2} + 1}{{\\left(c_{1}^{2} \\mu + c_{1}^{2}\\right)} \\nu} & 0 \\\\\n",
       "0 & 0 & \\frac{2 \\, {\\left(c_{1}^{2} - \\mu^{2} + 1\\right)}}{\\mu^{2} - 1}\n",
       "\\end{array}\\right)\\right)\n",
       "\\end{math}"
      ],
      "text/plain": [
       "(\n",
       "[1/2*(c1^2 + (c1^2 - 1)*mu + 1)/(c1^6 - 2*c1^4 + c1^2)                            1/2*(mu - 1)/(c1^4 - c1^2)                                                     0]  [((c1^2 - 1)*mu^3 + (c1^4 + 1)*mu^2 + c1^2 + (c1^4 - 2*c1^2 + 1)*mu - 1)/((c1^6 - 2*c1^4 - (c1^6 - 2*c1^4 + c1^2)*mu^2 + c1^2)*nu)                                                                          -(c1^2 + mu^2 - 1)/((c1^4 - c1^2 + (c1^4 - c1^2)*mu)*nu)                                                                                                                                 0]\n",
       "[                           1/2*(mu - 1)/(c1^4 - c1^2)                                    -1/2*(mu - 1)/c1^2                                                     0]  [                                                                         -(c1^2 + mu^2 - 1)/((c1^4 - c1^2 + (c1^4 - c1^2)*mu)*nu)                                                                                       -(c1^2*mu - mu^2 + 1)/((c1^2*mu + c1^2)*nu)                                                                                                                                 0]\n",
       "[                                                    0                                                     0                                                    nu], [                                                                                                                                0                                                                                                                                 0                                                                                                    2*(c1^2 - mu^2 + 1)/(mu^2 - 1)]\n",
       ")"
      ]
     },
     "execution_count": 13,
     "metadata": {},
     "output_type": "execute_result"
    }
   ],
   "source": [
    "g_mat = mat_SR(g.comp(L)[:])\n",
    "Ric = g.ricci()\n",
    "Ric_mat = mat_SR(Ric.comp(L)[:]).simplify_full()\n",
    "g_mat, Ric_mat"
   ]
  },
  {
   "cell_type": "code",
   "execution_count": 14,
   "id": "pretty-celebrity",
   "metadata": {},
   "outputs": [
    {
     "data": {
      "text/html": [
       "<html><script type=\"math/tex; mode=display\">\\newcommand{\\Bold}[1]{\\mathbf{#1}}\\left(\\begin{array}{rrr}\n",
       "a_{00} & a_{01} & a_{02} \\\\\n",
       "a_{10} & a_{11} & a_{12} \\\\\n",
       "a_{20} & a_{21} & a_{22}\n",
       "\\end{array}\\right)</script></html>"
      ],
      "text/latex": [
       "\\begin{math}\n",
       "\\newcommand{\\Bold}[1]{\\mathbf{#1}}\\left(\\begin{array}{rrr}\n",
       "a_{00} & a_{01} & a_{02} \\\\\n",
       "a_{10} & a_{11} & a_{12} \\\\\n",
       "a_{20} & a_{21} & a_{22}\n",
       "\\end{array}\\right)\n",
       "\\end{math}"
      ],
      "text/plain": [
       "[a00 a01 a02]\n",
       "[a10 a11 a12]\n",
       "[a20 a21 a22]"
      ]
     },
     "execution_count": 14,
     "metadata": {},
     "output_type": "execute_result"
    }
   ],
   "source": [
    "A_list = []\n",
    "for i in range(3):\n",
    "    for j in range(3):\n",
    "        A_list += [var('a'+str(i)+str(j))]\n",
    "A = matrix(3,3,A_list); A"
   ]
  },
  {
   "cell_type": "markdown",
   "id": "advanced-effort",
   "metadata": {},
   "source": [
    "Equations for $A \\in \\mathfrak{so}(g_{\\mu, \\nu})$:"
   ]
  },
  {
   "cell_type": "code",
   "execution_count": 15,
   "id": "chief-fishing",
   "metadata": {},
   "outputs": [
    {
     "data": {
      "text/html": [
       "<html><script type=\"math/tex; mode=display\">\\newcommand{\\Bold}[1]{\\mathbf{#1}}\\left(\\begin{array}{rrr}\n",
       "-a_{11} & {\\left(c_{1}^{2} - 1\\right)} a_{11} & -\\frac{2 \\, {\\left(c_{1}^{4} \\nu - 2 \\, c_{1}^{2} \\nu + \\nu\\right)} a_{20}}{\\mu + 1} - \\frac{2 \\, {\\left(c_{1}^{2} \\nu - \\nu\\right)} a_{21}}{\\mu + 1} \\\\\n",
       "\\frac{{\\left(c_{1}^{2} \\mu + c_{1}^{2} - \\mu + 1\\right)} a_{11}}{c_{1}^{2} \\mu - c_{1}^{2} - \\mu + 1} & a_{11} & \\frac{2 \\, {\\left(c_{1}^{2} \\mu \\nu + c_{1}^{2} \\nu - \\mu \\nu + \\nu\\right)} a_{21}}{\\mu^{2} - 1} - \\frac{2 \\, {\\left(c_{1}^{2} \\nu - \\nu\\right)} a_{20}}{\\mu + 1} \\\\\n",
       "a_{20} & a_{21} & 0\n",
       "\\end{array}\\right)</script></html>"
      ],
      "text/latex": [
       "\\begin{math}\n",
       "\\newcommand{\\Bold}[1]{\\mathbf{#1}}\\left(\\begin{array}{rrr}\n",
       "-a_{11} & {\\left(c_{1}^{2} - 1\\right)} a_{11} & -\\frac{2 \\, {\\left(c_{1}^{4} \\nu - 2 \\, c_{1}^{2} \\nu + \\nu\\right)} a_{20}}{\\mu + 1} - \\frac{2 \\, {\\left(c_{1}^{2} \\nu - \\nu\\right)} a_{21}}{\\mu + 1} \\\\\n",
       "\\frac{{\\left(c_{1}^{2} \\mu + c_{1}^{2} - \\mu + 1\\right)} a_{11}}{c_{1}^{2} \\mu - c_{1}^{2} - \\mu + 1} & a_{11} & \\frac{2 \\, {\\left(c_{1}^{2} \\mu \\nu + c_{1}^{2} \\nu - \\mu \\nu + \\nu\\right)} a_{21}}{\\mu^{2} - 1} - \\frac{2 \\, {\\left(c_{1}^{2} \\nu - \\nu\\right)} a_{20}}{\\mu + 1} \\\\\n",
       "a_{20} & a_{21} & 0\n",
       "\\end{array}\\right)\n",
       "\\end{math}"
      ],
      "text/plain": [
       "[                                                                                -a11                                                                       (c1^2 - 1)*a11           -2*(c1^4*nu - 2*c1^2*nu + nu)*a20/(mu + 1) - 2*(c1^2*nu - nu)*a21/(mu + 1)]\n",
       "[                             (c1^2*mu + c1^2 - mu + 1)*a11/(c1^2*mu - c1^2 - mu + 1)                                                                                  a11 2*(c1^2*mu*nu + c1^2*nu - mu*nu + nu)*a21/(mu^2 - 1) - 2*(c1^2*nu - nu)*a20/(mu + 1)]\n",
       "[                                                                                 a20                                                                                  a21                                                                                    0]"
      ]
     },
     "execution_count": 15,
     "metadata": {},
     "output_type": "execute_result"
    }
   ],
   "source": [
    "sols_so3 = solve((A.transpose() * g_mat + g_mat * A).list(), A.list(), algorithm='sympy')\n",
    "A_so3 = A.subs(sols_so3); A_so3"
   ]
  },
  {
   "cell_type": "markdown",
   "id": "south-japanese",
   "metadata": {},
   "source": [
    "Equations for `A_{so3}` be also an element of $\\mathfrak{so}(\\operatorname{Ric})$"
   ]
  },
  {
   "cell_type": "code",
   "execution_count": 16,
   "id": "recreational-swing",
   "metadata": {},
   "outputs": [
    {
     "data": {
      "text/html": [
       "<html><script type=\"math/tex; mode=display\">\\newcommand{\\Bold}[1]{\\mathbf{#1}}\\left(\\begin{array}{rrr}\n",
       "0 & 0 & 0 \\\\\n",
       "0 & 0 & 0 \\\\\n",
       "0 & 0 & 0\n",
       "\\end{array}\\right)</script></html>"
      ],
      "text/latex": [
       "\\begin{math}\n",
       "\\newcommand{\\Bold}[1]{\\mathbf{#1}}\\left(\\begin{array}{rrr}\n",
       "0 & 0 & 0 \\\\\n",
       "0 & 0 & 0 \\\\\n",
       "0 & 0 & 0\n",
       "\\end{array}\\right)\n",
       "\\end{math}"
      ],
      "text/plain": [
       "[0 0 0]\n",
       "[0 0 0]\n",
       "[0 0 0]"
      ]
     },
     "execution_count": 16,
     "metadata": {},
     "output_type": "execute_result"
    }
   ],
   "source": [
    "sols_so3_Ric = solve((A_so3.transpose() * Ric_mat + Ric_mat * A_so3).list(), [a11,a20,a21], algorithm='sympy')\n",
    "A_so3_Ric = A_so3.subs(sols_so3_Ric); A_so3_Ric"
   ]
  },
  {
   "cell_type": "markdown",
   "id": "miniature-binary",
   "metadata": {},
   "source": [
    "Therefore, the Lie algebra of the isotropy group of the full isometry group is trivial."
   ]
  },
  {
   "cell_type": "markdown",
   "id": "fifty-territory",
   "metadata": {},
   "source": [
    "## Index of symmetry\n",
    "\n",
    "Since the isometry group has dimension $3$, if the index of symmery is non-trivial, we will find a left invariant vector field $X$ such that $X_e \\neq 0$ and $(\\nabla X)_e = 0$"
   ]
  },
  {
   "cell_type": "code",
   "execution_count": 17,
   "id": "loaded-replication",
   "metadata": {},
   "outputs": [
    {
     "data": {
      "text/html": [
       "<html><script type=\"math/tex; mode=display\">\\newcommand{\\Bold}[1]{\\mathbf{#1}}R_{gen} = a_{0} R_{0} + a_{1} R_{1} + a_{2} R_{2}</script></html>"
      ],
      "text/latex": [
       "\\begin{math}\n",
       "\\newcommand{\\Bold}[1]{\\mathbf{#1}}R_{gen} = a_{0} R_{0} + a_{1} R_{1} + a_{2} R_{2}\n",
       "\\end{math}"
      ],
      "text/plain": [
       "R_{gen} = a0 R_0 + a1 R_1 + a2 R_2"
      ]
     },
     "execution_count": 17,
     "metadata": {},
     "output_type": "execute_result"
    }
   ],
   "source": [
    "a0, a1, a2 = var('a0 a1 a2')\n",
    "R_gen = G.right_inv_vect_field(a0,a1,a2,name=r'R_{gen}')\n",
    "R_gen.display(R)"
   ]
  },
  {
   "cell_type": "markdown",
   "id": "spatial-victor",
   "metadata": {},
   "source": [
    "Define the Levi-Civita connection"
   ]
  },
  {
   "cell_type": "code",
   "execution_count": 18,
   "id": "intimate-factor",
   "metadata": {},
   "outputs": [],
   "source": [
    "nabla = g.connection()"
   ]
  },
  {
   "cell_type": "markdown",
   "id": "muslim-twist",
   "metadata": {},
   "source": [
    "And take the derivative of a generic right invariant vector field."
   ]
  },
  {
   "cell_type": "code",
   "execution_count": 19,
   "id": "marine-wholesale",
   "metadata": {},
   "outputs": [
    {
     "data": {
      "text/html": [
       "<html><script type=\"math/tex; mode=display\">\\newcommand{\\Bold}[1]{\\mathbf{#1}}\\left(\\begin{array}{rrr}\n",
       "-\\frac{a_{2} \\mu}{\\mu + 1} & \\frac{a_{2} {\\left(c_{1} + 1\\right)} {\\left(c_{1} - 1\\right)} \\mu}{\\mu + 1} & -\\frac{a_{1} c_{1}^{2} + a_{0} \\mu - a_{1}}{\\mu + 1} \\\\\n",
       "\\frac{{\\left(c_{1}^{2} \\mu + c_{1}^{2} - \\mu + 1\\right)} a_{2} \\mu}{{\\left(c_{1} + 1\\right)} {\\left(c_{1} - 1\\right)} {\\left(\\mu + 1\\right)} {\\left(\\mu - 1\\right)}} & \\frac{a_{2} \\mu}{\\mu + 1} & -\\frac{a_{1} c_{1}^{2} \\mu^{2} - a_{0} c_{1}^{2} \\mu + a_{1} c_{1}^{2} \\mu - a_{0} c_{1}^{2} - 2 \\, a_{1} c_{1}^{2} - a_{1} \\mu^{2} - a_{0} \\mu - a_{1} \\mu + a_{0} + 2 \\, a_{1}}{{\\left(c_{1} + 1\\right)} {\\left(c_{1} - 1\\right)} {\\left(\\mu + 1\\right)} {\\left(\\mu - 1\\right)}} \\\\\n",
       "\\frac{a_{1} c_{1}^{2} + a_{0} \\mu + a_{1} \\mu - a_{0} - a_{1}}{2 \\, {\\left(c_{1} + 1\\right)} {\\left(c_{1} - 1\\right)} c_{1}^{2} \\nu} & -\\frac{a_{1} c_{1}^{2} \\mu - a_{0} c_{1}^{2} - a_{1} c_{1}^{2} - a_{0} \\mu - a_{1} \\mu + a_{0} + a_{1}}{2 \\, {\\left(c_{1} + 1\\right)} {\\left(c_{1} - 1\\right)} c_{1}^{2} \\nu} & 0\n",
       "\\end{array}\\right)</script></html>"
      ],
      "text/latex": [
       "\\begin{math}\n",
       "\\newcommand{\\Bold}[1]{\\mathbf{#1}}\\left(\\begin{array}{rrr}\n",
       "-\\frac{a_{2} \\mu}{\\mu + 1} & \\frac{a_{2} {\\left(c_{1} + 1\\right)} {\\left(c_{1} - 1\\right)} \\mu}{\\mu + 1} & -\\frac{a_{1} c_{1}^{2} + a_{0} \\mu - a_{1}}{\\mu + 1} \\\\\n",
       "\\frac{{\\left(c_{1}^{2} \\mu + c_{1}^{2} - \\mu + 1\\right)} a_{2} \\mu}{{\\left(c_{1} + 1\\right)} {\\left(c_{1} - 1\\right)} {\\left(\\mu + 1\\right)} {\\left(\\mu - 1\\right)}} & \\frac{a_{2} \\mu}{\\mu + 1} & -\\frac{a_{1} c_{1}^{2} \\mu^{2} - a_{0} c_{1}^{2} \\mu + a_{1} c_{1}^{2} \\mu - a_{0} c_{1}^{2} - 2 \\, a_{1} c_{1}^{2} - a_{1} \\mu^{2} - a_{0} \\mu - a_{1} \\mu + a_{0} + 2 \\, a_{1}}{{\\left(c_{1} + 1\\right)} {\\left(c_{1} - 1\\right)} {\\left(\\mu + 1\\right)} {\\left(\\mu - 1\\right)}} \\\\\n",
       "\\frac{a_{1} c_{1}^{2} + a_{0} \\mu + a_{1} \\mu - a_{0} - a_{1}}{2 \\, {\\left(c_{1} + 1\\right)} {\\left(c_{1} - 1\\right)} c_{1}^{2} \\nu} & -\\frac{a_{1} c_{1}^{2} \\mu - a_{0} c_{1}^{2} - a_{1} c_{1}^{2} - a_{0} \\mu - a_{1} \\mu + a_{0} + a_{1}}{2 \\, {\\left(c_{1} + 1\\right)} {\\left(c_{1} - 1\\right)} c_{1}^{2} \\nu} & 0\n",
       "\\end{array}\\right)\n",
       "\\end{math}"
      ],
      "text/plain": [
       "[                                                                                                                            -a2*mu/(mu + 1)                                                                                                            a2*(c1 + 1)*(c1 - 1)*mu/(mu + 1)                                                                                                            -(a1*c1^2 + a0*mu - a1)/(mu + 1)]\n",
       "[                                                                      (c1^2*mu + c1^2 - mu + 1)*a2*mu/((c1 + 1)*(c1 - 1)*(mu + 1)*(mu - 1))                                                                                                                              a2*mu/(mu + 1) -(a1*c1^2*mu^2 - a0*c1^2*mu + a1*c1^2*mu - a0*c1^2 - 2*a1*c1^2 - a1*mu^2 - a0*mu - a1*mu + a0 + 2*a1)/((c1 + 1)*(c1 - 1)*(mu + 1)*(mu - 1))]\n",
       "[                                                                        1/2*(a1*c1^2 + a0*mu + a1*mu - a0 - a1)/((c1 + 1)*(c1 - 1)*c1^2*nu)                                                 -1/2*(a1*c1^2*mu - a0*c1^2 - a1*c1^2 - a0*mu - a1*mu + a0 + a1)/((c1 + 1)*(c1 - 1)*c1^2*nu)                                                                                                                                           0]"
      ]
     },
     "execution_count": 19,
     "metadata": {},
     "output_type": "execute_result"
    }
   ],
   "source": [
    "nablaR_gen = nabla(R_gen).at(G.zero)\n",
    "ind_sym_eqs = nablaR_gen.comp()[:].factor()\n",
    "ind_sym_eqs"
   ]
  },
  {
   "cell_type": "markdown",
   "id": "veterinary-child",
   "metadata": {},
   "source": [
    "### Case $\\mu = 0$"
   ]
  },
  {
   "cell_type": "code",
   "execution_count": 20,
   "id": "formed-cause",
   "metadata": {},
   "outputs": [
    {
     "data": {
      "text/html": [
       "<html><script type=\"math/tex; mode=display\">\\newcommand{\\Bold}[1]{\\mathbf{#1}}\\left(\\begin{array}{rrr}\n",
       "0 & 0 & -a_{1} {\\left(c_{1} + 1\\right)} {\\left(c_{1} - 1\\right)} \\\\\n",
       "0 & 0 & -a_{0} - 2 \\, a_{1} \\\\\n",
       "\\frac{a_{1} c_{1}^{2} - a_{0} - a_{1}}{2 \\, {\\left(c_{1} + 1\\right)} {\\left(c_{1} - 1\\right)} c_{1}^{2} \\nu} & \\frac{a_{0} + a_{1}}{2 \\, c_{1}^{2} \\nu} & 0\n",
       "\\end{array}\\right)</script></html>"
      ],
      "text/latex": [
       "\\begin{math}\n",
       "\\newcommand{\\Bold}[1]{\\mathbf{#1}}\\left(\\begin{array}{rrr}\n",
       "0 & 0 & -a_{1} {\\left(c_{1} + 1\\right)} {\\left(c_{1} - 1\\right)} \\\\\n",
       "0 & 0 & -a_{0} - 2 \\, a_{1} \\\\\n",
       "\\frac{a_{1} c_{1}^{2} - a_{0} - a_{1}}{2 \\, {\\left(c_{1} + 1\\right)} {\\left(c_{1} - 1\\right)} c_{1}^{2} \\nu} & \\frac{a_{0} + a_{1}}{2 \\, c_{1}^{2} \\nu} & 0\n",
       "\\end{array}\\right)\n",
       "\\end{math}"
      ],
      "text/plain": [
       "[                                                  0                                                   0                               -a1*(c1 + 1)*(c1 - 1)]\n",
       "[                                                  0                                                   0                                          -a0 - 2*a1]\n",
       "[1/2*(a1*c1^2 - a0 - a1)/((c1 + 1)*(c1 - 1)*c1^2*nu)                             1/2*(a0 + a1)/(c1^2*nu)                                                   0]"
      ]
     },
     "execution_count": 20,
     "metadata": {},
     "output_type": "execute_result"
    }
   ],
   "source": [
    "ind_sym_eqs1 = ind_sym_eqs.subs(mu=0).factor()\n",
    "ind_sym_eqs1"
   ]
  },
  {
   "cell_type": "code",
   "execution_count": 21,
   "id": "representative-wiring",
   "metadata": {},
   "outputs": [
    {
     "data": {
      "text/html": [
       "<html><script type=\"math/tex; mode=display\">\\newcommand{\\Bold}[1]{\\mathbf{#1}}\\left[\\left[a_{0} = 0, a_{1} = 0, a_{2} = r_{1}\\right]\\right]</script></html>"
      ],
      "text/latex": [
       "\\begin{math}\n",
       "\\newcommand{\\Bold}[1]{\\mathbf{#1}}\\left[\\left[a_{0} = 0, a_{1} = 0, a_{2} = r_{1}\\right]\\right]\n",
       "\\end{math}"
      ],
      "text/plain": [
       "[[a0 == 0, a1 == 0, a2 == r1]]"
      ]
     },
     "execution_count": 21,
     "metadata": {},
     "output_type": "execute_result"
    }
   ],
   "source": [
    "solve(ind_sym_eqs1.list(), [a0,a1,a2])"
   ]
  },
  {
   "cell_type": "markdown",
   "id": "suitable-commons",
   "metadata": {},
   "source": [
    "Hence, the distribution of symmetry of the metric $g_{0, \\nu}$ is spanned by the left invariant field $L_2$"
   ]
  },
  {
   "cell_type": "markdown",
   "id": "presidential-equipment",
   "metadata": {},
   "source": [
    "### Case $\\mu \\neq 0$\n",
    "\n",
    "Here we now that $a_2 = 0$"
   ]
  },
  {
   "cell_type": "code",
   "execution_count": 22,
   "id": "representative-observation",
   "metadata": {},
   "outputs": [
    {
     "data": {
      "text/html": [
       "<html><script type=\"math/tex; mode=display\">\\newcommand{\\Bold}[1]{\\mathbf{#1}}\\left(\\begin{array}{rrr}\n",
       "-\\frac{a_{2} \\mu}{\\mu + 1} & \\frac{a_{2} {\\left(c_{1} + 1\\right)} {\\left(c_{1} - 1\\right)} \\mu}{\\mu + 1} & -\\frac{a_{1} c_{1}^{2} + a_{0} \\mu - a_{1}}{\\mu + 1} \\\\\n",
       "\\frac{{\\left(c_{1}^{2} \\mu + c_{1}^{2} - \\mu + 1\\right)} a_{2} \\mu}{{\\left(c_{1} + 1\\right)} {\\left(c_{1} - 1\\right)} {\\left(\\mu + 1\\right)} {\\left(\\mu - 1\\right)}} & \\frac{a_{2} \\mu}{\\mu + 1} & -\\frac{a_{1} c_{1}^{2} \\mu^{2} - a_{0} c_{1}^{2} \\mu + a_{1} c_{1}^{2} \\mu - a_{0} c_{1}^{2} - 2 \\, a_{1} c_{1}^{2} - a_{1} \\mu^{2} - a_{0} \\mu - a_{1} \\mu + a_{0} + 2 \\, a_{1}}{{\\left(c_{1} + 1\\right)} {\\left(c_{1} - 1\\right)} {\\left(\\mu + 1\\right)} {\\left(\\mu - 1\\right)}} \\\\\n",
       "\\frac{a_{1} c_{1}^{2} + a_{0} \\mu + a_{1} \\mu - a_{0} - a_{1}}{2 \\, {\\left(c_{1} + 1\\right)} {\\left(c_{1} - 1\\right)} c_{1}^{2} \\nu} & -\\frac{a_{1} c_{1}^{2} \\mu - a_{0} c_{1}^{2} - a_{1} c_{1}^{2} - a_{0} \\mu - a_{1} \\mu + a_{0} + a_{1}}{2 \\, {\\left(c_{1} + 1\\right)} {\\left(c_{1} - 1\\right)} c_{1}^{2} \\nu} & 0\n",
       "\\end{array}\\right)</script></html>"
      ],
      "text/latex": [
       "\\begin{math}\n",
       "\\newcommand{\\Bold}[1]{\\mathbf{#1}}\\left(\\begin{array}{rrr}\n",
       "-\\frac{a_{2} \\mu}{\\mu + 1} & \\frac{a_{2} {\\left(c_{1} + 1\\right)} {\\left(c_{1} - 1\\right)} \\mu}{\\mu + 1} & -\\frac{a_{1} c_{1}^{2} + a_{0} \\mu - a_{1}}{\\mu + 1} \\\\\n",
       "\\frac{{\\left(c_{1}^{2} \\mu + c_{1}^{2} - \\mu + 1\\right)} a_{2} \\mu}{{\\left(c_{1} + 1\\right)} {\\left(c_{1} - 1\\right)} {\\left(\\mu + 1\\right)} {\\left(\\mu - 1\\right)}} & \\frac{a_{2} \\mu}{\\mu + 1} & -\\frac{a_{1} c_{1}^{2} \\mu^{2} - a_{0} c_{1}^{2} \\mu + a_{1} c_{1}^{2} \\mu - a_{0} c_{1}^{2} - 2 \\, a_{1} c_{1}^{2} - a_{1} \\mu^{2} - a_{0} \\mu - a_{1} \\mu + a_{0} + 2 \\, a_{1}}{{\\left(c_{1} + 1\\right)} {\\left(c_{1} - 1\\right)} {\\left(\\mu + 1\\right)} {\\left(\\mu - 1\\right)}} \\\\\n",
       "\\frac{a_{1} c_{1}^{2} + a_{0} \\mu + a_{1} \\mu - a_{0} - a_{1}}{2 \\, {\\left(c_{1} + 1\\right)} {\\left(c_{1} - 1\\right)} c_{1}^{2} \\nu} & -\\frac{a_{1} c_{1}^{2} \\mu - a_{0} c_{1}^{2} - a_{1} c_{1}^{2} - a_{0} \\mu - a_{1} \\mu + a_{0} + a_{1}}{2 \\, {\\left(c_{1} + 1\\right)} {\\left(c_{1} - 1\\right)} c_{1}^{2} \\nu} & 0\n",
       "\\end{array}\\right)\n",
       "\\end{math}"
      ],
      "text/plain": [
       "[                                                                                                                            -a2*mu/(mu + 1)                                                                                                            a2*(c1 + 1)*(c1 - 1)*mu/(mu + 1)                                                                                                            -(a1*c1^2 + a0*mu - a1)/(mu + 1)]\n",
       "[                                                                      (c1^2*mu + c1^2 - mu + 1)*a2*mu/((c1 + 1)*(c1 - 1)*(mu + 1)*(mu - 1))                                                                                                                              a2*mu/(mu + 1) -(a1*c1^2*mu^2 - a0*c1^2*mu + a1*c1^2*mu - a0*c1^2 - 2*a1*c1^2 - a1*mu^2 - a0*mu - a1*mu + a0 + 2*a1)/((c1 + 1)*(c1 - 1)*(mu + 1)*(mu - 1))]\n",
       "[                                                                        1/2*(a1*c1^2 + a0*mu + a1*mu - a0 - a1)/((c1 + 1)*(c1 - 1)*c1^2*nu)                                                 -1/2*(a1*c1^2*mu - a0*c1^2 - a1*c1^2 - a0*mu - a1*mu + a0 + a1)/((c1 + 1)*(c1 - 1)*c1^2*nu)                                                                                                                                           0]"
      ]
     },
     "execution_count": 22,
     "metadata": {},
     "output_type": "execute_result"
    }
   ],
   "source": [
    "ind_sym_eqs"
   ]
  },
  {
   "cell_type": "code",
   "execution_count": 23,
   "id": "failing-fifteen",
   "metadata": {},
   "outputs": [
    {
     "data": {
      "text/html": [
       "<html><script type=\"math/tex; mode=display\">\\newcommand{\\Bold}[1]{\\mathbf{#1}}\\left(\\begin{array}{rrr}\n",
       "0 & 0 & -\\frac{a_{1} c_{1}^{2} + a_{0} \\mu - a_{1}}{\\mu + 1} \\\\\n",
       "0 & 0 & -\\frac{a_{1} c_{1}^{2} \\mu^{2} - a_{0} c_{1}^{2} \\mu + a_{1} c_{1}^{2} \\mu - a_{0} c_{1}^{2} - 2 \\, a_{1} c_{1}^{2} - a_{1} \\mu^{2} - a_{0} \\mu - a_{1} \\mu + a_{0} + 2 \\, a_{1}}{{\\left(c_{1} + 1\\right)} {\\left(c_{1} - 1\\right)} {\\left(\\mu + 1\\right)} {\\left(\\mu - 1\\right)}} \\\\\n",
       "\\frac{a_{1} c_{1}^{2} + a_{0} \\mu + a_{1} \\mu - a_{0} - a_{1}}{2 \\, {\\left(c_{1} + 1\\right)} {\\left(c_{1} - 1\\right)} c_{1}^{2} \\nu} & -\\frac{a_{1} c_{1}^{2} \\mu - a_{0} c_{1}^{2} - a_{1} c_{1}^{2} - a_{0} \\mu - a_{1} \\mu + a_{0} + a_{1}}{2 \\, {\\left(c_{1} + 1\\right)} {\\left(c_{1} - 1\\right)} c_{1}^{2} \\nu} & 0\n",
       "\\end{array}\\right)</script></html>"
      ],
      "text/latex": [
       "\\begin{math}\n",
       "\\newcommand{\\Bold}[1]{\\mathbf{#1}}\\left(\\begin{array}{rrr}\n",
       "0 & 0 & -\\frac{a_{1} c_{1}^{2} + a_{0} \\mu - a_{1}}{\\mu + 1} \\\\\n",
       "0 & 0 & -\\frac{a_{1} c_{1}^{2} \\mu^{2} - a_{0} c_{1}^{2} \\mu + a_{1} c_{1}^{2} \\mu - a_{0} c_{1}^{2} - 2 \\, a_{1} c_{1}^{2} - a_{1} \\mu^{2} - a_{0} \\mu - a_{1} \\mu + a_{0} + 2 \\, a_{1}}{{\\left(c_{1} + 1\\right)} {\\left(c_{1} - 1\\right)} {\\left(\\mu + 1\\right)} {\\left(\\mu - 1\\right)}} \\\\\n",
       "\\frac{a_{1} c_{1}^{2} + a_{0} \\mu + a_{1} \\mu - a_{0} - a_{1}}{2 \\, {\\left(c_{1} + 1\\right)} {\\left(c_{1} - 1\\right)} c_{1}^{2} \\nu} & -\\frac{a_{1} c_{1}^{2} \\mu - a_{0} c_{1}^{2} - a_{1} c_{1}^{2} - a_{0} \\mu - a_{1} \\mu + a_{0} + a_{1}}{2 \\, {\\left(c_{1} + 1\\right)} {\\left(c_{1} - 1\\right)} c_{1}^{2} \\nu} & 0\n",
       "\\end{array}\\right)\n",
       "\\end{math}"
      ],
      "text/plain": [
       "[                                                                                                                                          0                                                                                                                                           0                                                                                                            -(a1*c1^2 + a0*mu - a1)/(mu + 1)]\n",
       "[                                                                                                                                          0                                                                                                                                           0 -(a1*c1^2*mu^2 - a0*c1^2*mu + a1*c1^2*mu - a0*c1^2 - 2*a1*c1^2 - a1*mu^2 - a0*mu - a1*mu + a0 + 2*a1)/((c1 + 1)*(c1 - 1)*(mu + 1)*(mu - 1))]\n",
       "[                                                                        1/2*(a1*c1^2 + a0*mu + a1*mu - a0 - a1)/((c1 + 1)*(c1 - 1)*c1^2*nu)                                                 -1/2*(a1*c1^2*mu - a0*c1^2 - a1*c1^2 - a0*mu - a1*mu + a0 + a1)/((c1 + 1)*(c1 - 1)*c1^2*nu)                                                                                                                                           0]"
      ]
     },
     "execution_count": 23,
     "metadata": {},
     "output_type": "execute_result"
    }
   ],
   "source": [
    "ind_sym_eqs2= ind_sym_eqs.subs(a2=0).factor()\n",
    "ind_sym_eqs2"
   ]
  },
  {
   "cell_type": "markdown",
   "id": "orange-singapore",
   "metadata": {},
   "source": [
    "We can express $a_0$ in terms of $a_1$:\n",
    "$$\n",
    "a_0 = \\frac{c a_1}{\\mu}\n",
    "$$"
   ]
  },
  {
   "cell_type": "code",
   "execution_count": 24,
   "id": "featured-magic",
   "metadata": {},
   "outputs": [
    {
     "data": {
      "text/html": [
       "<html><script type=\"math/tex; mode=display\">\\newcommand{\\Bold}[1]{\\mathbf{#1}}\\left[a_{0} = -\\frac{a_{1} c_{1}^{2} - a_{1}}{\\mu}\\right]</script></html>"
      ],
      "text/latex": [
       "\\begin{math}\n",
       "\\newcommand{\\Bold}[1]{\\mathbf{#1}}\\left[a_{0} = -\\frac{a_{1} c_{1}^{2} - a_{1}}{\\mu}\\right]\n",
       "\\end{math}"
      ],
      "text/plain": [
       "[a0 == -(a1*c1^2 - a1)/mu]"
      ]
     },
     "execution_count": 24,
     "metadata": {},
     "output_type": "execute_result"
    }
   ],
   "source": [
    "a0_func_a1 = ind_sym_eqs2[0,2].solve(a0)\n",
    "a0_func_a1"
   ]
  },
  {
   "cell_type": "code",
   "execution_count": 25,
   "id": "angry-start",
   "metadata": {},
   "outputs": [
    {
     "data": {
      "text/html": [
       "<html><script type=\"math/tex; mode=display\">\\newcommand{\\Bold}[1]{\\mathbf{#1}}\\left(\\begin{array}{rrr}\n",
       "0 & 0 & 0 \\\\\n",
       "0 & 0 & -\\frac{{\\left(c_{1}^{2} + \\mu^{2} - 1\\right)} a_{1}}{{\\left(\\mu - 1\\right)} \\mu} \\\\\n",
       "\\frac{{\\left(c_{1}^{2} + \\mu^{2} - 1\\right)} a_{1}}{2 \\, {\\left(c_{1} + 1\\right)} {\\left(c_{1} - 1\\right)} c_{1}^{2} \\mu \\nu} & -\\frac{{\\left(c_{1}^{2} + \\mu^{2} - 1\\right)} a_{1}}{2 \\, c_{1}^{2} \\mu \\nu} & 0\n",
       "\\end{array}\\right)</script></html>"
      ],
      "text/latex": [
       "\\begin{math}\n",
       "\\newcommand{\\Bold}[1]{\\mathbf{#1}}\\left(\\begin{array}{rrr}\n",
       "0 & 0 & 0 \\\\\n",
       "0 & 0 & -\\frac{{\\left(c_{1}^{2} + \\mu^{2} - 1\\right)} a_{1}}{{\\left(\\mu - 1\\right)} \\mu} \\\\\n",
       "\\frac{{\\left(c_{1}^{2} + \\mu^{2} - 1\\right)} a_{1}}{2 \\, {\\left(c_{1} + 1\\right)} {\\left(c_{1} - 1\\right)} c_{1}^{2} \\mu \\nu} & -\\frac{{\\left(c_{1}^{2} + \\mu^{2} - 1\\right)} a_{1}}{2 \\, c_{1}^{2} \\mu \\nu} & 0\n",
       "\\end{array}\\right)\n",
       "\\end{math}"
      ],
      "text/plain": [
       "[                                                      0                                                       0                                                       0]\n",
       "[                                                      0                                                       0                     -(c1^2 + mu^2 - 1)*a1/((mu - 1)*mu)]\n",
       "[1/2*(c1^2 + mu^2 - 1)*a1/((c1 + 1)*(c1 - 1)*c1^2*mu*nu)                  -1/2*(c1^2 + mu^2 - 1)*a1/(c1^2*mu*nu)                                                       0]"
      ]
     },
     "execution_count": 25,
     "metadata": {},
     "output_type": "execute_result"
    }
   ],
   "source": [
    "ind_sym_eqs2.subs(a0_func_a1).factor()"
   ]
  },
  {
   "cell_type": "markdown",
   "id": "automated-emission",
   "metadata": {},
   "source": [
    "Therefore, if $\\mu > 0$, then the index of symmetry of $g_{\\mu, \\nu}$ is non-trivial if and only if $\\mu = \\sqrt c$, and in this case the distribution of symmetry is spanned by the left invariant field\n",
    "$$\n",
    "L_0 + \\frac{1}{\\sqrt c} L_1\n",
    "$$"
   ]
  },
  {
   "cell_type": "code",
   "execution_count": 26,
   "id": "painful-finding",
   "metadata": {},
   "outputs": [
    {
     "data": {
      "text/html": [
       "<html><script type=\"math/tex; mode=display\">\\newcommand{\\Bold}[1]{\\mathbf{#1}}a_{1}</script></html>"
      ],
      "text/latex": [
       "\\begin{math}\n",
       "\\newcommand{\\Bold}[1]{\\mathbf{#1}}a_{1}\n",
       "\\end{math}"
      ],
      "text/plain": [
       "a1"
      ]
     },
     "execution_count": 26,
     "metadata": {},
     "output_type": "execute_result"
    }
   ],
   "source": [
    "a1.subs(mu=sqrt(c))"
   ]
  },
  {
   "cell_type": "code",
   "execution_count": 27,
   "id": "exact-shepherd",
   "metadata": {},
   "outputs": [
    {
     "data": {
      "text/html": [
       "<html><script type=\"math/tex; mode=display\">\\newcommand{\\Bold}[1]{\\mathbf{#1}}1</script></html>"
      ],
      "text/latex": [
       "\\begin{math}\n",
       "\\newcommand{\\Bold}[1]{\\mathbf{#1}}1\n",
       "\\end{math}"
      ],
      "text/plain": [
       "1"
      ]
     },
     "execution_count": 27,
     "metadata": {},
     "output_type": "execute_result"
    }
   ],
   "source": [
    "a0.subs(a0_func_a1).subs(mu=sqrt(c)).subs(a1=1/sqrt(c)).factor()"
   ]
  },
  {
   "cell_type": "markdown",
   "id": "60bc7749",
   "metadata": {},
   "source": [
    "## Scalar curvature\n",
    "\n",
    "The scalar curvature of $g_{\\mu,\\nu}$ is given by"
   ]
  },
  {
   "cell_type": "code",
   "execution_count": 28,
   "id": "340026ef",
   "metadata": {},
   "outputs": [
    {
     "data": {
      "text/html": [
       "<html><script type=\"math/tex; mode=display\">\\newcommand{\\Bold}[1]{\\mathbf{#1}}\\frac{2 \\, {\\left(c_{1}^{2} - 3 \\, \\mu^{2} + 3\\right)}}{{\\left(\\mu^{2} - 1\\right)} \\nu}</script></html>"
      ],
      "text/latex": [
       "\\begin{math}\n",
       "\\newcommand{\\Bold}[1]{\\mathbf{#1}}\\frac{2 \\, {\\left(c_{1}^{2} - 3 \\, \\mu^{2} + 3\\right)}}{{\\left(\\mu^{2} - 1\\right)} \\nu}\n",
       "\\end{math}"
      ],
      "text/plain": [
       "2*(c1^2 - 3*mu^2 + 3)/((mu^2 - 1)*nu)"
      ]
     },
     "execution_count": 28,
     "metadata": {},
     "output_type": "execute_result"
    }
   ],
   "source": [
    "g.ricci_scalar().expr()"
   ]
  },
  {
   "cell_type": "markdown",
   "id": "97be53b7",
   "metadata": {},
   "source": [
    "In particular, the scalar curvature of the metrics on $G_c$ with non-trivial index of symmetry, that is $g_{0, \\nu}$ and $g_{\\sqrt c, \\nu}$ are given by"
   ]
  },
  {
   "cell_type": "code",
   "execution_count": 29,
   "id": "50930aa6",
   "metadata": {},
   "outputs": [
    {
     "data": {
      "text/html": [
       "<html><script type=\"math/tex; mode=display\">\\newcommand{\\Bold}[1]{\\mathbf{#1}}-\\frac{2 \\, {\\left(c_{1}^{2} + 3\\right)}}{\\nu}</script></html>"
      ],
      "text/latex": [
       "\\begin{math}\n",
       "\\newcommand{\\Bold}[1]{\\mathbf{#1}}-\\frac{2 \\, {\\left(c_{1}^{2} + 3\\right)}}{\\nu}\n",
       "\\end{math}"
      ],
      "text/plain": [
       "-2*(c1^2 + 3)/nu"
      ]
     },
     "metadata": {},
     "output_type": "display_data"
    },
    {
     "data": {
      "text/html": [
       "<html><script type=\"math/tex; mode=display\">\\newcommand{\\Bold}[1]{\\mathbf{#1}}-\\frac{8}{\\nu}</script></html>"
      ],
      "text/latex": [
       "\\begin{math}\n",
       "\\newcommand{\\Bold}[1]{\\mathbf{#1}}-\\frac{8}{\\nu}\n",
       "\\end{math}"
      ],
      "text/plain": [
       "-8/nu"
      ]
     },
     "metadata": {},
     "output_type": "display_data"
    }
   ],
   "source": [
    "display(g.ricci_scalar().expr().subs(mu=0))\n",
    "display(g.ricci_scalar().expr().subs(mu=sqrt(c)))"
   ]
  },
  {
   "cell_type": "markdown",
   "id": "f2bfb068",
   "metadata": {},
   "source": [
    "Notice that $\\operatorname{scal}(g_{\\sqrt c, \\nu})$ does not depend on $c$."
   ]
  },
  {
   "cell_type": "code",
   "execution_count": null,
   "id": "fbc2a83f",
   "metadata": {},
   "outputs": [],
   "source": []
  }
 ],
 "metadata": {
  "kernelspec": {
   "display_name": "SageMath 9.4",
   "language": "sage",
   "name": "sagemath"
  },
  "language_info": {
   "codemirror_mode": {
    "name": "ipython",
    "version": 3
   },
   "file_extension": ".py",
   "mimetype": "text/x-python",
   "name": "python",
   "nbconvert_exporter": "python",
   "pygments_lexer": "ipython3",
   "version": "3.9.6"
  }
 },
 "nbformat": 4,
 "nbformat_minor": 5
}
